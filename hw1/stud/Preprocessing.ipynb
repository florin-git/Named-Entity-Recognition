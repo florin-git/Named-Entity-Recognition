{
 "cells": [
  {
   "cell_type": "markdown",
   "id": "9ed023ea",
   "metadata": {},
   "source": [
    "# Setup"
   ]
  },
  {
   "cell_type": "code",
   "execution_count": 28,
   "id": "3b567e07",
   "metadata": {
    "executionInfo": {
     "elapsed": 7129,
     "status": "ok",
     "timestamp": 1649866044416,
     "user": {
      "displayName": "Florin Cuconasu",
      "userId": "13345521608196528334"
     },
     "user_tz": -120
    },
    "id": "3b567e07"
   },
   "outputs": [],
   "source": [
    "import numpy as np\n",
    "import pandas as pd\n",
    "import matplotlib.pyplot as plt\n",
    "\n",
    "import time\n",
    "import string\n",
    "import re\n",
    "from collections import Counter\n",
    "import random\n",
    "from typing import *\n",
    "import csv\n",
    "\n",
    "import torch\n",
    "from torch import nn\n",
    "from torch.utils.data import Dataset, DataLoader\n",
    "\n",
    "SEED = 10\n",
    "\n",
    "random.seed(SEED)\n",
    "np.random.seed(SEED)\n",
    "torch.manual_seed(SEED)\n",
    "torch.cuda.manual_seed(SEED)\n",
    "torch.backends.cudnn.deterministic = True\n",
    "\n",
    "# Display the entire text\n",
    "pd.set_option(\"display.max_colwidth\", None)"
   ]
  },
  {
   "cell_type": "code",
   "execution_count": 29,
   "id": "6cf2d708",
   "metadata": {
    "colab": {
     "base_uri": "https://localhost:8080/"
    },
    "executionInfo": {
     "elapsed": 12,
     "status": "ok",
     "timestamp": 1649866044418,
     "user": {
      "displayName": "Florin Cuconasu",
      "userId": "13345521608196528334"
     },
     "user_tz": -120
    },
    "id": "6cf2d708",
    "outputId": "fc5ebee7-ea71-436e-92e9-660a69dba9ad"
   },
   "outputs": [
    {
     "data": {
      "text/plain": [
       "device(type='cuda')"
      ]
     },
     "execution_count": 29,
     "metadata": {},
     "output_type": "execute_result"
    }
   ],
   "source": [
    "device = torch.device(\"cuda\" if torch.cuda.is_available() else \"cpu\")\n",
    "device"
   ]
  },
  {
   "cell_type": "code",
   "execution_count": 3,
   "id": "terw36yHE01T",
   "metadata": {
    "colab": {
     "base_uri": "https://localhost:8080/"
    },
    "executionInfo": {
     "elapsed": 17934,
     "status": "ok",
     "timestamp": 1649866063357,
     "user": {
      "displayName": "Florin Cuconasu",
      "userId": "13345521608196528334"
     },
     "user_tz": -120
    },
    "id": "terw36yHE01T",
    "outputId": "5fe2fc4b-9806-44e5-8efc-22c423bf5844"
   },
   "outputs": [],
   "source": [
    "from google.colab import drive\n",
    "drive.mount('/content/drive')"
   ]
  },
  {
   "cell_type": "markdown",
   "id": "4f30dbbd",
   "metadata": {},
   "source": [
    "# Preprocessing"
   ]
  },
  {
   "cell_type": "markdown",
   "id": "e366366f",
   "metadata": {},
   "source": [
    "This notebook contains all the relevant preprocessing part I have done.\n",
    "\n",
    "It is organized as follows:\n",
    "\n",
    "1. Data Preprocessing for POS tagging\n",
    "2. Data Analysis and Cleaning\n",
    "3. Word Embeddings\n",
    "4. Further Analysis"
   ]
  },
  {
   "cell_type": "code",
   "execution_count": null,
   "id": "ZGzQ14iEFuUj",
   "metadata": {
    "id": "ZGzQ14iEFuUj"
   },
   "outputs": [],
   "source": [
    "train_path = \"/content/drive/MyDrive/Colab Notebooks/NLP/nlp2022-hw1/data/train.tsv\"\n",
    "valid_path = \"/content/drive/MyDrive/Colab Notebooks/NLP/nlp2022-hw1/data/dev.tsv\""
   ]
  },
  {
   "cell_type": "code",
   "execution_count": 30,
   "id": "61b0bc95",
   "metadata": {
    "id": "61b0bc95"
   },
   "outputs": [],
   "source": [
    "train_path = \"../../data/train.tsv\"\n",
    "valid_path = \"../../data/dev.tsv\""
   ]
  },
  {
   "cell_type": "code",
   "execution_count": 32,
   "id": "46220571",
   "metadata": {
    "executionInfo": {
     "elapsed": 5,
     "status": "ok",
     "timestamp": 1649866063358,
     "user": {
      "displayName": "Florin Cuconasu",
      "userId": "13345521608196528334"
     },
     "user_tz": -120
    },
    "id": "46220571"
   },
   "outputs": [],
   "source": [
    "def read_dataset(data_path: str) -> (List[List[str]], List[List[str]]):\n",
    "    \"\"\"\n",
    "    Returns\n",
    "    -------\n",
    "        Two lists of lists containing sentences and labels respectively.\n",
    "        \n",
    "    Parameters\n",
    "    ----------\n",
    "    data_path: str\n",
    "        Data path of the dataset.\n",
    "    \"\"\"\n",
    "    \n",
    "    sentences_list = []\n",
    "    labels_list = []\n",
    "    \n",
    "    with open(data_path, \"r\", encoding='utf-8') as f:\n",
    "        for line in f:\n",
    "            row = line.strip()\n",
    "            \n",
    "            if row.startswith(\"#\\tid\"): # New sentence\n",
    "                sentence = []\n",
    "                labels = []\n",
    "                \n",
    "            elif row == \"\": # End of the sentence\n",
    "                sentences_list.append(sentence)\n",
    "                labels_list.append(labels)\n",
    "            \n",
    "            else: # Words of a sentence\n",
    "                word, label = row.split('\\t')\n",
    "                \n",
    "                sentence.append(word)\n",
    "                labels.append(label)\n",
    "   \n",
    "    return sentences_list, labels_list"
   ]
  },
  {
   "cell_type": "code",
   "execution_count": 33,
   "id": "11ce53e5",
   "metadata": {
    "id": "11ce53e5"
   },
   "outputs": [],
   "source": [
    "train_sentences, train_labels = read_dataset(train_path)\n",
    "valid_sentences, valid_labels = read_dataset(valid_path)"
   ]
  },
  {
   "cell_type": "markdown",
   "id": "f2652605",
   "metadata": {
    "id": "f2652605"
   },
   "source": [
    "# 1. Data Preprocessing for POS"
   ]
  },
  {
   "cell_type": "markdown",
   "id": "897be616",
   "metadata": {},
   "source": [
    "This section is about analyzing the data to be properly parsed by the Spacy POS tagger.\n",
    "\n",
    "In the Training part I will include also POS as additional features, therefore I used the [Spacy](https://spacy.io/usage/linguistic-features) library to obtain the POS of each token.\n",
    "\n",
    "However, the input data have a lot of noise and it is difficult for the pre-build Spacy parser to tokenize data correctly.\n",
    "For example, every time a token is a word contraction (e.g., can't, isn't, ecc.) or contains some punctuation at the end (e.g., the punctuation is not another token, but is put at end of the previous token, like in the second training sentences where we have \" is? \") the Spacy parser will separate the token into two parts (ca , n't) and so the resulting sentence will be of different length with respect the original one. "
   ]
  },
  {
   "cell_type": "code",
   "execution_count": 7,
   "id": "ba8b1a0b",
   "metadata": {},
   "outputs": [],
   "source": [
    "special_symbols = [\"؛\", \"۔\", \"،\", \"。\", \"؟\", \"।\", \"、\", \n",
    "                    \"，\", \"¡\", \"¿\", \"…\", \"‡\",\"×\", \"†\", \n",
    "                    \"√\", \"·\", \"→\", \"«\", \"»\", \"™\", \"′\", \n",
    "                    \"•\", \"„\", \"½\", \"¼\", \"¾\", \"∞\", \"θ\",\n",
    "                    \"∅\", \"²\", \"³\"]\n",
    "\n",
    "dashes = ['–', \"―\", \"—\"]\n",
    "translate_dashes = {dash: '-' for dash in dashes}\n",
    "quotes = [\"‘\",\"’\", \"“\", \"”\", \"„\", \"\\\"\"]\n",
    "translate_quotes = {quote: '\\'' for quote in quotes}\n",
    "\n",
    "currencies = ['£', '€', '¥', '฿', '₽', '﷼', '₴', '₠', '₡', '₢', '₣', '₤', '₥', '₦', '₧', '₨', '₩', '₪', '₫', '€', '₭', '₮', '₯', '₰', '₱', '₲', '₳', '₴', '₵', '₶', '₷', '₸', '₹', '₺', '₻', '₼', '₽', '₾', '₿']\n",
    "translate_currencies = {c: '$' for c in currencies}"
   ]
  },
  {
   "cell_type": "code",
   "execution_count": 8,
   "id": "a58aabd2",
   "metadata": {},
   "outputs": [],
   "source": [
    "import unicodedata\n",
    "\n",
    "def convert_in_ascii(string: str) -> str:\n",
    "    \"\"\"\n",
    "    Returns\n",
    "    -------\n",
    "        An ASCII string, where some non-ASCII characters\n",
    "        are replaced with the corrisponding ascii (e.g., è --> e).\n",
    "        If the string contains only non-ASCII characters, it\n",
    "        is substituted with an undescore '_'.\n",
    "        (e.g., chinese chars are replaced with '_').\n",
    "        \n",
    "        If the input is a single non-ASCII character, it\n",
    "        is replaced with the question mark '?'.\n",
    "        \n",
    "    Parameters\n",
    "    ----------\n",
    "    string: str\n",
    "        A string.\n",
    "    \"\"\"\n",
    "\n",
    "    replace_special_symbols = {sym: \"?\" for sym in special_symbols}\n",
    "    char_to_be_translated = {\n",
    "                            **translate_dashes,\n",
    "                            **translate_quotes,\n",
    "                            **translate_currencies,\n",
    "                            **replace_special_symbols\n",
    "                            }\n",
    "    \n",
    "    # Single char\n",
    "    if len(string) == 1:\n",
    "        string = string.translate(str.maketrans(char_to_be_translated))     \n",
    "        \n",
    "    in_ascii = unicodedata.normalize('NFKD', string).encode('ascii', 'ignore').decode()\n",
    "        \n",
    "    # If the string is not convertible with any ASCII char\n",
    "    if in_ascii == \"\":\n",
    "        in_ascii = \"_\"\n",
    "    \n",
    "    return in_ascii"
   ]
  },
  {
   "cell_type": "markdown",
   "id": "694dea9f",
   "metadata": {
    "id": "694dea9f"
   },
   "source": [
    "When the *convert_in_ascii* function returns the value '\\_', the non-ASCII string did not contain any convertible character in ASCII. These strings are for example russian, chinese, arabic words or particular symbols. I decided to replace them with '\\_' because the underscore is not present in the dataset and because those strings are not labeled as a particular entity, i.e., they are all 'O'.\n",
    "\n",
    "This ease the work to the POS tagger, as it will consider them as punctuation or as other tag (X), punctuation (PUNCT) and not as PROPN."
   ]
  },
  {
   "cell_type": "code",
   "execution_count": 20,
   "id": "7752ccd8",
   "metadata": {
    "id": "0b9afb9d"
   },
   "outputs": [],
   "source": [
    "symbols = [p for p in string.punctuation] + special_symbols\n",
    "\n",
    "symbols.remove('/') # Keep '/'\n",
    "symbols.remove('-') # Keep '-'\n",
    "\n",
    "symbols = \"\".join(symbols)\n",
    "\n",
    "def clean_text_for_POS(text: List[List[str]]) -> List[List[str]]:\n",
    "    \"\"\"\n",
    "    Returns\n",
    "    -------\n",
    "        A cleaned list of lists of strings where each number is\n",
    "        replaced with '1' and where special_symbols and non-ASCII\n",
    "        characters are processed in order to simply the work\n",
    "        of the POS tagger.\n",
    "        \n",
    "        The returned list is a new list, so the input is not\n",
    "        touched.\n",
    "        \n",
    "    Parameters\n",
    "    ----------\n",
    "    text: List[List[str]]\n",
    "        A list of lists of strings. \n",
    "        In this case each nested list is a sentence.\n",
    "    \"\"\"\n",
    "\n",
    "    # Substitute each number with 1\n",
    "    text = [re.sub(\"\\d+\", \"1\", token) for token in text] \n",
    "    \n",
    "    # Remove punctuation and special symbols contained in a token \n",
    "    # (e.g., if the tokens in the list are [\"what\" \"time\" \"it\" \"is?\"],\n",
    "    # then after the transformation --> [\"what\" \"time\" \"it\" \"is\"])                        \n",
    "    text = [token.translate(str.maketrans('', '', symbols)) if len(token)>1 else token for token in text] \n",
    "   \n",
    "    # Convert non-ASCII characters in their corrisponding ascii (e.g, è --> e)\n",
    "    text = [convert_in_ascii(token) if not token.isascii() else token for token in text]\n",
    "      \n",
    "    return text"
   ]
  },
  {
   "cell_type": "code",
   "execution_count": 21,
   "id": "c3c467c0",
   "metadata": {
    "id": "c3c467c0"
   },
   "outputs": [],
   "source": [
    "train_sentences = list(map(clean_text_for_POS, train_sentences))\n",
    "valid_sentences = list(map(clean_text_for_POS, valid_sentences))"
   ]
  },
  {
   "cell_type": "markdown",
   "id": "b9818a8e",
   "metadata": {
    "id": "b9818a8e"
   },
   "source": [
    "## 1.1 Spacy for POS"
   ]
  },
  {
   "cell_type": "code",
   "execution_count": null,
   "id": "YeLQSWcSVcTh",
   "metadata": {
    "id": "YeLQSWcSVcTh"
   },
   "outputs": [],
   "source": [
    "# !pip install -U pip setuptools wheel\n",
    "# !pip install -U 'spacy[cuda113]'"
   ]
  },
  {
   "cell_type": "code",
   "execution_count": 22,
   "id": "7426daff",
   "metadata": {
    "id": "7426daff",
    "outputId": "99943875-bd3c-46bc-bf86-906872646140"
   },
   "outputs": [
    {
     "data": {
      "text/plain": [
       "True"
      ]
     },
     "execution_count": 22,
     "metadata": {},
     "output_type": "execute_result"
    }
   ],
   "source": [
    "import spacy\n",
    "\n",
    "# !python -m spacy download en_core_web_lg\n",
    "spacy_pos = spacy.load(\"en_core_web_lg\", exclude=[\"ner\"])\n",
    "spacy.require_gpu()"
   ]
  },
  {
   "cell_type": "markdown",
   "id": "bc8c2977",
   "metadata": {},
   "source": [
    "Spacy accepts in input only strings, thus I need to convert each sentences in the form List[str] in a simple string. "
   ]
  },
  {
   "cell_type": "code",
   "execution_count": 34,
   "id": "c2c56864",
   "metadata": {
    "id": "c2c56864"
   },
   "outputs": [],
   "source": [
    "def list_of_str_form(text: List[List[str]]) -> List[str]:\n",
    "    \"\"\"\n",
    "    Returns\n",
    "    -------\n",
    "        A list of strings. Strings in the nested list\n",
    "        are joined by separating them by an empty space.\n",
    "        \n",
    "    Parameters\n",
    "    ----------\n",
    "    text: List[List[str]]\n",
    "        A list of lists of strings. \n",
    "    \"\"\"\n",
    "    \n",
    "    return [\" \".join(line) for line in text]"
   ]
  },
  {
   "cell_type": "code",
   "execution_count": 35,
   "id": "257393c9",
   "metadata": {
    "id": "257393c9"
   },
   "outputs": [],
   "source": [
    "train_sentences_single_list = list_of_str_form(train_sentences)\n",
    "valid_sentences_single_list = list_of_str_form(valid_sentences)"
   ]
  },
  {
   "cell_type": "markdown",
   "id": "562c1ecc",
   "metadata": {},
   "source": [
    "I modify the build-in tokenizer rules by looking at the official documentation:\n",
    "- Spacy [preprocessing](https://github.com/explosion/spaCy/tree/master/spacy/lang/en).\n",
    "- Spacy [modify existing rules](https://spacy.io/usage/linguistic-features#native-tokenizer-additions).\n",
    "\n",
    "The main problem with the Spacy tokenizer for the given dataset was to identity all the possible rules that split a token into two parts on the basis of many syntactic aspects. \n",
    "\n",
    "Some examples of what I wanted to avoid:\n",
    "- \"youre\" -> \"you\", \"re\"\n",
    "- \"whats\" -> \"what\", \"s\"\n",
    "- \"1am\" -> \"1\", \"am\"\n",
    "- \"1Kg\" -> \"1\", \"Kg\""
   ]
  },
  {
   "cell_type": "code",
   "execution_count": 25,
   "id": "c56f45c1",
   "metadata": {
    "id": "c56f45c1"
   },
   "outputs": [],
   "source": [
    "from spacy.lang.char_classes import ALPHA, ALPHA_LOWER, ALPHA_UPPER, CURRENCY, UNITS, PUNCT\n",
    "from spacy.lang.char_classes import CONCAT_QUOTES, LIST_ELLIPSES, LIST_ICONS, LIST_PUNCT, LIST_QUOTES \n",
    "from spacy.util import compile_infix_regex, compile_suffix_regex, compile_prefix_regex\n",
    "\n",
    "# Modify tokenizer infix patterns\n",
    "infixes = (\n",
    "    LIST_ELLIPSES\n",
    "    + LIST_ICONS\n",
    "    + [\n",
    "        r\"(?<=[0-9])[+\\*^](?=[0-9-])\",\n",
    "        r\"(?<=[{al}{q}])\\.(?=[{au}{q}])\".format(\n",
    "            al=ALPHA_LOWER, au=ALPHA_UPPER, q=CONCAT_QUOTES\n",
    "        ),\n",
    "        r\"(?<=[{a}]),(?=[{a}])\".format(a=ALPHA),\n",
    "        # ✅ Commented out regex that splits on hyphens between letters:\n",
    "        # r\"(?<=[{a}])(?:{h})(?=[{a}])\".format(a=ALPHA, h=HYPHENS),\n",
    "        # r\"(?<=[{a}0-9])[:<>=/](?=[{a}])\".format(a=ALPHA), REMOVE /\n",
    "        r\"(?<=[{a}0-9])[<>=](?=[{a}])\".format(a=ALPHA),\n",
    "    ]\n",
    ")\n",
    "\n",
    "infix_re = compile_infix_regex(infixes)\n",
    "spacy_pos.tokenizer.infix_finditer = infix_re.finditer"
   ]
  },
  {
   "cell_type": "code",
   "execution_count": 26,
   "id": "895698bd",
   "metadata": {
    "id": "895698bd"
   },
   "outputs": [],
   "source": [
    "prefixes = list(spacy_pos.Defaults.prefixes)\n",
    "prefixes.remove(\"\\(\")\n",
    "prefix_regex = spacy.util.compile_prefix_regex(prefixes)\n",
    "spacy_pos.tokenizer.prefix_search = prefix_regex.search"
   ]
  },
  {
   "cell_type": "code",
   "execution_count": 27,
   "id": "646bcab3",
   "metadata": {
    "id": "646bcab3"
   },
   "outputs": [],
   "source": [
    "suffixes = (\n",
    "    LIST_PUNCT\n",
    "    + LIST_ELLIPSES\n",
    "    + LIST_QUOTES\n",
    "    + LIST_ICONS\n",
    "    + [\"'s\", \"'S\", \"’s\", \"’S\", \"—\", \"–\"]\n",
    "    + [\n",
    "        r\"(?<=[0-9])\\+\",\n",
    "        r\"(?<=°[FfCcKk])\\.\",\n",
    "        r\"(?<=[0-9])(?:{c})\".format(c=CURRENCY),\n",
    "#         r\"(?<=[0-9])(?:{u})\".format(u=UNITS),\n",
    "        r\"(?<=[0-9{al}{e}{p}(?:{q})])\\.\".format(\n",
    "            al=ALPHA_LOWER, e=r\"%²\\-\\+\", q=CONCAT_QUOTES, p=PUNCT),\n",
    "        r\"(?<=[{au}][{au}])\\.\".format(au=ALPHA_UPPER),\n",
    "    ]\n",
    ")\n",
    "suffixes.remove(\"\\)\")\n",
    "suffix_re = compile_suffix_regex(suffixes)\n",
    "spacy_pos.tokenizer.suffix_search = suffix_re.search"
   ]
  },
  {
   "cell_type": "code",
   "execution_count": 28,
   "id": "de110980",
   "metadata": {
    "id": "de110980"
   },
   "outputs": [],
   "source": [
    "contraction = ['im', 'ive', 'id', 'youre', 'youve', 'youdve', 'youll', 'youd', 'shes', 'hes', 'hed', 'weve', 'whos', 'theyre', 'whats', 'thatll', 'thats', 'wheres', '\\t', 'dont', 'shouldve', 'll', 'arent', 'couldnt', 'didnt', 'doesnt', 'hadnt', 'hasnt', 'havent', 'isnt', 'cant', 'mightnt', 'mustnt', 'neednt', 'shant', 'shouldnt', 'oughtnt', 'wasnt', 'werent', 'wont', 'wouldnt', 'gonna', 'gotta', 'cannot', 'aint', 'hows', 'itd', 'itll', 'maynt']"
   ]
  },
  {
   "cell_type": "code",
   "execution_count": 29,
   "id": "0fa71215",
   "metadata": {
    "id": "0fa71215"
   },
   "outputs": [],
   "source": [
    "rules = spacy_pos.tokenizer.rules\n",
    "\n",
    "for contr in contraction:\n",
    "    del rules[contr]\n",
    "    \n",
    "# Rules for hours\n",
    "del rules['1am']\n",
    "del rules['1pm']\n",
    "\n",
    "spacy_pos.tokenizer.rules = rules"
   ]
  },
  {
   "cell_type": "code",
   "execution_count": null,
   "id": "y9rg33xg_jLs",
   "metadata": {
    "id": "y9rg33xg_jLs"
   },
   "outputs": [],
   "source": [
    "spacy_train_sentences = list(spacy_pos.pipe(train_sentences_single_list))\n",
    "spacy_valid_sentences = list(spacy_pos.pipe(valid_sentences_single_list))"
   ]
  },
  {
   "cell_type": "code",
   "execution_count": 31,
   "id": "92F4t2MUAm54",
   "metadata": {
    "id": "92F4t2MUAm54"
   },
   "outputs": [],
   "source": [
    "# This list was used to figure out which sentences were not tokenize as I wanted\n",
    "problematic_indices = []\n",
    "\n",
    "ds = train_sentences\n",
    "for idx, s in enumerate(ds):\n",
    "    if len(s) != len(spacy_train_sentences[idx]):\n",
    "        problematic_indices.append(idx)\n",
    "\n",
    "len(problematic_indices)"
   ]
  },
  {
   "cell_type": "markdown",
   "id": "b52a812f",
   "metadata": {},
   "source": [
    "## 1.2 Write Spacy Results"
   ]
  },
  {
   "cell_type": "code",
   "execution_count": null,
   "id": "ba4961e0",
   "metadata": {
    "id": "ba4961e0"
   },
   "outputs": [],
   "source": [
    "def write_pos(path: str, sentence_dataset: List[str]):\n",
    "    \"\"\"\n",
    "    Returns\n",
    "    -------\n",
    "        Writes in a file the results of the Spacy POS processing.\n",
    "        \n",
    "        The file structure is like the one of the input dataset,\n",
    "        i.e., a (token, label) tuple per line where each sentence\n",
    "        is separated by a white space.\n",
    "        \n",
    "    Parameters\n",
    "    ----------\n",
    "    path: str\n",
    "        Data path where to write the dataset.\n",
    "    sentence_dataset: List[str]\n",
    "        A list of strings. \n",
    "        In this case each string is a sentence.\n",
    "    \"\"\"\n",
    "    \n",
    "    with open(path, 'w', newline=\"\") as f:\n",
    "        tsv_writer = csv.writer(f, delimiter='\\t')\n",
    "\n",
    "                                        # Spacy tokenization\n",
    "        for idx, sentence in enumerate(spacy_pos.pipe(sentence_dataset)):\n",
    "            tsv_writer.writerow([\"#\", \"id\", idx])\n",
    "            for token in sentence:\n",
    "                if token.text == \"ie\" or token.text == \"eg\":\n",
    "                    tsv_writer.writerow([token, \"SCONJ\"])\n",
    "                else:\n",
    "                    tsv_writer.writerow([token, token.pos_])\n",
    "            tsv_writer.writerow([])"
   ]
  },
  {
   "cell_type": "code",
   "execution_count": 5,
   "id": "mqBoimIiWcXi",
   "metadata": {
    "executionInfo": {
     "elapsed": 224,
     "status": "ok",
     "timestamp": 1649866078303,
     "user": {
      "displayName": "Florin Cuconasu",
      "userId": "13345521608196528334"
     },
     "user_tz": -120
    },
    "id": "mqBoimIiWcXi"
   },
   "outputs": [],
   "source": [
    "train_pos_path = \"/content/drive/MyDrive/Colab Notebooks/NLP/nlp2022-hw1/data/train_pos.tsv\"\n",
    "valid_pos_path = \"/content/drive/MyDrive/Colab Notebooks/NLP/nlp2022-hw1/data/valid_pos.tsv\""
   ]
  },
  {
   "cell_type": "code",
   "execution_count": 4,
   "id": "76dd7386",
   "metadata": {
    "id": "76dd7386"
   },
   "outputs": [],
   "source": [
    "train_pos_path = \"../../data/train_pos.tsv\"\n",
    "valid_pos_path = \"../../data/valid_pos.tsv\""
   ]
  },
  {
   "cell_type": "markdown",
   "id": "27903fd9",
   "metadata": {},
   "source": [
    "```Python\n",
    "write_pos(train_pos_path, train_sentences_single_list)\n",
    "write_pos(valid_pos_path, valid_sentences_single_list)\n",
    "```"
   ]
  },
  {
   "cell_type": "code",
   "execution_count": 7,
   "id": "be0d7aeb",
   "metadata": {
    "executionInfo": {
     "elapsed": 1965,
     "status": "ok",
     "timestamp": 1649866081983,
     "user": {
      "displayName": "Florin Cuconasu",
      "userId": "13345521608196528334"
     },
     "user_tz": -120
    },
    "id": "be0d7aeb"
   },
   "outputs": [],
   "source": [
    "_, train_pos = read_dataset(train_pos_path)\n",
    "_, valid_pos = read_dataset(valid_pos_path)"
   ]
  },
  {
   "cell_type": "markdown",
   "id": "d7ce1376",
   "metadata": {},
   "source": [
    "I decided to inlcude also words dependencies to the final analysis."
   ]
  },
  {
   "cell_type": "code",
   "execution_count": 34,
   "id": "410f9d51",
   "metadata": {},
   "outputs": [],
   "source": [
    "def write_pos_dep(path, sentence_dataset: List[str]):\n",
    "    \"\"\"\n",
    "    Returns\n",
    "    -------\n",
    "        Writes in a file the results of the Spacy processing,\n",
    "        for POS, words dependencies and headwords.\n",
    "        \n",
    "        The file structure is similar to the one of the input dataset, \n",
    "        but we have three tokens per lines:\n",
    "        a (token, pos_label, dep_label) tuple per line where each sentence\n",
    "        is separated by a white space.\n",
    "        \n",
    "    Parameters\n",
    "    ----------\n",
    "    path: str\n",
    "        Data path where to write the dataset.\n",
    "    \n",
    "    sentence_dataset: List[str]\n",
    "        A list of strings. \n",
    "        In this case each string is a sentence.\n",
    "    \"\"\"\n",
    "    \n",
    "    with open(path, 'w', newline=\"\") as f:\n",
    "        tsv_writer = csv.writer(f, delimiter='\\t')\n",
    "\n",
    "        for idx, sentence in enumerate(spacy_pos.pipe(sentence_dataset)):\n",
    "            tsv_writer.writerow([\"#\", \"id\", idx])\n",
    "            for token in sentence:\n",
    "                tsv_writer.writerow([token, token.pos_, token.head.text, token.dep_])\n",
    "            tsv_writer.writerow([])"
   ]
  },
  {
   "cell_type": "code",
   "execution_count": null,
   "id": "7a4f1380",
   "metadata": {},
   "outputs": [],
   "source": [
    "train_pos_dep_path = \"/content/drive/MyDrive/Colab Notebooks/NLP/nlp2022-hw1/data/train_pos_dep.tsv\"\n",
    "valid_pos_dep_path = \"/content/drive/MyDrive/Colab Notebooks/NLP/nlp2022-hw1/data/valid_pos_dep.tsv\""
   ]
  },
  {
   "cell_type": "code",
   "execution_count": 40,
   "id": "9c62d69f",
   "metadata": {},
   "outputs": [],
   "source": [
    "train_pos_dep_path = \"../../data/train_pos_dep.tsv\"\n",
    "valid_pos_dep_path = \"../../data/valid_pos_dep.tsv\""
   ]
  },
  {
   "cell_type": "markdown",
   "id": "e1e1a5a9",
   "metadata": {
    "id": "49dac844"
   },
   "source": [
    "```Python\n",
    "write_pos_dep(train_pos_dep_path, train_sentences_single_list)\n",
    "write_pos_dep(valid_pos_dep_path, valid_sentences_single_list)\n",
    "```"
   ]
  },
  {
   "cell_type": "code",
   "execution_count": 41,
   "id": "09334635",
   "metadata": {},
   "outputs": [],
   "source": [
    "def read_dataset_pos_dep(data_path: str) -> (List[List[str]], List[List[str]], List[List[str]], List[List[str]]):\n",
    "    \"\"\"\n",
    "    Returns\n",
    "    -------\n",
    "        Four lists of lists containing sentences and POS labels,\n",
    "        headwords labels and dependencies labels respectively.\n",
    "        \n",
    "    Parameters\n",
    "    ----------\n",
    "    data_path: str\n",
    "        Data path of the dataset.\n",
    "    \"\"\"\n",
    "\n",
    "    sentences_list = []\n",
    "    labels_list = []\n",
    "    heads_list = []\n",
    "    dependencies_list = []\n",
    "    \n",
    "    with open(data_path, \"r\", encoding='utf-8') as f:\n",
    "        for line in f:\n",
    "            row = line.strip()\n",
    "            \n",
    "            if row.startswith(\"#\\tid\"): # New sentence\n",
    "                sentence = []\n",
    "                labels = []\n",
    "                dependencies = []\n",
    "                heads = []\n",
    "                \n",
    "            elif row == \"\": # End of the sentence\n",
    "                sentences_list.append(sentence)\n",
    "                labels_list.append(labels)\n",
    "                heads_list.append(heads)\n",
    "                dependencies_list.append(dependencies)\n",
    "            \n",
    "            else: # Words of a sentence\n",
    "                word, label, head, dep = row.split('\\t')\n",
    "                \n",
    "                sentence.append(word)\n",
    "                labels.append(label)\n",
    "                heads.append(head)\n",
    "                dependencies.append(dep)\n",
    "   \n",
    "    return sentences_list, labels_list, heads_list, dependencies_list"
   ]
  },
  {
   "cell_type": "code",
   "execution_count": 42,
   "id": "0504b8b8",
   "metadata": {},
   "outputs": [],
   "source": [
    "_, train_pos, train_heads, train_dep = read_dataset_pos_dep(train_pos_dep_path)\n",
    "_, valid_pos, valid_heads, valid_dep = read_dataset_pos_dep(valid_pos_dep_path)"
   ]
  },
  {
   "cell_type": "code",
   "execution_count": 193,
   "id": "dqXc8p0MWpmS",
   "metadata": {
    "colab": {
     "base_uri": "https://localhost:8080/"
    },
    "executionInfo": {
     "elapsed": 8,
     "status": "ok",
     "timestamp": 1649866081984,
     "user": {
      "displayName": "Florin Cuconasu",
      "userId": "13345521608196528334"
     },
     "user_tz": -120
    },
    "id": "dqXc8p0MWpmS",
    "outputId": "085f64ef-2e38-4884-f103-0e30fce622e3"
   },
   "outputs": [],
   "source": [
    "train_pos_dep = list(zip(train_pos, train_dep))"
   ]
  },
  {
   "cell_type": "markdown",
   "id": "f8a35414",
   "metadata": {
    "id": "f8a35414"
   },
   "source": [
    "# 2. Data Analysis and Cleaning"
   ]
  },
  {
   "cell_type": "markdown",
   "id": "d6c27c9f",
   "metadata": {},
   "source": [
    "## 2.1 Data Cleaning"
   ]
  },
  {
   "cell_type": "markdown",
   "id": "f50b5143",
   "metadata": {},
   "source": [
    "This section is about analyzing and cleaning the data in order to obtain a possibly uniform dataset.\n",
    "\n",
    "The cleaning process is similar to the one done for Spacy. The main differences are that I did not want to remove apostrophes and points (in order to keep acronyms). But, I decided to remove other types of punctuation at the end of a token (\"is?\" -> \"is\")."
   ]
  },
  {
   "cell_type": "code",
   "execution_count": 196,
   "id": "f4e9749f",
   "metadata": {
    "id": "f4e9749f"
   },
   "outputs": [],
   "source": [
    "remove_special_symbols = {sym: '' for sym in special_symbols}\n",
    "\n",
    "# Remove parenthesis when they are present with the token\n",
    "# e.g., (house) --> house\n",
    "remove_parenthesis = {\n",
    "    '(': '',\n",
    "    ')': '',\n",
    "    '[': '',\n",
    "    '{': '',\n",
    "    ']': '',\n",
    "    '}': ''\n",
    "}\n",
    "char_to_be_translated = {\n",
    "                        **translate_dashes, \n",
    "                        **translate_quotes,\n",
    "                        **translate_currencies,\n",
    "                        **remove_parenthesis,\n",
    "                        **remove_special_symbols,\n",
    "                        }\n",
    "\n",
    "# Transform parenthesis when they are the only token ( len(token)==1 ) \n",
    "# e.g., [ --> (\n",
    "translate_parenthesis = {\n",
    "    '[': '(',\n",
    "    '{': '(',\n",
    "    ']': ')',\n",
    "    '}': ')'\n",
    "}\n",
    "\n",
    "\n",
    "punc_to_remove_from_end = \",;:'?!+-\"\n",
    "\n",
    "# The input list is not modified\n",
    "def clean_text(text: List[List[str]]) -> List[List[str]]:\n",
    "    \"\"\"\n",
    "    Returns\n",
    "    -------\n",
    "        A cleaned list of lists of strings where each number is\n",
    "        replaced with '1' and where special_symbols and non-ASCII\n",
    "        characters are processed in order to get unifom data.\n",
    "        \n",
    "        The returned list is a new list, so the input is not\n",
    "        touched.\n",
    "        \n",
    "    Parameters\n",
    "    ----------\n",
    "    text: List[List[str]]\n",
    "        A list of lists of strings. \n",
    "        In this case each nested list is a sentence.\n",
    "    \"\"\"\n",
    "\n",
    "    # Substitute each number with 1\n",
    "    text = [re.sub(\"\\d+\", \"1\", token) for token in text] \n",
    "    \n",
    "    # Remove punctuation contained in a token \n",
    "    # (e.g., if the tokens in the list are [\"what\" \"time\" \"it\" \"is?\"],\n",
    "    # then after the transformation --> [\"what\" \"time\" \"it\" \"is\"])                        \n",
    "    text = [token.translate(str.maketrans(char_to_be_translated)) if len(token)>1 else token for token in text] \n",
    "   \n",
    "    \n",
    "    text = [token.translate(str.maketrans(translate_parenthesis)) if len(token)==1 else token for token in text] \n",
    "\n",
    "    text_without_last_punc = [\"_\" for _ in range(len(text))]\n",
    "    for idx, token in enumerate(text):\n",
    "        text_without_last_punc[idx] = token\n",
    "        \n",
    "        if len(token) > 1:\n",
    "            last_char = text_without_last_punc[idx][-1]\n",
    "            while last_char in punc_to_remove_from_end:\n",
    "                text_without_last_punc[idx] = text_without_last_punc[idx][:-1] \n",
    "                last_char = text_without_last_punc[idx][-1]\n",
    "\n",
    "    text = text_without_last_punc\n",
    "\n",
    "    # Convert non-ASCII characters in their corrisponding ascii (e.g, è --> e)\n",
    "    text = [convert_in_ascii(token) if not token.isascii() else token for token in text]\n",
    "      \n",
    "    return text"
   ]
  },
  {
   "cell_type": "code",
   "execution_count": 10,
   "id": "f5ec5060",
   "metadata": {
    "id": "f5ec5060"
   },
   "outputs": [],
   "source": [
    "train_path = \"../../data/train.tsv\"\n",
    "valid_path = \"../../data/dev.tsv\""
   ]
  },
  {
   "cell_type": "code",
   "execution_count": 11,
   "id": "d8032c52",
   "metadata": {
    "id": "d8032c52"
   },
   "outputs": [],
   "source": [
    "train_sentences, train_labels = read_dataset(train_path)\n",
    "valid_sentences, valid_labels = read_dataset(valid_path)"
   ]
  },
  {
   "cell_type": "code",
   "execution_count": 13,
   "id": "5ead41de",
   "metadata": {
    "id": "5ead41de"
   },
   "outputs": [],
   "source": [
    "train_sentences = list(map(clean_text, train_sentences))\n",
    "valid_sentences = list(map(clean_text, valid_sentences))"
   ]
  },
  {
   "cell_type": "code",
   "execution_count": 15,
   "id": "5e96451a",
   "metadata": {
    "id": "5e96451a"
   },
   "outputs": [],
   "source": [
    "def write_clean_ds(path, sentence_dataset: List[List[str]], labels_dataset: List[List[str]]):\n",
    "    \"\"\"\n",
    "    Returns\n",
    "    -------\n",
    "        Writes a dataset in a file.\n",
    "        \n",
    "        The file structure is like the one of the input dataset,\n",
    "        i.e., a (token, label) tuple per line where each sentence\n",
    "        is separated by a white space.\n",
    "        \n",
    "    Parameters\n",
    "    ----------\n",
    "    path: str\n",
    "        Data path where to write the dataset.\n",
    "    sentence_dataset: List[str]\n",
    "        A list of strings. \n",
    "        In this case each nested list is a sentence.\n",
    "    \"\"\"\n",
    "    \n",
    "    with open(path, 'w', newline=\"\", encoding='utf-8') as f:\n",
    "        tsv_writer = csv.writer(f, delimiter='\\t')\n",
    "\n",
    "        for s_idx, sentence in enumerate(sentence_dataset):\n",
    "            tsv_writer.writerow([\"#\", \"id\", s_idx])\n",
    "            for t_idx, token in enumerate(sentence):\n",
    "                tsv_writer.writerow([token, labels_dataset[s_idx][t_idx]])\n",
    "            tsv_writer.writerow([])"
   ]
  },
  {
   "cell_type": "code",
   "execution_count": 8,
   "id": "dHG1ZhDIXd4b",
   "metadata": {
    "executionInfo": {
     "elapsed": 215,
     "status": "ok",
     "timestamp": 1649866091240,
     "user": {
      "displayName": "Florin Cuconasu",
      "userId": "13345521608196528334"
     },
     "user_tz": -120
    },
    "id": "dHG1ZhDIXd4b"
   },
   "outputs": [],
   "source": [
    "train_clean_path = \"/content/drive/MyDrive/Colab Notebooks/NLP/nlp2022-hw1/data/train_clean.tsv\"\n",
    "valid_clean_path = \"/content/drive/MyDrive/Colab Notebooks/NLP/nlp2022-hw1/data/valid_clean.tsv\""
   ]
  },
  {
   "cell_type": "code",
   "execution_count": 43,
   "id": "132a69b7",
   "metadata": {
    "id": "132a69b7"
   },
   "outputs": [],
   "source": [
    "train_clean_path = \"../../data/train_clean.tsv\"\n",
    "valid_clean_path = \"../../data/valid_clean.tsv\""
   ]
  },
  {
   "cell_type": "markdown",
   "id": "16f7f2a0",
   "metadata": {
    "id": "c1872a71"
   },
   "source": [
    "```Python\n",
    "write_clean_ds(train_clean_path, train_sentences, train_labels)\n",
    "write_clean_ds(valid_clean_path, valid_sentences, valid_labels)\n",
    "```"
   ]
  },
  {
   "cell_type": "code",
   "execution_count": 44,
   "id": "65304577",
   "metadata": {
    "executionInfo": {
     "elapsed": 1073,
     "status": "ok",
     "timestamp": 1649866095700,
     "user": {
      "displayName": "Florin Cuconasu",
      "userId": "13345521608196528334"
     },
     "user_tz": -120
    },
    "id": "65304577"
   },
   "outputs": [],
   "source": [
    "train_sentences, train_labels = read_dataset(train_clean_path)\n",
    "valid_sentences, valid_labels = read_dataset(valid_clean_path)"
   ]
  },
  {
   "cell_type": "markdown",
   "id": "9f8965f0",
   "metadata": {
    "id": "0f758d06"
   },
   "source": [
    "## 2.2 Data Analysis"
   ]
  },
  {
   "cell_type": "code",
   "execution_count": 38,
   "id": "5a76f651",
   "metadata": {
    "id": "5a76f651"
   },
   "outputs": [],
   "source": [
    "df_train_sentences = pd.DataFrame(train_sentences_single_list, columns=['sentence'])"
   ]
  },
  {
   "cell_type": "code",
   "execution_count": 39,
   "id": "f08afaf2",
   "metadata": {
    "colab": {
     "base_uri": "https://localhost:8080/",
     "height": 1000
    },
    "collapsed": true,
    "executionInfo": {
     "elapsed": 236,
     "status": "ok",
     "timestamp": 1649656909753,
     "user": {
      "displayName": "Florin Cuconasu",
      "userId": "13345521608196528334"
     },
     "user_tz": -120
    },
    "id": "f08afaf2",
    "outputId": "98b2e04b-869f-440c-bd96-69ea2c565a82"
   },
   "outputs": [
    {
     "data": {
      "text/html": [
       "<div>\n",
       "<style scoped>\n",
       "    .dataframe tbody tr th:only-of-type {\n",
       "        vertical-align: middle;\n",
       "    }\n",
       "\n",
       "    .dataframe tbody tr th {\n",
       "        vertical-align: top;\n",
       "    }\n",
       "\n",
       "    .dataframe thead th {\n",
       "        text-align: right;\n",
       "    }\n",
       "</style>\n",
       "<table border=\"1\" class=\"dataframe\">\n",
       "  <thead>\n",
       "    <tr style=\"text-align: right;\">\n",
       "      <th></th>\n",
       "      <th>sentence</th>\n",
       "    </tr>\n",
       "  </thead>\n",
       "  <tbody>\n",
       "    <tr>\n",
       "      <th>5349</th>\n",
       "      <td>french chemist pierre adet proved them identical .</td>\n",
       "    </tr>\n",
       "    <tr>\n",
       "      <th>11622</th>\n",
       "      <td>timberlake first designed and made a chest of drawers when he was 14 and 15 which took him 350 hours to complete .</td>\n",
       "    </tr>\n",
       "    <tr>\n",
       "      <th>14491</th>\n",
       "      <td>a collaboration with dowdupont led to a mandatory herbicide labeling program , in which each mode of action is clearly identified by a letter of the alphabet .</td>\n",
       "    </tr>\n",
       "    <tr>\n",
       "      <th>4898</th>\n",
       "      <td>ray was a graduate of the state university of new york at purchase .</td>\n",
       "    </tr>\n",
       "    <tr>\n",
       "      <th>1126</th>\n",
       "      <td>first proposed in 1996 , the project has since been subject to a number of academic discussions and feasibility studies , including by the china railway engineering corporation .</td>\n",
       "    </tr>\n",
       "    <tr>\n",
       "      <th>13067</th>\n",
       "      <td>all quiet on the western front by elton john is inspired by the novel of the same title by erich maria remarque .</td>\n",
       "    </tr>\n",
       "    <tr>\n",
       "      <th>3693</th>\n",
       "      <td>who played celine and julie go boating in blue period</td>\n",
       "    </tr>\n",
       "    <tr>\n",
       "      <th>702</th>\n",
       "      <td>since the late 1960s , the classic rolling stock has been replaced by modern cars based on pcc streetcar technology .</td>\n",
       "    </tr>\n",
       "    <tr>\n",
       "      <th>5469</th>\n",
       "      <td>ahmet taner kışlalı ( 1939 1999 ) , academic , political scientist , columnist , intellectual</td>\n",
       "    </tr>\n",
       "    <tr>\n",
       "      <th>13829</th>\n",
       "      <td>jane monheit – vocals ( tracks 6 , 7 )</td>\n",
       "    </tr>\n",
       "    <tr>\n",
       "      <th>11710</th>\n",
       "      <td>rolls collected art including sketches by henry fuseli and illuminated manuscripts .</td>\n",
       "    </tr>\n",
       "    <tr>\n",
       "      <th>7915</th>\n",
       "      <td>as well as corollaries relating to computer , such as :</td>\n",
       "    </tr>\n",
       "    <tr>\n",
       "      <th>13722</th>\n",
       "      <td>the awards are based on jade solid gold show on tvb .</td>\n",
       "    </tr>\n",
       "    <tr>\n",
       "      <th>12477</th>\n",
       "      <td>within the northeast segment , the route from antonito to alamosa was paved by 1936 .</td>\n",
       "    </tr>\n",
       "    <tr>\n",
       "      <th>6287</th>\n",
       "      <td>from 1956 to 1985 he was the first president of caledonian union .</td>\n",
       "    </tr>\n",
       "    <tr>\n",
       "      <th>9794</th>\n",
       "      <td>bekker is a mid range official in the social democratic workers' party .</td>\n",
       "    </tr>\n",
       "    <tr>\n",
       "      <th>8930</th>\n",
       "      <td>remember , ive done a lot of movies with ridley scott .</td>\n",
       "    </tr>\n",
       "    <tr>\n",
       "      <th>12324</th>\n",
       "      <td>he transforms into a ford mustang v saleen s281 police car .</td>\n",
       "    </tr>\n",
       "    <tr>\n",
       "      <th>9363</th>\n",
       "      <td>behind this motion were severe attacks made on his probity by the age newspaper .</td>\n",
       "    </tr>\n",
       "    <tr>\n",
       "      <th>8813</th>\n",
       "      <td>taken from the recording by john o'conor on telarc international corporation ( cd80261 ) .</td>\n",
       "    </tr>\n",
       "    <tr>\n",
       "      <th>2036</th>\n",
       "      <td>there have also been invited comedians like robin ince .</td>\n",
       "    </tr>\n",
       "    <tr>\n",
       "      <th>6706</th>\n",
       "      <td>: model powered by a rotax 582 two stroke powerplant .</td>\n",
       "    </tr>\n",
       "    <tr>\n",
       "      <th>3498</th>\n",
       "      <td>its inhabitants are predominantly alawites .</td>\n",
       "    </tr>\n",
       "    <tr>\n",
       "      <th>4429</th>\n",
       "      <td>switzerland and australia are the two countries with the highest proportion of immigrants in the world .</td>\n",
       "    </tr>\n",
       "    <tr>\n",
       "      <th>190</th>\n",
       "      <td>schilpp was for many years the editor of the library of living philosophers .</td>\n",
       "    </tr>\n",
       "    <tr>\n",
       "      <th>3287</th>\n",
       "      <td>in 2008 , gameloft redeveloped the game for ios .</td>\n",
       "    </tr>\n",
       "    <tr>\n",
       "      <th>1166</th>\n",
       "      <td>there are also other routes not running due to ongoing works on the bucharest metro line m4 and bucharest metro line m5 metro lines .</td>\n",
       "    </tr>\n",
       "    <tr>\n",
       "      <th>507</th>\n",
       "      <td>since 2002 , the team welcomed hiromi hara as its manager and aimed for a championship with a strong offense .</td>\n",
       "    </tr>\n",
       "    <tr>\n",
       "      <th>7215</th>\n",
       "      <td>freed slaves moved to the city , where many were attracted by the new centers for education such as the united states bureau of refugees, freedmen and abandoned lands .</td>\n",
       "    </tr>\n",
       "    <tr>\n",
       "      <th>12023</th>\n",
       "      <td>he had signed the americans for tax reform pledge not to raise any taxes .</td>\n",
       "    </tr>\n",
       "    <tr>\n",
       "      <th>3547</th>\n",
       "      <td>the washington post said that even when a game gives the impression of 3 dimensionality , it suffers from hollow vector graphics .</td>\n",
       "    </tr>\n",
       "    <tr>\n",
       "      <th>1998</th>\n",
       "      <td>former guy motors truck and bus plant .</td>\n",
       "    </tr>\n",
       "    <tr>\n",
       "      <th>3896</th>\n",
       "      <td>i m surprised it 's lasted this long , said original project architect john lyall . the site is going to be the new home for the army medical services museum</td>\n",
       "    </tr>\n",
       "    <tr>\n",
       "      <th>9460</th>\n",
       "      <td>even flow ( vedder , gossard ) – 8 : 07</td>\n",
       "    </tr>\n",
       "    <tr>\n",
       "      <th>9317</th>\n",
       "      <td>i can't get started ( vernon duke , ira gershwin ) 4 : 03</td>\n",
       "    </tr>\n",
       "    <tr>\n",
       "      <th>12972</th>\n",
       "      <td>he was a member of the indian national congress political party from aurangabad , maharashtra .</td>\n",
       "    </tr>\n",
       "    <tr>\n",
       "      <th>8091</th>\n",
       "      <td>tham is the second largest shareholder in h&amp;m and holds 5.32 % of the shares ; her brother stefan persson has 37.69 % .</td>\n",
       "    </tr>\n",
       "    <tr>\n",
       "      <th>568</th>\n",
       "      <td>yesss , a character in the animated film ralph breaks the internet</td>\n",
       "    </tr>\n",
       "    <tr>\n",
       "      <th>10681</th>\n",
       "      <td>in serbia , the frequency of the surname was higher than average ( 1 : 360 ) in the following districts :</td>\n",
       "    </tr>\n",
       "    <tr>\n",
       "      <th>5148</th>\n",
       "      <td>ernst krieck ( 1882 1947 ) , teacher , writer and professor , influential on pedagogy in national socialism</td>\n",
       "    </tr>\n",
       "    <tr>\n",
       "      <th>11576</th>\n",
       "      <td>sam esmail , film and television producer known for mr. robot and homecoming , resident of a few years</td>\n",
       "    </tr>\n",
       "    <tr>\n",
       "      <th>2801</th>\n",
       "      <td>after their marriage , the couple moved to pensacola .</td>\n",
       "    </tr>\n",
       "    <tr>\n",
       "      <th>710</th>\n",
       "      <td>the shady dealings were revealed by the miami herald at the beginning of 1988 .</td>\n",
       "    </tr>\n",
       "    <tr>\n",
       "      <th>2310</th>\n",
       "      <td>tracks 5 , 8 , and 11 produced and mixed by rob schnapf</td>\n",
       "    </tr>\n",
       "    <tr>\n",
       "      <th>8600</th>\n",
       "      <td>forced anal penetration , with dildo , butt plug , and similar objects .</td>\n",
       "    </tr>\n",
       "    <tr>\n",
       "      <th>1274</th>\n",
       "      <td>on rotten tomatoes , the first season received a score of 80 % based on 10 reviews .</td>\n",
       "    </tr>\n",
       "    <tr>\n",
       "      <th>8522</th>\n",
       "      <td>it can be played on the super game boy , and gives slight changes to the game , such as adding a custom color scheme , a special game border , and a few new sound effects .</td>\n",
       "    </tr>\n",
       "    <tr>\n",
       "      <th>9486</th>\n",
       "      <td>zyryanov started to play football in local club fc zvezda perm .</td>\n",
       "    </tr>\n",
       "    <tr>\n",
       "      <th>673</th>\n",
       "      <td>the building was listed on the national register of historic places in 2003 .</td>\n",
       "    </tr>\n",
       "    <tr>\n",
       "      <th>10812</th>\n",
       "      <td>demski is a past president of the american accounting association .</td>\n",
       "    </tr>\n",
       "  </tbody>\n",
       "</table>\n",
       "</div>"
      ],
      "text/plain": [
       "                                                                                                                                                                                 sentence\n",
       "5349                                                                                                                                   french chemist pierre adet proved them identical .\n",
       "11622                                                                  timberlake first designed and made a chest of drawers when he was 14 and 15 which took him 350 hours to complete .\n",
       "14491                     a collaboration with dowdupont led to a mandatory herbicide labeling program , in which each mode of action is clearly identified by a letter of the alphabet .\n",
       "4898                                                                                                                 ray was a graduate of the state university of new york at purchase .\n",
       "1126   first proposed in 1996 , the project has since been subject to a number of academic discussions and feasibility studies , including by the china railway engineering corporation .\n",
       "13067                                                                   all quiet on the western front by elton john is inspired by the novel of the same title by erich maria remarque .\n",
       "3693                                                                                                                                who played celine and julie go boating in blue period\n",
       "702                                                                 since the late 1960s , the classic rolling stock has been replaced by modern cars based on pcc streetcar technology .\n",
       "5469                                                                                        ahmet taner kışlalı ( 1939 1999 ) , academic , political scientist , columnist , intellectual\n",
       "13829                                                                                                                                              jane monheit – vocals ( tracks 6 , 7 )\n",
       "11710                                                                                                rolls collected art including sketches by henry fuseli and illuminated manuscripts .\n",
       "7915                                                                                                                              as well as corollaries relating to computer , such as :\n",
       "13722                                                                                                                               the awards are based on jade solid gold show on tvb .\n",
       "12477                                                                                               within the northeast segment , the route from antonito to alamosa was paved by 1936 .\n",
       "6287                                                                                                                   from 1956 to 1985 he was the first president of caledonian union .\n",
       "9794                                                                                                             bekker is a mid range official in the social democratic workers' party .\n",
       "8930                                                                                                                              remember , ive done a lot of movies with ridley scott .\n",
       "12324                                                                                                                        he transforms into a ford mustang v saleen s281 police car .\n",
       "9363                                                                                                    behind this motion were severe attacks made on his probity by the age newspaper .\n",
       "8813                                                                                           taken from the recording by john o'conor on telarc international corporation ( cd80261 ) .\n",
       "2036                                                                                                                             there have also been invited comedians like robin ince .\n",
       "6706                                                                                                                               : model powered by a rotax 582 two stroke powerplant .\n",
       "3498                                                                                                                                         its inhabitants are predominantly alawites .\n",
       "4429                                                                             switzerland and australia are the two countries with the highest proportion of immigrants in the world .\n",
       "190                                                                                                         schilpp was for many years the editor of the library of living philosophers .\n",
       "3287                                                                                                                                    in 2008 , gameloft redeveloped the game for ios .\n",
       "1166                                                there are also other routes not running due to ongoing works on the bucharest metro line m4 and bucharest metro line m5 metro lines .\n",
       "507                                                                        since 2002 , the team welcomed hiromi hara as its manager and aimed for a championship with a strong offense .\n",
       "7215             freed slaves moved to the city , where many were attracted by the new centers for education such as the united states bureau of refugees, freedmen and abandoned lands .\n",
       "12023                                                                                                          he had signed the americans for tax reform pledge not to raise any taxes .\n",
       "3547                                                   the washington post said that even when a game gives the impression of 3 dimensionality , it suffers from hollow vector graphics .\n",
       "1998                                                                                                                                              former guy motors truck and bus plant .\n",
       "3896                        i m surprised it 's lasted this long , said original project architect john lyall . the site is going to be the new home for the army medical services museum\n",
       "9460                                                                                                                                              even flow ( vedder , gossard ) – 8 : 07\n",
       "9317                                                                                                                            i can't get started ( vernon duke , ira gershwin ) 4 : 03\n",
       "12972                                                                                     he was a member of the indian national congress political party from aurangabad , maharashtra .\n",
       "8091                                                              tham is the second largest shareholder in h&m and holds 5.32 % of the shares ; her brother stefan persson has 37.69 % .\n",
       "568                                                                                                                    yesss , a character in the animated film ralph breaks the internet\n",
       "10681                                                                           in serbia , the frequency of the surname was higher than average ( 1 : 360 ) in the following districts :\n",
       "5148                                                                          ernst krieck ( 1882 1947 ) , teacher , writer and professor , influential on pedagogy in national socialism\n",
       "11576                                                                              sam esmail , film and television producer known for mr. robot and homecoming , resident of a few years\n",
       "2801                                                                                                                               after their marriage , the couple moved to pensacola .\n",
       "710                                                                                                       the shady dealings were revealed by the miami herald at the beginning of 1988 .\n",
       "2310                                                                                                                              tracks 5 , 8 , and 11 produced and mixed by rob schnapf\n",
       "8600                                                                                                             forced anal penetration , with dildo , butt plug , and similar objects .\n",
       "1274                                                                                                 on rotten tomatoes , the first season received a score of 80 % based on 10 reviews .\n",
       "8522         it can be played on the super game boy , and gives slight changes to the game , such as adding a custom color scheme , a special game border , and a few new sound effects .\n",
       "9486                                                                                                                     zyryanov started to play football in local club fc zvezda perm .\n",
       "673                                                                                                         the building was listed on the national register of historic places in 2003 .\n",
       "10812                                                                                                                 demski is a past president of the american accounting association ."
      ]
     },
     "execution_count": 39,
     "metadata": {},
     "output_type": "execute_result"
    }
   ],
   "source": [
    "df_train_sentences.sample(50)"
   ]
  },
  {
   "cell_type": "code",
   "execution_count": 45,
   "id": "d217ad4d",
   "metadata": {
    "executionInfo": {
     "elapsed": 193,
     "status": "ok",
     "timestamp": 1649866115713,
     "user": {
      "displayName": "Florin Cuconasu",
      "userId": "13345521608196528334"
     },
     "user_tz": -120
    },
    "id": "d217ad4d"
   },
   "outputs": [],
   "source": [
    "# Utility function taken from the 'evaluate.py' script\n",
    "def flat_list(l: List[List[Any]]) -> List[Any]:\n",
    "    \"\"\"\n",
    "    Returns\n",
    "    -------\n",
    "        A single list containing all elements that\n",
    "        were in the input list.\n",
    "        \n",
    "    Parameters\n",
    "    ----------\n",
    "    l: List[List[Any]]\n",
    "        A list of lists of any type\n",
    "    \"\"\"\n",
    "    return [_e for e in l for _e in e]"
   ]
  },
  {
   "cell_type": "code",
   "execution_count": 46,
   "id": "th8AhJ-dggFF",
   "metadata": {
    "executionInfo": {
     "elapsed": 3,
     "status": "ok",
     "timestamp": 1649866116825,
     "user": {
      "displayName": "Florin Cuconasu",
      "userId": "13345521608196528334"
     },
     "user_tz": -120
    },
    "id": "th8AhJ-dggFF"
   },
   "outputs": [],
   "source": [
    "def freq_most_common_tokens(dataset_text: List[List[str]], n: int = 20) -> dict:\n",
    "    \"\"\"\n",
    "    Returns\n",
    "    -------\n",
    "        The first n common tokens and their frequencies, where the tokens are\n",
    "        retrieved from the list 'dataset_text'.\n",
    "        \n",
    "    Parameters\n",
    "    ----------\n",
    "    dataset_text: List[List[str]]\n",
    "        A list of lists of strings. \n",
    "        In this case each nested list is a sentence.\n",
    "    \n",
    "    n: int\n",
    "        Indicates how many tokens to consider.\n",
    "        If it is a negative number, \n",
    "        the function returns the frequencies of all the tokens in the dataset.\n",
    "    \n",
    "    \"\"\"\n",
    "    # The input is flattened\n",
    "    tokens = flat_list(dataset_text)  \n",
    "\n",
    "    # If negative number, return the frequency of all the tokens\n",
    "    if n <= -1:\n",
    "        return dict(Counter(tokens).most_common(len(Counter(tokens))))\n",
    "    else:\n",
    "        return dict(Counter(tokens).most_common(n))"
   ]
  },
  {
   "cell_type": "code",
   "execution_count": 47,
   "id": "c9e2fb5f",
   "metadata": {
    "id": "c9e2fb5f"
   },
   "outputs": [],
   "source": [
    "from matplotlib.pyplot import figure\n",
    "def plot_freq(frequencies: dict, title: str = \"plot\"):\n",
    "    \"\"\"\n",
    "    Returns\n",
    "    -------\n",
    "        A bar chart with frequency of tokens.\n",
    "    \"\"\"\n",
    "    figure(figsize=(8, 4), dpi=80)\n",
    "\n",
    "    words = list(frequencies.keys())\n",
    "    freq = list(frequencies.values())\n",
    "\n",
    "    plt.bar(range(len(frequencies)), freq, tick_label=words)\n",
    "    plt.xticks(rotation=45)\n",
    "    plt.title(title)\n",
    "    plt.show()"
   ]
  },
  {
   "cell_type": "code",
   "execution_count": 52,
   "id": "c814e92e",
   "metadata": {
    "colab": {
     "base_uri": "https://localhost:8080/",
     "height": 322
    },
    "executionInfo": {
     "elapsed": 777,
     "status": "ok",
     "timestamp": 1649311321038,
     "user": {
      "displayName": "Florin Cuconasu",
      "userId": "13345521608196528334"
     },
     "user_tz": -120
    },
    "id": "c814e92e",
    "outputId": "06c9bb67-b266-4676-e406-ea8f38692d3e",
    "scrolled": true
   },
   "outputs": [
    {
     "data": {
      "image/png": "[encoded data removed]",
      "text/plain": [
       "<Figure size 640x320 with 1 Axes>"
      ]
     },
     "metadata": {
      "needs_background": "light"
     },
     "output_type": "display_data"
    }
   ],
   "source": [
    "plot_freq(freq_most_common_tokens(train_sentences), title=\"Common Tokens\")"
   ]
  },
  {
   "cell_type": "markdown",
   "id": "205d6e4d",
   "metadata": {},
   "source": [
    "As we can see the dataset is very unbalanced."
   ]
  },
  {
   "cell_type": "code",
   "execution_count": 216,
   "id": "cf93c9fd",
   "metadata": {
    "colab": {
     "base_uri": "https://localhost:8080/",
     "height": 336
    },
    "executionInfo": {
     "elapsed": 266,
     "status": "ok",
     "timestamp": 1649311324506,
     "user": {
      "displayName": "Florin Cuconasu",
      "userId": "13345521608196528334"
     },
     "user_tz": -120
    },
    "id": "cf93c9fd",
    "outputId": "de22279e-c928-41bd-ad8b-2093a2fe3c76",
    "scrolled": false
   },
   "outputs": [
    {
     "data": {
      "image/png": "[encoded data removed]",
      "text/plain": [
       "<Figure size 640x320 with 1 Axes>"
      ]
     },
     "metadata": {
      "needs_background": "light"
     },
     "output_type": "display_data"
    }
   ],
   "source": [
    "labels_freq = freq_most_common_tokens(train_labels, n=-1)\n",
    "\n",
    "plot_freq(labels_freq, title=\"Common Labels\")"
   ]
  },
  {
   "cell_type": "code",
   "execution_count": 217,
   "id": "41874bf0",
   "metadata": {
    "colab": {
     "base_uri": "https://localhost:8080/"
    },
    "executionInfo": {
     "elapsed": 285,
     "status": "ok",
     "timestamp": 1649508334050,
     "user": {
      "displayName": "Florin Cuconasu",
      "userId": "13345521608196528334"
     },
     "user_tz": -120
    },
    "id": "41874bf0",
    "outputId": "fecb4751-0e52-4e51-eae8-10420530314d"
   },
   "outputs": [
    {
     "data": {
      "text/plain": [
       "{'O': 192841,\n",
       " 'PER': 10895,\n",
       " 'GRP': 9459,\n",
       " 'CW': 9267,\n",
       " 'LOC': 7154,\n",
       " 'CORP': 5962,\n",
       " 'PROD': 4480}"
      ]
     },
     "execution_count": 217,
     "metadata": {},
     "output_type": "execute_result"
    }
   ],
   "source": [
    "compact = {\n",
    "    'O': labels_freq['O'],\n",
    "    'PER': labels_freq['B-PER'] + labels_freq['I-PER'],\n",
    "    'GRP': labels_freq['B-GRP'] + labels_freq['I-GRP'],\n",
    "    'CW': labels_freq['B-CW'] + labels_freq['I-CW'],    \n",
    "    'LOC': labels_freq['B-LOC'] + labels_freq['I-LOC'],\n",
    "    'CORP': labels_freq['B-CORP'] + labels_freq['I-CORP'],\n",
    "    'PROD': labels_freq['B-PROD'] + labels_freq['I-PROD'],\n",
    "}\n",
    "compact"
   ]
  },
  {
   "cell_type": "code",
   "execution_count": 56,
   "id": "75e2300b",
   "metadata": {},
   "outputs": [
    {
     "data": {
      "image/png": "[encoded data removed]",
      "text/plain": [
       "<Figure size 640x320 with 1 Axes>"
      ]
     },
     "metadata": {
      "needs_background": "light"
     },
     "output_type": "display_data"
    }
   ],
   "source": [
    "plot_freq(compact, title=\"Common Labels\")"
   ]
  },
  {
   "cell_type": "code",
   "execution_count": 57,
   "id": "32d668a6",
   "metadata": {},
   "outputs": [
    {
     "data": {
      "image/png": "[encoded data removed]",
      "text/plain": [
       "<Figure size 640x320 with 1 Axes>"
      ]
     },
     "metadata": {
      "needs_background": "light"
     },
     "output_type": "display_data"
    }
   ],
   "source": [
    "del compact['O']\n",
    "\n",
    "plot_freq(compact, title=\"Without O\")"
   ]
  },
  {
   "cell_type": "code",
   "execution_count": 58,
   "id": "abd460cf",
   "metadata": {
    "colab": {
     "base_uri": "https://localhost:8080/",
     "height": 165
    },
    "executionInfo": {
     "elapsed": 211,
     "status": "error",
     "timestamp": 1649695087700,
     "user": {
      "displayName": "Florin Cuconasu",
      "userId": "13345521608196528334"
     },
     "user_tz": -120
    },
    "id": "abd460cf",
    "outputId": "c2691b2c-0c16-4f53-90ce-daa72f1ab63b"
   },
   "outputs": [
    {
     "data": {
      "image/png": "[encoded data removed]",
      "text/plain": [
       "<Figure size 640x320 with 1 Axes>"
      ]
     },
     "metadata": {
      "needs_background": "light"
     },
     "output_type": "display_data"
    }
   ],
   "source": [
    "plot_freq(freq_most_common_tokens(train_pos), title=\"Common POS labels\")"
   ]
  },
  {
   "cell_type": "code",
   "execution_count": 59,
   "id": "68445029",
   "metadata": {},
   "outputs": [
    {
     "data": {
      "image/png": "[encoded data removed]",
      "text/plain": [
       "<Figure size 640x320 with 1 Axes>"
      ]
     },
     "metadata": {
      "needs_background": "light"
     },
     "output_type": "display_data"
    }
   ],
   "source": [
    "plot_freq(freq_most_common_tokens(train_dep), title=\"Common Depdency Relations\")"
   ]
  },
  {
   "cell_type": "code",
   "execution_count": 61,
   "id": "d1fc923d",
   "metadata": {
    "id": "d1fc923d",
    "outputId": "ff353b18-d454-4bc1-d389-b862e4445b02"
   },
   "outputs": [
    {
     "data": {
      "image/png": "[encoded data removed]",
      "text/plain": [
       "<Figure size 640x320 with 1 Axes>"
      ]
     },
     "metadata": {
      "needs_background": "light"
     },
     "output_type": "display_data"
    }
   ],
   "source": [
    "train_chars = ([c for word in flat_list(train_sentences) for c in word])\n",
    "\n",
    "plot_freq(freq_most_common_tokens(train_chars), title=\"Common Chars\")"
   ]
  },
  {
   "cell_type": "markdown",
   "id": "9ef454d9",
   "metadata": {},
   "source": [
    "In order to decide the vocabulary size, I wanted to see the words frequencies and also to inspect the possible words that the vocabulary may include."
   ]
  },
  {
   "cell_type": "code",
   "execution_count": 16,
   "id": "bbb2a610",
   "metadata": {
    "id": "bbb2a610"
   },
   "outputs": [],
   "source": [
    "def find_size_vocab(freq: dict, from_frequency: int, to_frequency: int):\n",
    "    \"\"\"\n",
    "    Returns\n",
    "    -------\n",
    "        Prints words which have a frequency in the range [from_frequency, to_frequency],\n",
    "        in the form (index, word, frequency), where 'index' is the position of that \n",
    "        word in the dictionary.\n",
    "    \"\"\"\n",
    "    assert from_frequency <= to_frequency, \"from_frequency must be smaller than to_frequency\" \n",
    "    \n",
    "    print(\"Index Word Frequency\")\n",
    "    for idx, (word, frequency) in enumerate(freq.items()):\n",
    "        if frequency >= from_frequency and frequency <= to_frequency:\n",
    "            print(idx, word, frequency)"
   ]
  },
  {
   "cell_type": "code",
   "execution_count": 133,
   "id": "ccd1e865",
   "metadata": {},
   "outputs": [],
   "source": [
    "freq_dep = freq_most_common_tokens(train_dep, n=-1)"
   ]
  },
  {
   "cell_type": "code",
   "execution_count": 21,
   "id": "87f9fd9a",
   "metadata": {
    "id": "87f9fd9a"
   },
   "outputs": [],
   "source": [
    "freq = freq_most_common_tokens(train_sentences, n=-1)"
   ]
  },
  {
   "cell_type": "code",
   "execution_count": 22,
   "id": "79336359",
   "metadata": {},
   "outputs": [
    {
     "data": {
      "text/plain": [
       "27962"
      ]
     },
     "execution_count": 22,
     "metadata": {},
     "output_type": "execute_result"
    }
   ],
   "source": [
    "len(freq)"
   ]
  },
  {
   "cell_type": "code",
   "execution_count": null,
   "id": "f9a7aa58",
   "metadata": {
    "collapsed": true
   },
   "outputs": [],
   "source": [
    "# find_size_vocab(freq, 1, 2)"
   ]
  },
  {
   "cell_type": "code",
   "execution_count": 68,
   "id": "ff3041a3",
   "metadata": {
    "id": "ff3041a3"
   },
   "outputs": [],
   "source": [
    "char_freq = freq_most_common_tokens(train_chars, n=-1)"
   ]
  },
  {
   "cell_type": "code",
   "execution_count": 67,
   "id": "b7ddb701",
   "metadata": {},
   "outputs": [
    {
     "data": {
      "text/plain": [
       "51"
      ]
     },
     "execution_count": 67,
     "metadata": {},
     "output_type": "execute_result"
    }
   ],
   "source": [
    "len(char_freq)"
   ]
  },
  {
   "cell_type": "code",
   "execution_count": 70,
   "id": "5470ee5c",
   "metadata": {
    "id": "5470ee5c",
    "outputId": "cbb5491f-28f7-4b15-e14a-75c36ff28b1b"
   },
   "outputs": [],
   "source": [
    "# sorted(freq.items(), key=lambda t: t[::-1], reverse=True)"
   ]
  },
  {
   "cell_type": "code",
   "execution_count": 71,
   "id": "77cc5742",
   "metadata": {
    "id": "77cc5742",
    "outputId": "8dc3616f-7acb-4a1b-d41e-ff182e0d450e"
   },
   "outputs": [],
   "source": [
    "# sorted(char_freq.items(), key= lambda  x: (x[0],x[1]), reverse=False)"
   ]
  },
  {
   "cell_type": "code",
   "execution_count": null,
   "id": "4782f282",
   "metadata": {
    "collapsed": true,
    "id": "4782f282"
   },
   "outputs": [],
   "source": [
    "find_size_vocab(char_freq, 1, 4)"
   ]
  },
  {
   "cell_type": "code",
   "execution_count": 135,
   "id": "925dab3d",
   "metadata": {
    "executionInfo": {
     "elapsed": 206,
     "status": "ok",
     "timestamp": 1649866453458,
     "user": {
      "displayName": "Florin Cuconasu",
      "userId": "13345521608196528334"
     },
     "user_tz": -120
    },
    "id": "925dab3d"
   },
   "outputs": [],
   "source": [
    "def build_vocab(dataset: List[List[str]], vocab_size: int, unk_token: str, pad_token: str = None) -> dict:\n",
    "    \"\"\"\n",
    "    Returns\n",
    "    -------\n",
    "        Dictionary where at each token is associated a unique integer.\n",
    "\n",
    "    Parameters\n",
    "    ----------\n",
    "    dataset: List[List[str]]\n",
    "        A list of lists of strings. \n",
    "        In this case each nested list is a sentence.\n",
    "    \n",
    "    vocab_size: int\n",
    "        Dimension of the vocabolary. \n",
    "        \n",
    "        If we get in input also the padding token, \n",
    "        only the first (vocab_size - 2) most common\n",
    "        tokens are considered to build the vocabulary.\n",
    "        \n",
    "        If we have only the unknown token,\n",
    "        only the first (vocab_size - 1) most common\n",
    "        tokens are considered to build the vocabulary, as the 'unk_token' is \n",
    "        associated to the last position.\n",
    "\n",
    "    unk_token: str\n",
    "        String which identifies the out-of-vocabulary tokens.\n",
    "        \n",
    "    pad_token: str\n",
    "        String which identifies the padding token.\n",
    "    \"\"\"\n",
    "    # If padding:\n",
    "    if pad_token != None:\n",
    "        vocab = {key: idx+2 for idx, key in enumerate(freq_most_common_tokens(dataset, n=vocab_size-2))}\n",
    "        vocab[pad_token] = 0 # The padding token is associated to the first position\n",
    "        vocab[unk_token] = 1 # The unknown token is associated to the second position\n",
    "    \n",
    "    else: # No padding\n",
    "        vocab = {key: idx for idx, key in enumerate(freq_most_common_tokens(dataset, n=vocab_size-2))}\n",
    "        vocab[unk_token] = vocab_size - 1 # The token is associated to the last position\n",
    "   \n",
    "    \n",
    "    return vocab"
   ]
  },
  {
   "cell_type": "code",
   "execution_count": 136,
   "id": "e90a7b9a",
   "metadata": {
    "executionInfo": {
     "elapsed": 255,
     "status": "ok",
     "timestamp": 1649866456109,
     "user": {
      "displayName": "Florin Cuconasu",
      "userId": "13345521608196528334"
     },
     "user_tz": -120
    },
    "id": "d19e93a1"
   },
   "outputs": [],
   "source": [
    "vocab_size = 20_000\n",
    "\n",
    "pad_token = \"<PAD>\"\n",
    "unk_token = \"<UNK>\""
   ]
  },
  {
   "cell_type": "code",
   "execution_count": 30,
   "id": "d19e93a1",
   "metadata": {
    "executionInfo": {
     "elapsed": 255,
     "status": "ok",
     "timestamp": 1649866456109,
     "user": {
      "displayName": "Florin Cuconasu",
      "userId": "13345521608196528334"
     },
     "user_tz": -120
    },
    "id": "d19e93a1"
   },
   "outputs": [],
   "source": [
    "vocab = build_vocab(train_sentences, vocab_size, unk_token, pad_token)"
   ]
  },
  {
   "cell_type": "code",
   "execution_count": 43,
   "id": "f95258ac",
   "metadata": {
    "executionInfo": {
     "elapsed": 227,
     "status": "ok",
     "timestamp": 1649868275536,
     "user": {
      "displayName": "Florin Cuconasu",
      "userId": "13345521608196528334"
     },
     "user_tz": -120
    },
    "id": "f95258ac"
   },
   "outputs": [],
   "source": [
    "char_vocab = build_vocab(train_chars, 100, unk_token, pad_token)"
   ]
  },
  {
   "cell_type": "code",
   "execution_count": 139,
   "id": "d6d86bd2",
   "metadata": {},
   "outputs": [],
   "source": [
    "dep_vocab_size = 45+2\n",
    "\n",
    "dep_vocab =  build_vocab(train_dep, dep_vocab_size, unk_token, pad_token)"
   ]
  },
  {
   "cell_type": "code",
   "execution_count": 141,
   "id": "d7938a1b",
   "metadata": {},
   "outputs": [],
   "source": [
    "def write_vocab(path: str, vocab: dict):\n",
    "    \"\"\"\n",
    "    Returns\n",
    "    -------\n",
    "        Writes the input dictionary in a file.\n",
    "        \n",
    "    Parameters\n",
    "    ----------\n",
    "    path: str\n",
    "        Data path where to write the dictionary.\n",
    "    \n",
    "    vocab: dict\n",
    "        A dictionary that maps tokens to integers.\n",
    "    \"\"\"\n",
    "    with open(path, 'w', newline=\"\", encoding='utf-8') as f:\n",
    "        tsv_writer = csv.writer(f, delimiter='\\t')\n",
    "\n",
    "        for key, value in vocab.items():\n",
    "            tsv_writer.writerow([key, value])"
   ]
  },
  {
   "cell_type": "code",
   "execution_count": 14,
   "id": "f100c716",
   "metadata": {},
   "outputs": [],
   "source": [
    "vocab_path = \"../../data/vocab.tsv\""
   ]
  },
  {
   "cell_type": "markdown",
   "id": "2333e134",
   "metadata": {},
   "source": [
    "```Python\n",
    "write_vocab(vocab_path, vocab)\n",
    "```"
   ]
  },
  {
   "cell_type": "code",
   "execution_count": 143,
   "id": "37aea755",
   "metadata": {},
   "outputs": [],
   "source": [
    "dep_vocab_path = \"../../data/dep_vocab.tsv\""
   ]
  },
  {
   "cell_type": "markdown",
   "id": "e3e6509a",
   "metadata": {},
   "source": [
    "```Python\n",
    "write_vocab(dep_vocab_path, dep_vocab)\n",
    "```"
   ]
  },
  {
   "cell_type": "code",
   "execution_count": 26,
   "id": "e4c3b5c4",
   "metadata": {},
   "outputs": [],
   "source": [
    "char_vocab_path = \"../../data/char_vocab.tsv\""
   ]
  },
  {
   "cell_type": "markdown",
   "id": "94850cde",
   "metadata": {},
   "source": [
    "```Python\n",
    "write_vocab(char_vocab_path, char_vocab)\n",
    "```"
   ]
  },
  {
   "cell_type": "code",
   "execution_count": 24,
   "id": "b694c0c3",
   "metadata": {},
   "outputs": [],
   "source": [
    "def read_vocab(path: str) -> dict:\n",
    "    \"\"\"\n",
    "    Returns\n",
    "    -------\n",
    "        A dictionary that maps tokens to integers.\n",
    "        \n",
    "    Parameters\n",
    "    ----------\n",
    "    path: str\n",
    "        Data path of the dictionary.\n",
    "    \"\"\"\n",
    "    vocab = {}\n",
    "    with open(path, 'r', newline=\"\", encoding='utf-8') as f:\n",
    "        for line in f:\n",
    "            line = line.strip().split('\\t')\n",
    "            vocab[line[0]] = int(line[1])\n",
    "    return vocab"
   ]
  },
  {
   "cell_type": "code",
   "execution_count": 16,
   "id": "6f7cbca6",
   "metadata": {},
   "outputs": [],
   "source": [
    "vocab = read_vocab(vocab_path)"
   ]
  },
  {
   "cell_type": "code",
   "execution_count": 149,
   "id": "de306d00",
   "metadata": {},
   "outputs": [],
   "source": [
    "dep_vocab = read_vocab(dep_vocab_path)"
   ]
  },
  {
   "cell_type": "code",
   "execution_count": 27,
   "id": "3fc932a1",
   "metadata": {},
   "outputs": [],
   "source": [
    "char_vocab = read_vocab(char_vocab_path)"
   ]
  },
  {
   "cell_type": "code",
   "execution_count": 76,
   "id": "0eac4b9b",
   "metadata": {},
   "outputs": [],
   "source": [
    "def assign_unique_idx(labels_list: List[List[str]], pad_token: str) -> (dict, dict):\n",
    "    \"\"\"\n",
    "    Returns\n",
    "    -------\n",
    "        Two dictionaries. The first one is a map\n",
    "        from labels to integers; the second one\n",
    "        is the reversed map.\n",
    "        \n",
    "    Parameters\n",
    "    ----------\n",
    "    labels_list: List[List[str]]\n",
    "        A list of lists of strings. \n",
    "        In this case each nested list is a sentence,\n",
    "        containing labels.\n",
    "        \n",
    "    pad_token: str\n",
    "         String which identifies the padding token.\n",
    "    \"\"\"\n",
    "    labels = freq_most_common_tokens(labels_list, n=-1)\n",
    "    lab2idx = {label: idx+1 for idx, label in enumerate(labels)}\n",
    "    lab2idx[pad_token] = 0 # The padding token is associated to the first position\n",
    "    idx2lab = {idx: label for label, idx in lab2idx.items()} \n",
    "    \n",
    "    return lab2idx, idx2lab"
   ]
  },
  {
   "cell_type": "code",
   "execution_count": 77,
   "id": "39669cbd",
   "metadata": {},
   "outputs": [],
   "source": [
    "pad_token = \"<PAD>\""
   ]
  },
  {
   "cell_type": "code",
   "execution_count": 82,
   "id": "217a617a",
   "metadata": {},
   "outputs": [],
   "source": [
    "# Target labels\n",
    "lab2idx, idx2lab = assign_unique_idx(train_labels, pad_token)"
   ]
  },
  {
   "cell_type": "code",
   "execution_count": 20,
   "id": "2f1f520e",
   "metadata": {},
   "outputs": [],
   "source": [
    "lab2idx_path = \"../../data/lab2idx.tsv\""
   ]
  },
  {
   "cell_type": "markdown",
   "id": "654a9998",
   "metadata": {},
   "source": [
    "```Python\n",
    "write_vocab(lab2idx_path, lab2idx)\n",
    "```"
   ]
  },
  {
   "cell_type": "code",
   "execution_count": 80,
   "id": "737f9a38",
   "metadata": {
    "executionInfo": {
     "elapsed": 3,
     "status": "ok",
     "timestamp": 1649866465875,
     "user": {
      "displayName": "Florin Cuconasu",
      "userId": "13345521608196528334"
     },
     "user_tz": -120
    },
    "id": "737f9a38"
   },
   "outputs": [],
   "source": [
    "# POS labels\n",
    "pos2idx, pos2lab = assign_unique_idx(train_pos, pad_token)"
   ]
  },
  {
   "cell_type": "code",
   "execution_count": 81,
   "id": "ac0f7346",
   "metadata": {},
   "outputs": [],
   "source": [
    "pos2idx_path = \"../../data/pos2idx.tsv\""
   ]
  },
  {
   "cell_type": "markdown",
   "id": "a371ed14",
   "metadata": {},
   "source": [
    "```Python\n",
    "write_vocab(pos2idx_path, pos2idx)\n",
    "```"
   ]
  },
  {
   "cell_type": "markdown",
   "id": "7a9e9358",
   "metadata": {
    "id": "7a9e9358"
   },
   "source": [
    "# 3. Word Embedding"
   ]
  },
  {
   "cell_type": "markdown",
   "id": "fe18d200",
   "metadata": {},
   "source": [
    "In this section I load the three types of pretrained embeddings I am going to use: \n",
    "- [Word2Vec](https://radimrehurek.com/gensim/models/word2vec.html)\n",
    "- [GloVe](https://nlp.stanford.edu/projects/glove/)\n",
    "- [FastText](https://fasttext.cc/)"
   ]
  },
  {
   "cell_type": "code",
   "execution_count": null,
   "id": "CX8h-yopjSVJ",
   "metadata": {
    "id": "CX8h-yopjSVJ"
   },
   "outputs": [],
   "source": [
    "# ! pip install gensim==4.1.2"
   ]
  },
  {
   "cell_type": "code",
   "execution_count": 54,
   "id": "63f27462",
   "metadata": {
    "id": "63f27462"
   },
   "outputs": [],
   "source": [
    "from gensim.models import *\n",
    "from gensim.models.word2vec import *"
   ]
  },
  {
   "cell_type": "code",
   "execution_count": null,
   "id": "dd332514",
   "metadata": {
    "id": "dd332514"
   },
   "outputs": [],
   "source": [
    "mode_path = \"/content/drive/MyDrive/Colab Notebooks/NLP/nlp2022-hw1/model/GoogleNews-vectors-negative300.bin\""
   ]
  },
  {
   "cell_type": "code",
   "execution_count": 55,
   "id": "OJlugwSbitTs",
   "metadata": {
    "id": "OJlugwSbitTs"
   },
   "outputs": [],
   "source": [
    "mode_path = \"../../model/pretrained/GoogleNews-vectors-negative300.bin\""
   ]
  },
  {
   "cell_type": "code",
   "execution_count": 56,
   "id": "e5LEvjBJi2vz",
   "metadata": {
    "id": "e5LEvjBJi2vz"
   },
   "outputs": [],
   "source": [
    "w2v_emb = KeyedVectors.load_word2vec_format(mode_path, binary=True)"
   ]
  },
  {
   "cell_type": "code",
   "execution_count": 68,
   "id": "f7e79b13",
   "metadata": {
    "id": "f7e79b13"
   },
   "outputs": [],
   "source": [
    "w2v_pretrained_vocab = w2v_emb.key_to_index "
   ]
  },
  {
   "cell_type": "code",
   "execution_count": 59,
   "id": "b4953659",
   "metadata": {
    "id": "b4953659",
    "outputId": "39f22345-f7e8-4104-9728-a87af0e1c774"
   },
   "outputs": [],
   "source": [
    "# model_w2v.most_similar('student')"
   ]
  },
  {
   "cell_type": "code",
   "execution_count": 61,
   "id": "66a08746",
   "metadata": {
    "id": "66a08746",
    "outputId": "450bfd33-4d5e-4a24-afc5-c36cd4593f14"
   },
   "outputs": [],
   "source": [
    "def load_pretrained_embed(vocab: dict , word_emb, vocab_size: int, emb_dim: int) -> torch.Tensor:\n",
    "    \"\"\"\n",
    "    Returns\n",
    "    -------\n",
    "        A tensor containing the embeddings\n",
    "        of the tokens in 'vocab'.\n",
    "        \n",
    "    Parameters\n",
    "    ----------\n",
    "    vocab: dict\n",
    "        A dictionary that maps tokens to integers.\n",
    "    \n",
    "    word_emb: gensim object or dict\n",
    "        A data structure containing a map from \n",
    "        tokens to vectors representing the token's embeddings.\n",
    "        \n",
    "    vocab_size: int\n",
    "        Dimension of the vocabolary.\n",
    "        \n",
    "    emb_dim: int\n",
    "        Dimension of the embeddings.  \n",
    "    \"\"\"\n",
    "    # The unk token will be associated with a random tensor\n",
    "    pretrained_embed = torch.rand(vocab_size, emb_dim, dtype=torch.float32)\n",
    "    present = 0\n",
    "\n",
    "    for token, idx in vocab.items():\n",
    "        # If the token is present in the embedding dictionary\n",
    "        if token in word_emb:\n",
    "            present += 1\n",
    "            embedding = torch.tensor(word_emb[token], dtype=torch.float32)\n",
    "\n",
    "            pretrained_embed[idx] = embedding\n",
    "\n",
    "    pretrained_embed[vocab[pad_token]] = torch.zeros(emb_dim)\n",
    "\n",
    "    print(f\"Number of tokens which have not a pretrained embedding: \" \\\n",
    "          f\"{vocab_size - present}\")\n",
    "    return pretrained_embed"
   ]
  },
  {
   "cell_type": "code",
   "execution_count": 62,
   "id": "a611b3b3",
   "metadata": {},
   "outputs": [
    {
     "name": "stdout",
     "output_type": "stream",
     "text": [
      "Number of tokens which have not a pretrained embedding: 10383\n"
     ]
    }
   ],
   "source": [
    "w2v_pretrained_embeddings = load_pretrained_embed(vocab, w2v_emb, len(vocab), 300)"
   ]
  },
  {
   "cell_type": "code",
   "execution_count": 63,
   "id": "b6a1b650",
   "metadata": {
    "id": "b6a1b650"
   },
   "outputs": [],
   "source": [
    "pretrained_w2v_path = \"/content/drive/MyDrive/Colab Notebooks/NLP/nlp2022-hw1/model/pretrained/load_embeddings/pre_w2v.pth\""
   ]
  },
  {
   "cell_type": "code",
   "execution_count": 64,
   "id": "32c45375",
   "metadata": {},
   "outputs": [],
   "source": [
    "pretrained_w2v_path = \"../../model/pretrained/load_embeddings/pre_w2v.pth\""
   ]
  },
  {
   "cell_type": "markdown",
   "id": "afe462b9",
   "metadata": {
    "id": "236d91e6"
   },
   "source": [
    "```Python\n",
    "torch.save(w2v_pretrained_embeddings, pretrained_w2v_path)\n",
    "```"
   ]
  },
  {
   "cell_type": "code",
   "execution_count": null,
   "id": "4c748611",
   "metadata": {
    "id": "4c748611"
   },
   "outputs": [],
   "source": [
    "w2v_pretrained_embeddings = torch.load(pretrained_w2v_path)"
   ]
  },
  {
   "cell_type": "code",
   "execution_count": 83,
   "id": "4049d600",
   "metadata": {
    "colab": {
     "base_uri": "https://localhost:8080/"
    },
    "executionInfo": {
     "elapsed": 234,
     "status": "ok",
     "timestamp": 1649311448587,
     "user": {
      "displayName": "Florin Cuconasu",
      "userId": "13345521608196528334"
     },
     "user_tz": -120
    },
    "id": "4049d600",
    "outputId": "db6b4e35-3e0f-49ac-9d59-65b8cfdc4e19"
   },
   "outputs": [],
   "source": [
    "w2v_pretrained_embeddings.shape"
   ]
  },
  {
   "cell_type": "code",
   "execution_count": 69,
   "id": "cea3ca1b",
   "metadata": {},
   "outputs": [],
   "source": [
    "not_in = []\n",
    "for token in vocab:\n",
    "    if token not in w2v_pretrained_vocab:\n",
    "        not_in.append(token)"
   ]
  },
  {
   "cell_type": "markdown",
   "id": "20417633",
   "metadata": {},
   "source": [
    "By analyzing the `not_in` list I see that the pretrained corpus used to train the embeddings is much cleaner than my dataset, and excludes also many types of punctuation. Moreover, by few tests than on the training and evaluation part I noticed that **Word2Vec** does not perform well as **GloVe** and **FastText**. Therefore, I decided not to use **Word2Vec** as embeddings."
   ]
  },
  {
   "cell_type": "markdown",
   "id": "65d6397e",
   "metadata": {
    "id": "65d6397e"
   },
   "source": [
    "## GloVe"
   ]
  },
  {
   "cell_type": "code",
   "execution_count": 39,
   "id": "728c7cdf",
   "metadata": {
    "id": "728c7cdf"
   },
   "outputs": [],
   "source": [
    "glove_file = \"../../model/pretrained/glove.6B.100d.txt\""
   ]
  },
  {
   "cell_type": "code",
   "execution_count": 40,
   "id": "d997dc0f",
   "metadata": {
    "id": "d997dc0f"
   },
   "outputs": [],
   "source": [
    "def load_glove_vectors(glove_file: str) -> dict:\n",
    "    \"\"\"\n",
    "    Returns\n",
    "    -------\n",
    "        The glove word vectors as a dictionary.\n",
    "        \n",
    "    Parameters\n",
    "    ----------\n",
    "    glove_file: str\n",
    "        Data path to the embeddings.\n",
    "    \n",
    "    \"\"\"\n",
    "    word_emb = {}\n",
    "    with open(glove_file, 'r', encoding='utf-8') as f:\n",
    "        for line in f:\n",
    "            split = line.split()\n",
    "            \n",
    "            word_emb[split[0]] = np.array(split[1:], dtype=np.float32)\n",
    "    return word_emb"
   ]
  },
  {
   "cell_type": "code",
   "execution_count": 41,
   "id": "829b4ad5",
   "metadata": {
    "id": "829b4ad5"
   },
   "outputs": [],
   "source": [
    "glove_emb = load_glove_vectors(glove_file)"
   ]
  },
  {
   "cell_type": "code",
   "execution_count": 78,
   "id": "9af27a85",
   "metadata": {},
   "outputs": [],
   "source": [
    "glove_pretrained_vocab = list(glove_emb.keys())"
   ]
  },
  {
   "cell_type": "code",
   "execution_count": 43,
   "id": "dae5544c",
   "metadata": {},
   "outputs": [
    {
     "name": "stdout",
     "output_type": "stream",
     "text": [
      "Number of tokens which have not a pretrained embedding: 1580\n"
     ]
    }
   ],
   "source": [
    "glove_pretrained_embeddings = load_pretrained_embed(vocab, glove_emb, len(vocab), 100)"
   ]
  },
  {
   "cell_type": "code",
   "execution_count": null,
   "id": "b404ef8a",
   "metadata": {},
   "outputs": [],
   "source": [
    "pretrained_glove_path = \"/content/drive/MyDrive/Colab Notebooks/NLP/nlp2022-hw1/model/pretrained/load_embeddings/pre_glove.pth\""
   ]
  },
  {
   "cell_type": "code",
   "execution_count": 157,
   "id": "992ccc48",
   "metadata": {},
   "outputs": [],
   "source": [
    "pretrained_glove_path = \"../../model/pretrained/load_embeddings/pre_glove_new_less.pth\""
   ]
  },
  {
   "cell_type": "markdown",
   "id": "6c195330",
   "metadata": {},
   "source": [
    "```Python\n",
    "torch.save(glove_pretrained_embeddings, pretrained_glove_path)\n",
    "```"
   ]
  },
  {
   "cell_type": "code",
   "execution_count": 159,
   "id": "a93cbe30",
   "metadata": {},
   "outputs": [],
   "source": [
    "glove_pretrained_embeddings = torch.load(pretrained_glove_path)"
   ]
  },
  {
   "cell_type": "code",
   "execution_count": 160,
   "id": "f10618a7",
   "metadata": {},
   "outputs": [
    {
     "data": {
      "text/plain": [
       "torch.Size([20000, 100])"
      ]
     },
     "execution_count": 160,
     "metadata": {},
     "output_type": "execute_result"
    }
   ],
   "source": [
    "glove_pretrained_embeddings.shape"
   ]
  },
  {
   "cell_type": "code",
   "execution_count": 83,
   "id": "99736d7e",
   "metadata": {},
   "outputs": [],
   "source": [
    "not_in = []\n",
    "for token in vocab:\n",
    "    if token not in glove_pretrained_vocab:\n",
    "        not_in.append(token)"
   ]
  },
  {
   "cell_type": "code",
   "execution_count": 90,
   "id": "0436ad85",
   "metadata": {},
   "outputs": [
    {
     "data": {
      "text/plain": [
       "False"
      ]
     },
     "execution_count": 90,
     "metadata": {},
     "output_type": "execute_result"
    }
   ],
   "source": [
    "\"you've\" in glove_pretrained_vocab"
   ]
  },
  {
   "cell_type": "code",
   "execution_count": 93,
   "id": "78727a07",
   "metadata": {},
   "outputs": [
    {
     "data": {
      "text/plain": [
       "2841"
      ]
     },
     "execution_count": 93,
     "metadata": {},
     "output_type": "execute_result"
    }
   ],
   "source": [
    "len(not_in)"
   ]
  },
  {
   "cell_type": "code",
   "execution_count": 96,
   "id": "322127b8",
   "metadata": {},
   "outputs": [
    {
     "data": {
      "text/plain": [
       "'../../data/train_clean_new.tsv'"
      ]
     },
     "execution_count": 96,
     "metadata": {},
     "output_type": "execute_result"
    }
   ],
   "source": [
    "train_clean_path"
   ]
  },
  {
   "cell_type": "code",
   "execution_count": 97,
   "id": "c1883ea3",
   "metadata": {},
   "outputs": [],
   "source": [
    "train_cleaned = read_data_like(train_clean_path)"
   ]
  },
  {
   "cell_type": "code",
   "execution_count": 108,
   "id": "a232f79c",
   "metadata": {},
   "outputs": [],
   "source": [
    "lables_not_in = []\n",
    "\n",
    "for idx, sentence in train_cleaned.items():\n",
    "    for token, label in sentence:\n",
    "        if token in not_in:\n",
    "            lables_not_in.append((idx, token, label))\n",
    "        "
   ]
  },
  {
   "cell_type": "code",
   "execution_count": 119,
   "id": "5014efe9",
   "metadata": {},
   "outputs": [],
   "source": [
    "indices, tokens, labels = list(zip(*lables_not_in))"
   ]
  },
  {
   "cell_type": "code",
   "execution_count": null,
   "id": "ecb77240",
   "metadata": {},
   "outputs": [],
   "source": [
    "Counter(labels).most_common()"
   ]
  },
  {
   "cell_type": "code",
   "execution_count": 109,
   "id": "98f80017",
   "metadata": {
    "collapsed": true
   },
   "outputs": [
    {
     "data": {
      "text/plain": [
       "[(0, 'bolesawiec', 'B-LOC'),\n",
       " (0, 'wrocaw', 'B-LOC'),\n",
       " (12, 'yokomo', 'B-CORP'),\n",
       " (17, 'menneske', 'O'),\n",
       " (19, 'foggini', 'I-PER'),\n",
       " (25, 'tokitaka', 'O'),\n",
       " (40, 'fly-whisk', 'B-PROD'),\n",
       " (40, 'thamyi', 'O'),\n",
       " (45, 'flakne', 'I-PER'),\n",
       " (49, 'if....', 'B-CW'),\n",
       " (55, 'scrubb', 'I-PER'),\n",
       " (59, 'ayen', 'O'),\n",
       " (59, 'objat', 'B-LOC'),\n",
       " (65, 'pelit', 'B-CW'),\n",
       " (66, 'rxpressen', 'O'),\n",
       " (66, 'rxpressen', 'O'),\n",
       " (66, 'marstal', 'B-LOC'),\n",
       " (66, 'rudkbing', 'B-LOC'),\n",
       " (92, 'httrack', 'B-CW'),\n",
       " (102, 'under-1', 'I-GRP'),\n",
       " (107, 'terebovlia', 'I-LOC'),\n",
       " (119, 'bambusoideae', 'B-PROD'),\n",
       " (120, 'm.u.d.', 'B-CW'),\n",
       " (122, \"lloyd's\", 'B-CORP'),\n",
       " (123, 'walkham', 'I-LOC'),\n",
       " (126, 'pamies', 'I-PER'),\n",
       " (132, '1th', 'O'),\n",
       " (143, 'siljestrom', 'I-PER'),\n",
       " (145, 'charmanwati', 'O'),\n",
       " (145, 'charmanvati', 'O'),\n",
       " (151, '1th', 'O'),\n",
       " (151, '1nd', 'O'),\n",
       " (159, 'adimali', 'O'),\n",
       " (163, 'tru1', 'B-CW'),\n",
       " (165, 'scheifele', 'O'),\n",
       " (167, 'u.s.a.a.f.', 'B-CW'),\n",
       " (178, 'wait...', 'I-CW'),\n",
       " (178, \"don't\", 'I-CW'),\n",
       " (184, 'kisshomaru', 'B-PER'),\n",
       " (190, 'schilpp', 'O'),\n",
       " (193, 'haffar', 'O'),\n",
       " (218, 'trossard', 'I-PER'),\n",
       " (222, 'deguara', 'O'),\n",
       " (225, \"destiny's\", 'B-GRP'),\n",
       " (235, 'birveta', 'O'),\n",
       " (242, \"lloyd's\", 'B-CORP'),\n",
       " (245, 'grovesite', 'O'),\n",
       " (249, \"eddie's\", 'B-CORP'),\n",
       " (252, 'halldorophone', 'O'),\n",
       " (258, 'magdayao', 'I-PER'),\n",
       " (262, 'rdsvi', 'O'),\n",
       " (264, 'zabe', 'I-PER'),\n",
       " (268, 'aujon', 'B-LOC'),\n",
       " (273, 'directoral', 'O'),\n",
       " (279, \"you're\", 'B-CW'),\n",
       " (283, 'saltmarket', 'B-LOC'),\n",
       " (297, 'sonetts', 'O'),\n",
       " (298, 'khrop', 'O'),\n",
       " (308, 'gaylads', 'I-GRP'),\n",
       " (308, 'heptones', 'I-GRP'),\n",
       " (314, 'damvillers', 'B-LOC'),\n",
       " (317, '1th', 'O'),\n",
       " (317, '1th', 'O'),\n",
       " (331, 'dehalogenating', 'O'),\n",
       " (335, 'couscoussier', 'O'),\n",
       " (335, 'couscoussier', 'B-PROD'),\n",
       " (342, \"martin's\", 'I-CORP'),\n",
       " (350, 'lantzville', 'B-LOC'),\n",
       " (352, 'beenox', 'B-CORP'),\n",
       " (359, 'p.i.d.', 'O'),\n",
       " (359, 'dollarally', 'O'),\n",
       " (360, 'omont', 'I-PER'),\n",
       " (367, '1th', 'O'),\n",
       " (369, 'luck.', 'I-CW'),\n",
       " (371, 'a1.com', 'B-CORP'),\n",
       " (396, 'krzywin', 'B-LOC'),\n",
       " (396, 'koscian', 'B-LOC'),\n",
       " (399, 'keulemans', 'I-PER'),\n",
       " (405, 'kios', 'I-LOC'),\n",
       " (405, 'nauplion', 'B-LOC'),\n",
       " (414, '1th', 'O'),\n",
       " (416, 'valerengens', 'B-GRP'),\n",
       " (419, \"jane's\", 'B-CW'),\n",
       " (428, 'culea', 'I-PER'),\n",
       " (431, 'johnnycake', 'B-PROD'),\n",
       " (432, 'hizan', 'O'),\n",
       " (436, '1th', 'O'),\n",
       " (442, 'juanas', 'I-CW'),\n",
       " (444, 'kial', 'O'),\n",
       " (445, '1tph', 'O'),\n",
       " (460, 'pisudski', 'I-PER'),\n",
       " (460, 'stanisaw', 'B-PER'),\n",
       " (468, 'krivan', 'B-LOC'),\n",
       " (468, 'detva', 'B-LOC'),\n",
       " (471, 'lroc', 'B-PER'),\n",
       " (474, 'hrobice', 'O'),\n",
       " (484, 'brediceanu', 'I-PER'),\n",
       " (484, 'brediceanu', 'I-PER'),\n",
       " (486, 'lp1', 'B-CW'),\n",
       " (489, 'laliga', 'B-CORP'),\n",
       " (496, 'akhavan-sales', 'I-PER'),\n",
       " (509, '1th', 'I-PER'),\n",
       " (510, '1th', 'O'),\n",
       " (512, 'yanzheng', 'I-PER'),\n",
       " (519, 'pathapatnam', 'O'),\n",
       " (519, 'mahendratanaya', 'B-LOC'),\n",
       " (520, 'mokihinui', 'B-LOC'),\n",
       " (523, \"cameron's\", 'B-CW'),\n",
       " (541, 'skitching', 'O'),\n",
       " (544, 'pennsylvania-reading', 'B-GRP'),\n",
       " (549, 'vidovdansko', 'B-LOC'),\n",
       " (553, 'smakula', 'I-PER'),\n",
       " (556, \"mcdonald's\", 'B-CORP'),\n",
       " (563, '1th', 'O'),\n",
       " (563, '1th', 'O'),\n",
       " (564, 'hioudji', 'O'),\n",
       " (564, \"m'rizek\", 'I-PER'),\n",
       " (566, 'heartlight', 'B-CW'),\n",
       " (568, 'yesss', 'O'),\n",
       " (580, 'yotsu', 'O'),\n",
       " (582, '1nd', 'O'),\n",
       " (588, \"men's\", 'I-GRP'),\n",
       " (590, 'rohan-gie', 'I-PER'),\n",
       " (601, '1nd', 'O'),\n",
       " (604, \"dillard's\", 'B-CORP'),\n",
       " (606, \"christgau's\", 'B-CW'),\n",
       " (608, 'vinnegar', 'I-PER'),\n",
       " (611, 'podhradie', 'O'),\n",
       " (625, 'jwpce', 'O'),\n",
       " (639, 'polygyros', 'O'),\n",
       " (642, 'tan1', 'O'),\n",
       " (647, 'wadysaw', 'B-PER'),\n",
       " (648, 'mochnacz', 'I-PER'),\n",
       " (651, 'carltheater', 'B-LOC'),\n",
       " (655, 'cholpon-ata', 'B-LOC'),\n",
       " (655, 'tamga', 'B-LOC'),\n",
       " (663, 'durufle', 'I-PER'),\n",
       " (670, 'elsewhen', 'B-CW'),\n",
       " (676, 'schadlow', 'O'),\n",
       " (691, 'primings', 'O'),\n",
       " (695, 'maruya', 'O'),\n",
       " (703, 'kieczygow', 'B-LOC'),\n",
       " (703, 'pajeczno', 'B-LOC'),\n",
       " (703, 'odz', 'B-LOC'),\n",
       " (709, 'ikonion', 'O'),\n",
       " (712, 'novacaixagalicia', 'B-CORP'),\n",
       " (717, 'inprocomm', 'O'),\n",
       " (719, 'abergwynfi', 'B-LOC'),\n",
       " (719, 'cwmystwyth', 'B-LOC'),\n",
       " (719, 'cilfynydd', 'B-LOC'),\n",
       " (721, 'sougia', 'B-LOC'),\n",
       " (729, 'mlouwza', 'O'),\n",
       " (732, 'sleepify', 'B-CW'),\n",
       " (732, 'vulfpeck', 'B-GRP'),\n",
       " (734, '1ksounds', 'O'),\n",
       " (737, 'a-tisket', 'B-CW'),\n",
       " (737, 'a-tasket', 'I-CW'),\n",
       " (740, 'aithadi', 'I-PER'),\n",
       " (744, 'panamenista', 'B-GRP'),\n",
       " (747, 'auget', 'I-PER'),\n",
       " (747, 'montyon', 'I-PER'),\n",
       " (757, 'jorjadze', 'O'),\n",
       " (761, '1&data', 'O'),\n",
       " (761, 'subpage', 'O'),\n",
       " (761, 'spielkader&data', 'O'),\n",
       " (761, '1&data', 'O'),\n",
       " (761, 'playerid', 'O'),\n",
       " (761, '1ax1is', 'O'),\n",
       " (762, 'cencosud', 'B-CORP'),\n",
       " (784, 'ottaplakkal', 'B-PER'),\n",
       " (784, 'neelakandan', 'I-PER'),\n",
       " (786, 'gradinari', 'B-LOC'),\n",
       " (789, 'zadonsk', 'B-LOC'),\n",
       " (791, '1s1', 'O'),\n",
       " (802, 'crematorio', 'B-CW'),\n",
       " (804, 'skjolden', 'O'),\n",
       " (814, 'sten-ake', 'B-PER'),\n",
       " (814, 'cederhok', 'I-PER'),\n",
       " (814, 'bromssen', 'I-PER'),\n",
       " (821, 'szogliget', 'O'),\n",
       " (821, 'borsod-abauj-zemplen', 'B-LOC'),\n",
       " (829, 'assous', 'O'),\n",
       " (830, 'thomesen', 'I-PER'),\n",
       " (834, 'silafresh', 'O'),\n",
       " (835, 'kindernet', 'B-CORP'),\n",
       " (836, 'kamikita', 'B-LOC'),\n",
       " (837, \"earth's\", 'B-CW'),\n",
       " (837, 'hexalogy', 'I-CW'),\n",
       " (838, 'trumpter', 'O'),\n",
       " (844, 'sideloading', 'O'),\n",
       " (845, 'ungekusst', 'O'),\n",
       " (845, 'schlafen', 'O'),\n",
       " (852, 'ntbg', 'O'),\n",
       " (858, 'triacontanol', 'O'),\n",
       " (862, '1th', 'O'),\n",
       " (862, \"america's\", 'B-CW'),\n",
       " (864, 'kushimoto', 'B-LOC'),\n",
       " (865, 'vichot', 'I-PER'),\n",
       " (871, 'valtanen', 'O'),\n",
       " (891, 'brossay', 'O'),\n",
       " (893, 'krans', 'I-PER'),\n",
       " (903, \"let's\", 'B-CW'),\n",
       " (913, 'ajaylat', 'B-LOC'),\n",
       " (914, 'drasliceni', 'O'),\n",
       " (914, 'criuleni', 'B-LOC'),\n",
       " (919, \"don't\", 'I-CW'),\n",
       " (927, 'kovind', 'O'),\n",
       " (928, 'birnes', 'I-PER'),\n",
       " (940, \"james's\", 'I-LOC'),\n",
       " (943, 'auswartsspiel', 'B-CW'),\n",
       " (946, 'zimnicea', 'B-LOC'),\n",
       " (954, 'semmozhiyaana', 'B-CW'),\n",
       " (954, 'mozhiyaam', 'I-CW'),\n",
       " (955, 'g/s', 'I-PROD'),\n",
       " (959, 'tuinfort', 'I-PER'),\n",
       " (965, 'kropyvnytskyi', 'B-LOC'),\n",
       " (965, 'oleksandriia', 'B-LOC'),\n",
       " (965, 'debaltseve', 'B-LOC'),\n",
       " (967, 'bustill', 'I-PER'),\n",
       " (976, 'saguamanchica', 'O'),\n",
       " (976, 'ubate', 'B-LOC'),\n",
       " (976, 'simijaca', 'B-LOC'),\n",
       " (977, \"don't\", 'I-CW'),\n",
       " (987, 'gjesing', 'B-LOC'),\n",
       " (989, 'prateik', 'B-PER'),\n",
       " (994, 'mardock', 'B-CW'),\n",
       " (997, 'kondakov', 'O'),\n",
       " (998, 'ganserndorf', 'B-LOC'),\n",
       " (1006, 'sreekumaran', 'B-PER'),\n",
       " (1008, 'pronay', 'I-PER'),\n",
       " (1014, 'ruiying', 'I-PER'),\n",
       " (1014, 'lianbo', 'I-CW'),\n",
       " (1017, 'bouguirat', 'B-LOC'),\n",
       " (1023, '1.1kb', 'O'),\n",
       " (1030, 'smith-stanley', 'I-PER'),\n",
       " (1030, '1th', 'I-PER'),\n",
       " (1031, 'sigesbeckia', 'O'),\n",
       " (1043, '1th', 'O'),\n",
       " (1043, 'masreliez', 'I-PER'),\n",
       " (1045, 'dzuboks', 'B-CW'),\n",
       " (1045, 'maksa', 'B-PER'),\n",
       " (1045, 'catovic', 'I-PER'),\n",
       " (1055, 'hnefoss', 'B-GRP'),\n",
       " (1063, 'chuks', 'B-PER'),\n",
       " (1063, 'aneke', 'I-PER'),\n",
       " (1064, 'sicotte', 'I-PER'),\n",
       " (1082, 'gjogv', 'B-LOC'),\n",
       " (1083, '1th', 'O'),\n",
       " (1093, 'tanaghai', 'O'),\n",
       " (1095, 'majoon', 'O'),\n",
       " (1096, '1th', 'O'),\n",
       " (1107, 'joub', 'B-LOC'),\n",
       " (1107, 'jannine', 'I-LOC'),\n",
       " (1120, 'klcdaroglu', 'I-PER'),\n",
       " (1125, 'parols', 'O'),\n",
       " (1125, 'sampernandu', 'O'),\n",
       " (1128, 'kamaru', 'B-PER'),\n",
       " (1135, 'warris', 'I-PER'),\n",
       " (1140, 'poskinia', 'B-LOC'),\n",
       " (1148, 'cinefondation', 'B-GRP'),\n",
       " (1149, 'gulargambone', 'B-LOC'),\n",
       " (1155, 'verbey', 'I-PER'),\n",
       " (1159, \"b'gosh\", 'I-CORP'),\n",
       " (1162, '1nd', 'O'),\n",
       " (1165, 'oshiroi', 'B-PROD'),\n",
       " (1165, 'kumadori', 'B-PROD'),\n",
       " (1176, 'anupriya', 'B-PER'),\n",
       " (1179, 'nervastella', 'I-PROD'),\n",
       " (1200, 'silveyra', 'I-PER'),\n",
       " (1203, 'kaineus', 'O'),\n",
       " (1203, 'caeneus', 'B-PER'),\n",
       " (1217, 'smartwatch', 'B-PROD'),\n",
       " (1227, \"lloyd's\", 'B-CORP'),\n",
       " (1228, 'mller', 'I-CORP'),\n",
       " (1231, 'phrygane', 'I-PROD'),\n",
       " (1232, 'barkol', 'B-CORP'),\n",
       " (1235, 'chikuho', 'I-GRP'),\n",
       " (1238, 'edimbourg', 'O'),\n",
       " (1240, 'xinbu', 'B-LOC'),\n",
       " (1243, 'mbali', 'B-PER'),\n",
       " (1251, 'khlyst', 'O'),\n",
       " (1252, 'saecular', 'B-GRP'),\n",
       " (1258, 'straparola', 'I-PER'),\n",
       " (1260, \"i'm\", 'B-CW'),\n",
       " (1264, \"lloyd's\", 'B-CORP'),\n",
       " (1275, 'prabodhankar', 'B-PER'),\n",
       " (1284, 'cevrepnar', 'O'),\n",
       " (1284, 'sandkl', 'B-LOC'),\n",
       " (1285, 'ottaplakkal', 'B-PER'),\n",
       " (1285, 'neelakandan', 'I-PER'),\n",
       " (1288, 'paypoint', 'B-CORP'),\n",
       " (1298, 'clomifene', 'O'),\n",
       " (1299, 'uzbekfilm', 'B-CORP'),\n",
       " (1305, 'wobbegongs', 'O'),\n",
       " (1307, 'boering', 'O'),\n",
       " (1316, 'malomirovo', 'O'),\n",
       " (1327, \"christie's\", 'B-CORP'),\n",
       " (1335, 'seethalakshmi', 'O'),\n",
       " (1345, 'affroun', 'I-LOC'),\n",
       " (1348, 'rt1-p', 'I-PROD'),\n",
       " (1367, 'spraydeck', 'O'),\n",
       " (1367, 'sprayskirt', 'O'),\n",
       " (1370, 'k.v.c.', 'B-GRP'),\n",
       " (1374, '.jpg', 'O'),\n",
       " (1374, '1f1t', 'O'),\n",
       " (1376, \"people's\", 'B-LOC'),\n",
       " (1381, \"king's\", 'I-CW'),\n",
       " (1382, 'plegamans', 'I-GRP'),\n",
       " (1383, '1th', 'O'),\n",
       " (1390, \"yahri'sh\", 'I-PER'),\n",
       " (1393, 'tizian', 'O'),\n",
       " (1394, 'insensatez', 'B-CW'),\n",
       " (1415, 'arbeo', 'B-PER'),\n",
       " (1437, 'chorao', 'B-PER'),\n",
       " (1437, 'preco', 'O'),\n",
       " (1439, 'laliga', 'B-CORP'),\n",
       " (1440, 'kasuba', 'O'),\n",
       " (1442, '1.1m', 'O'),\n",
       " (1443, 'd.1', 'B-PROD'),\n",
       " (1446, 'samosvat', 'I-PER'),\n",
       " (1449, 'madhuram', 'I-PER'),\n",
       " (1454, 'chronophage', 'O'),\n",
       " (1462, 'karaboudjan', 'O'),\n",
       " (1480, 'gewane', 'O'),\n",
       " (1500, 'hobbledehoy', 'O'),\n",
       " (1505, \"reader's\", 'B-CW'),\n",
       " (1508, '1th', 'O'),\n",
       " (1509, 'ruzhintsi', 'B-LOC'),\n",
       " (1524, 'dinkley', 'I-PER'),\n",
       " (1531, 'disu', 'O'),\n",
       " (1532, 'laliga', 'B-CORP'),\n",
       " (1533, 'phography', 'O'),\n",
       " (1533, 'spelterini', 'I-PER'),\n",
       " (1542, 'dowdupont', 'B-CORP'),\n",
       " (1544, 'bayqarah', 'I-PER'),\n",
       " (1546, 'tamram', 'O'),\n",
       " (1547, 'onet.pl', 'B-CORP'),\n",
       " (1553, 'murukku', 'B-PROD'),\n",
       " (1556, 'biaystok', 'B-LOC'),\n",
       " (1567, 'c-segment', 'B-PROD'),\n",
       " (1568, 'backereel', 'I-PER'),\n",
       " (1594, 'estatistica', 'I-GRP'),\n",
       " (1594, 'km1', 'O'),\n",
       " (1602, 'machus', 'I-PER'),\n",
       " (1605, \"women's\", 'I-GRP'),\n",
       " (1612, 'sisian', 'B-LOC'),\n",
       " (1622, 'parambrata', 'B-PER'),\n",
       " (1622, 'payel', 'B-PER'),\n",
       " (1625, 'semigraphical', 'O'),\n",
       " (1626, 'nazriya', 'B-PER'),\n",
       " (1631, 'praestanti', 'O'),\n",
       " (1633, 'starcrash', 'B-CW'),\n",
       " (1633, 'spinell', 'I-PER'),\n",
       " (1641, 'vernet-les-bains', 'B-LOC'),\n",
       " (1642, \"people's\", 'I-GRP'),\n",
       " (1642, \"people's\", 'I-GRP'),\n",
       " (1644, '1th', 'O'),\n",
       " (1647, 'vergaard', 'O'),\n",
       " (1647, 'poulsson', 'I-PER'),\n",
       " (1657, 'leamouth', 'B-LOC'),\n",
       " (1674, \"what's\", 'B-CW'),\n",
       " (1677, 'sd1t-1', 'I-PROD'),\n",
       " (1680, 'zbots', 'O'),\n",
       " (1692, 'hydroxytyrosol', 'O'),\n",
       " (1692, 'hydroxytyrosol', 'O'),\n",
       " (1695, 'bauerfield', 'B-LOC'),\n",
       " (1697, 'boukoleon', 'B-LOC'),\n",
       " (1701, 'ktel', 'B-CORP'),\n",
       " (1704, '1th', 'O'),\n",
       " (1707, 'meketre', 'B-PER'),\n",
       " (1712, 'saint-raymond', 'B-LOC'),\n",
       " (1713, \"d'anghiera\", 'I-PER'),\n",
       " (1714, 'exmes', 'B-LOC'),\n",
       " (1717, 'biryuch', 'B-LOC'),\n",
       " (1725, 'seunskool', 'I-GRP'),\n",
       " (1731, 'welenchiti', 'O'),\n",
       " (1731, 'ababa-djibouti', 'I-LOC'),\n",
       " (1734, 'phantasma', 'O'),\n",
       " (1736, 'wodzisaw', 'B-LOC'),\n",
       " (1736, 'jedrzejow', 'B-LOC'),\n",
       " (1738, 'smuglewicz', 'I-PER'),\n",
       " (1741, 'dalukhadia', 'O'),\n",
       " (1741, 'dalukhadiya', 'O'),\n",
       " (1746, 'tumebamba', 'B-LOC'),\n",
       " (1748, 'scrunchie', 'B-PROD'),\n",
       " (1755, \"maclean's\", 'B-CW'),\n",
       " (1761, 'tankobon', 'B-CW'),\n",
       " (1766, \"'chirping\", 'I-CW'),\n",
       " (1792, 'exiv', 'I-PROD'),\n",
       " (1792, '1ws', 'O'),\n",
       " (1792, '1ws', 'O'),\n",
       " (1800, '1e1', 'O'),\n",
       " (1800, 'hofmeisterkink', 'O'),\n",
       " (1804, 'prytanee', 'B-GRP'),\n",
       " (1805, 'laketown', 'B-LOC'),\n",
       " (1813, 'beuling', 'O'),\n",
       " (1821, 'airoldi', 'O'),\n",
       " (1821, 'deluz', 'B-LOC'),\n",
       " (1823, 'bjrn', 'I-PER'),\n",
       " (1829, 'prostreet', 'I-CW'),\n",
       " (1836, 'leuninger', 'O'),\n",
       " (1840, 'vikhlyantseva', 'I-PER'),\n",
       " (1840, 'kovinic', 'I-PER'),\n",
       " (1843, 'staud', 'O'),\n",
       " (1846, \"rowntree's\", 'B-CORP'),\n",
       " (1848, 'atradius', 'B-CORP'),\n",
       " (1871, 'metrow', 'O'),\n",
       " (1871, 'miosci', 'O'),\n",
       " (1871, 'waszynski', 'I-PER'),\n",
       " (1872, 'berasia', 'B-LOC'),\n",
       " (1879, \"women's\", 'I-GRP'),\n",
       " (1884, 'euroair', 'O'),\n",
       " (1887, 'khwarazmian', 'B-LOC'),\n",
       " (1888, '1th', 'O'),\n",
       " (1891, 'rhone-poulenc', 'B-CORP'),\n",
       " (1899, \"assassin's\", 'B-CW'),\n",
       " (1901, 'ipel', 'B-LOC'),\n",
       " (1916, 'kampande', 'I-PER'),\n",
       " (1926, 'geirnaert', 'I-PER'),\n",
       " (1930, 'khilchipur', 'B-LOC'),\n",
       " (1932, 'hypercourt', 'O'),\n",
       " (1936, 'goszczynski', 'I-PER'),\n",
       " (1936, 'mochnacki', 'I-PER'),\n",
       " (1968, 'zarm', 'O'),\n",
       " (1978, '1nd', 'O'),\n",
       " (1984, 'cratoxylum', 'O'),\n",
       " (1984, 'cochinchinense', 'O'),\n",
       " (1984, \"people's\", 'B-LOC'),\n",
       " (1990, '1,1,1', 'O'),\n",
       " (1990, '1,1,1', 'O'),\n",
       " (1996, 'chamarand', 'O'),\n",
       " (2007, 'nadarajasundaram', 'O'),\n",
       " (2010, 'barqi', 'B-CORP'),\n",
       " (2010, 'tojik', 'I-CORP'),\n",
       " (2020, 'vnn', 'O'),\n",
       " (2021, 'frequentazione', 'I-PROD'),\n",
       " (2042, 'irenee', 'I-PER'),\n",
       " (2044, 'munich-rosenheim', 'B-LOC'),\n",
       " (2049, 'chautard', 'I-PER'),\n",
       " (2050, 'carihuairazo', 'B-LOC'),\n",
       " (2062, 'birchbox', 'B-CORP'),\n",
       " (2070, \"it's\", 'B-CW'),\n",
       " (2077, 'choragiew', 'O'),\n",
       " (2077, 'mazowsza', 'O'),\n",
       " (2080, '1th', 'B-CW'),\n",
       " (2085, 'mercus-garrabet', 'B-LOC'),\n",
       " (2085, 'nalzen', 'B-LOC'),\n",
       " (2091, 'boisne', 'O'),\n",
       " (2095, 'mattinata', 'O'),\n",
       " (2098, '1th', 'O'),\n",
       " (2100, 'mrsid', 'O'),\n",
       " (2112, 'cukurbuk', 'O'),\n",
       " (2112, 'bartn', 'B-LOC'),\n",
       " (2112, 'bartn', 'B-LOC'),\n",
       " (2124, 'concertantes', 'O'),\n",
       " (2129, 'sane-morte', 'B-LOC'),\n",
       " (2141, \"g'ole\", 'B-CW'),\n",
       " (2142, 'blrt', 'B-CORP'),\n",
       " (2152, 'corioli', 'B-LOC'),\n",
       " (2157, 'naiktha', 'B-PER'),\n",
       " (2157, 'mihalikova', 'I-PER'),\n",
       " (2172, 'lafargeholcim', 'B-CORP'),\n",
       " (2178, 'nuttelex', 'O'),\n",
       " (2194, 'toislamic', 'O'),\n",
       " (2195, '1,1,1', 'O'),\n",
       " (2198, 'scira', 'O'),\n",
       " (2200, '1th', 'O'),\n",
       " (2203, 'freginat', 'O'),\n",
       " (2204, 'janky', 'O'),\n",
       " (2210, 'whanga', 'I-LOC'),\n",
       " (2220, 'ezzatollahi', 'I-PER'),\n",
       " (2226, \"world's\", 'B-CW'),\n",
       " (2240, 'giaveno', 'B-LOC'),\n",
       " (2242, 'murphi', 'O'),\n",
       " (2242, 'iohn', 'O'),\n",
       " (2258, 'havlir', 'O'),\n",
       " (2260, \"rupaul's\", 'B-CW'),\n",
       " (2275, 'wodynie', 'B-LOC'),\n",
       " (2278, 'technium', 'O'),\n",
       " (2290, 'grotesco', 'B-CW'),\n",
       " (2293, 'maglite', 'B-CORP'),\n",
       " (2294, 'kopatchinskaja', 'I-PER'),\n",
       " (2304, 'ecclesmachan', 'B-LOC'),\n",
       " (2312, 'dimitrenko', 'I-PER'),\n",
       " (2315, '1th', 'O'),\n",
       " (2323, '1th', 'O'),\n",
       " (2326, 'espedal', 'B-LOC'),\n",
       " (2335, 'surgvision', 'O'),\n",
       " (2337, 'ammitzbll', 'I-PER'),\n",
       " (2338, 'yaeba', 'B-PROD'),\n",
       " (2338, 'misaligning', 'O'),\n",
       " (2343, 'saint-sernin-sur-rance', 'B-LOC'),\n",
       " (2346, 'hee-chul', 'I-PER'),\n",
       " (2348, '1th', 'O'),\n",
       " (2352, 'macrons', 'O'),\n",
       " (2354, 'jedrzejow', 'B-LOC'),\n",
       " (2361, 'pandamonium', 'B-CW'),\n",
       " (2362, 'dravic', 'I-PER'),\n",
       " (2364, 'hmri', 'O'),\n",
       " (2367, 'jilin-shulan', 'B-LOC'),\n",
       " (2368, 'sense1', 'B-CW'),\n",
       " (2371, 'eisregen', 'B-GRP'),\n",
       " (2380, 'cardak', 'I-LOC'),\n",
       " (2381, \"1's\", 'I-CW'),\n",
       " (2387, '1th', 'I-PER'),\n",
       " (2390, 'rakeem', 'B-PER'),\n",
       " (2399, 'sack-back', 'B-PROD'),\n",
       " (2401, 'hvalbiareii', 'O'),\n",
       " (2401, 'suduroy', 'B-LOC'),\n",
       " (2406, 'insensatez', 'B-CW'),\n",
       " (2406, 'insensatez', 'O'),\n",
       " (2409, 'eczna', 'I-GRP'),\n",
       " (2409, 'swidnik', 'I-GRP'),\n",
       " (2413, 'dubowo', 'B-LOC'),\n",
       " (2421, '1th', 'I-PER'),\n",
       " (2424, \"j'marcus\", 'B-PER'),\n",
       " (2438, 'bollee', 'I-PER'),\n",
       " (2440, 'herigaut', 'O'),\n",
       " (2440, '1th-century', 'B-PROD'),\n",
       " (2447, 'creacio', 'O'),\n",
       " (2447, 'altres', 'O'),\n",
       " (2447, 'manybooks', 'O'),\n",
       " (2449, 'mabondo', 'O'),\n",
       " (2451, 'enlargeable', 'O'),\n",
       " (2457, 'croumbie', 'I-PER'),\n",
       " (2458, 'saint-julien-du-sault', 'B-LOC'),\n",
       " (2462, 'mandov', 'O'),\n",
       " (2469, \"martha's\", 'B-LOC'),\n",
       " (2474, 'alzip', 'B-CW'),\n",
       " (2476, 'ebosse', 'I-PER'),\n",
       " (2476, 'bodjongo', 'I-PER'),\n",
       " (2478, '1th', 'O'),\n",
       " (2479, \"men's\", 'I-GRP'),\n",
       " (2479, \"men's\", 'I-GRP'),\n",
       " (2486, 'abhra', 'B-PER'),\n",
       " (2491, 'lillerd', 'O'),\n",
       " (2491, 'allerd', 'O'),\n",
       " (2491, 'allerd', 'B-LOC'),\n",
       " (2495, '1th', 'O'),\n",
       " (2501, 'ieshima', 'B-LOC'),\n",
       " (2510, 'exmore', 'B-LOC'),\n",
       " (2512, 'ekeroth', 'O'),\n",
       " (2517, 'aholelei', 'O'),\n",
       " (2527, 'soperton', 'B-LOC'),\n",
       " (2549, \"crack'd\", 'I-CW'),\n",
       " (2554, 'hofreist', 'B-LOC'),\n",
       " (2556, 'uebigau-wahrenbruck', 'B-LOC'),\n",
       " (2558, '1do', 'B-PROD'),\n",
       " (2559, 'biaystok', 'B-LOC'),\n",
       " (2566, 'xueqi', 'I-PER'),\n",
       " (2581, 'regentalbahn', 'B-CORP'),\n",
       " (2588, 'hrelja', 'B-PER'),\n",
       " (2591, 'duslo', 'I-GRP'),\n",
       " (2592, 'suiho', 'B-PER'),\n",
       " (2592, 'norakuro', 'B-CW'),\n",
       " (2593, 'jessua', 'I-PER'),\n",
       " (2599, 'markranstadt', 'B-LOC'),\n",
       " (2644, 'varldens', 'B-CW'),\n",
       " (2653, 'weierstra', 'I-PER'),\n",
       " (2655, 'cislita', 'O'),\n",
       " (2662, 'okhangaron', 'B-LOC'),\n",
       " (2665, 'ciftlikkoy', 'O'),\n",
       " (2665, 'aydn', 'B-LOC'),\n",
       " (2665, 'aydn', 'B-LOC'),\n",
       " (2672, '1nd', 'O'),\n",
       " (2696, 'levkas', 'O'),\n",
       " (2697, 'gouldiana', 'O'),\n",
       " (2703, 'konaje', 'B-LOC'),\n",
       " (2706, 'sidescrolling', 'O'),\n",
       " (2710, 'petite-pierre', 'I-LOC'),\n",
       " (2718, 'hamvas', 'I-PER'),\n",
       " (2718, 'szent-gyorgyi', 'I-PER'),\n",
       " (2732, '1th', 'I-PER'),\n",
       " (2736, 'sunclass', 'B-CORP'),\n",
       " (2742, 'vangsnes', 'B-LOC'),\n",
       " (2745, 'munchner', 'I-CW'),\n",
       " (2746, 'linisher', 'O'),\n",
       " (2746, 'linish', 'O'),\n",
       " (2767, 'duvidha', 'B-CW'),\n",
       " (2769, '1th', 'O'),\n",
       " (2770, 'hidimbabhid', 'O'),\n",
       " (2770, 'hidimba', 'B-PER'),\n",
       " (2771, 'chopice', 'B-LOC'),\n",
       " (2771, 'jarosaw', 'B-LOC'),\n",
       " (2774, 'samwell-smith', 'I-PER'),\n",
       " (2774, 'gered', 'B-PER'),\n",
       " (2777, 'macrobii', 'O'),\n",
       " (2778, '1th', 'O'),\n",
       " (2780, '1th', 'O'),\n",
       " (2781, 'privatecore', 'B-CORP'),\n",
       " (2781, 'vcage', 'O'),\n",
       " (2781, 'bootkits', 'O'),\n",
       " (2783, 'ghostess', 'I-CW'),\n",
       " (2784, 'pinehouse', 'B-LOC'),\n",
       " (2796, 'parrikar', 'I-PER'),\n",
       " (2798, 'selfies', 'O'),\n",
       " (2798, 'shapeways', 'B-CORP'),\n",
       " (2799, 'montdragon', 'O'),\n",
       " (2802, 'kirskou', 'I-PER'),\n",
       " (2805, '1nd', 'O'),\n",
       " (2814, 'iwatsuki', 'B-GRP'),\n",
       " (2815, 'niketa', 'B-PER'),\n",
       " (2815, 'musachi', 'I-PER'),\n",
       " (2817, 'saryer', 'O'),\n",
       " (2817, 'saryar', 'O'),\n",
       " (2836, 'tandey', 'O'),\n",
       " (2839, 'swiftair', 'O'),\n",
       " (2841, 'koziegowy', 'B-LOC'),\n",
       " (2841, 'myszkow', 'B-LOC'),\n",
       " (2842, 'panagi', 'O'),\n",
       " (2846, 'abishola', 'I-CW'),\n",
       " (2852, 'bressart', 'I-PER'),\n",
       " (2865, 'balachandar', 'O'),\n",
       " (2871, \"'billy\", 'I-PER'),\n",
       " (2871, '1th', 'O'),\n",
       " (2874, 'anhalt-kothen', 'I-PER'),\n",
       " (2878, 'vape', 'O'),\n",
       " (2894, 'aliero', 'O'),\n",
       " (2902, 'multivibrator', 'B-PROD'),\n",
       " (2907, 'pourbus', 'I-PER'),\n",
       " (2913, 'grudziadz', 'B-LOC'),\n",
       " (2913, 'biaystok', 'B-LOC'),\n",
       " (2915, 'algerienne', 'I-CORP'),\n",
       " (2918, 'seatpost', 'B-PROD'),\n",
       " (2922, 'sonenclar', 'O'),\n",
       " (2925, 'crathorne', 'B-LOC'),\n",
       " (2927, 'woofter', 'O'),\n",
       " (2927, 'woolie', 'O'),\n",
       " (2927, 'woofter', 'O'),\n",
       " (2927, 'poofter', 'O'),\n",
       " (2932, \"people's\", 'I-LOC'),\n",
       " (2937, '1nd', 'O'),\n",
       " (2939, 'lafkas', 'O'),\n",
       " (2939, 'metamorfosi', 'B-LOC'),\n",
       " (2946, \"don't\", 'B-CW'),\n",
       " (2946, \"'bout\", 'I-CW'),\n",
       " (2947, \"can't\", 'B-CW'),\n",
       " (2950, 'stockwith', 'I-LOC'),\n",
       " (2950, 'stockwith', 'I-LOC'),\n",
       " (2952, 'g1a', 'I-PROD'),\n",
       " (2954, 'toarcla', 'O'),\n",
       " (2954, 'honter', 'I-PER'),\n",
       " (2962, 'lesicek', 'O'),\n",
       " (2963, 'hk1', 'B-PROD'),\n",
       " (2964, '1px', 'O'),\n",
       " (2964, 'dunaujvaros', 'B-LOC'),\n",
       " (2964, 'szekszard', 'B-LOC'),\n",
       " (2964, 'mohacs', 'B-LOC'),\n",
       " (2964, 'dubosevica', 'B-LOC'),\n",
       " (2980, 'markosia', 'O'),\n",
       " (2981, \"you've\", 'I-CW'),\n",
       " (2987, 'przebojow', 'I-CW'),\n",
       " (2987, 'programu', 'I-CW'),\n",
       " (2987, 'trzeciego', 'I-CW'),\n",
       " (2997, 'khty', 'O'),\n",
       " (3002, 'rookhope', 'B-LOC'),\n",
       " (3010, \"i'm\", 'B-CW'),\n",
       " (3010, 'nojoum', 'I-CW'),\n",
       " (3011, 'y.o', 'O'),\n",
       " (3012, \"hudson's\", 'B-CORP'),\n",
       " (3013, 'fantasea', 'O'),\n",
       " (3024, 'aliogullar', 'O'),\n",
       " (3024, 'aydn', 'B-LOC'),\n",
       " (3025, 'mirkovci', 'B-LOC'),\n",
       " (3031, 'dzea', 'O'),\n",
       " (3034, 'culinaris', 'I-PROD'),\n",
       " (3039, 'nurbanu', 'B-PER'),\n",
       " (3047, 'vayudoot', 'B-CORP'),\n",
       " (3049, 'f-f-f-falling', 'B-CW'),\n",
       " (3051, 'leadhead', 'O'),\n",
       " (3058, 'jhonen', 'B-PER'),\n",
       " (3065, 'succbus', 'O'),\n",
       " (3070, 'gorzyca', 'B-LOC'),\n",
       " (3070, 'subice', 'B-LOC'),\n",
       " (3088, \"harper's\", 'B-CW'),\n",
       " (3090, \"don't\", 'I-CW'),\n",
       " (3094, 'f.i.l.a.', 'B-CORP'),\n",
       " (3101, 'dynix', 'O'),\n",
       " (3101, 'dynix', 'O'),\n",
       " (3102, 'siamupangila', 'I-PER'),\n",
       " (3111, 'orcagna', 'B-PER'),\n",
       " (3112, 'tcherikower', 'O'),\n",
       " (3116, \"jennifer's\", 'B-CW'),\n",
       " (3118, 'zevenkamp', 'O'),\n",
       " (3127, 'kantetsu', 'B-CORP'),\n",
       " (3132, 'latin-language', 'B-CW'),\n",
       " (3134, 'damasawek', 'B-LOC'),\n",
       " (3136, 'stulcken', 'I-CORP'),\n",
       " (3136, 'steinwerder', 'B-LOC'),\n",
       " (3145, 'seetalbahn', 'B-LOC'),\n",
       " (3152, 'hyem', 'I-PER'),\n",
       " (3156, 'istiqlol', 'O'),\n",
       " (3156, 'itorchi', 'O'),\n",
       " (3161, \"columba's\", 'I-LOC'),\n",
       " (3165, \"hudson's\", 'B-CORP'),\n",
       " (3166, \"sainsbury's\", 'B-CORP'),\n",
       " (3193, 'hypalon', 'O'),\n",
       " (3200, 'carum', 'B-PROD'),\n",
       " (3200, 'carvi', 'I-PROD'),\n",
       " (3200, 'carvi', 'O'),\n",
       " (3207, 'gettu', 'B-CW'),\n",
       " (3207, 'betur', 'I-CW'),\n",
       " (3216, '1th', 'O'),\n",
       " (3220, 'maccan', 'B-LOC'),\n",
       " (3221, '1x1mm', 'O'),\n",
       " (3227, 'eggwhites', 'O'),\n",
       " (3234, 'kockaya', 'O'),\n",
       " (3240, 'gorgoepikoos', 'I-LOC'),\n",
       " (3241, 'druppels', 'O'),\n",
       " (3243, 'pseudomonarchia', 'B-CW'),\n",
       " (3246, \"clancy's\", 'I-CW'),\n",
       " (3260, \"'round\", 'B-CW'),\n",
       " (3266, 'journaal', 'I-CW'),\n",
       " (3268, 'wasniow', 'B-LOC'),\n",
       " (3268, 'swietokrzyski', 'I-LOC'),\n",
       " (3269, \"'odesa\", 'I-GRP'),\n",
       " (3272, 'clanlib', 'O'),\n",
       " (3279, 'tomitaro', 'B-PER'),\n",
       " (3281, 'kilometro', 'B-CW'),\n",
       " (3294, 'bisteksilog', 'O'),\n",
       " (3294, 'bistek', 'B-PROD'),\n",
       " (3301, 'dhoolies', 'O'),\n",
       " (3306, 'maghur', 'I-PER'),\n",
       " (3310, 'shafton', 'B-LOC'),\n",
       " (3317, 'migi', 'O'),\n",
       " (3317, 'yotsu', 'O'),\n",
       " (3324, 'kotatsu', 'B-PROD'),\n",
       " (3327, '1th', 'O'),\n",
       " (3332, 'hardjedef', 'I-CW'),\n",
       " (3334, 'scheana', 'B-PER'),\n",
       " (3346, 'zanuso', 'I-PER'),\n",
       " (3365, 'shufersal', 'B-CORP'),\n",
       " (3366, \"people's\", 'B-LOC'),\n",
       " (3368, 'bassai', 'I-CW'),\n",
       " (3369, 'satanico', 'I-PER'),\n",
       " (3370, 'svirskis', 'I-PER'),\n",
       " (3370, 'surviliskis', 'B-LOC'),\n",
       " (3373, 'ambricourt', 'B-LOC'),\n",
       " (3374, \"slater's\", 'I-CW'),\n",
       " (3387, 'coldunya', 'O'),\n",
       " (3390, 'saint-saens', 'I-PER'),\n",
       " (3396, \"dillard's\", 'B-CORP'),\n",
       " (3402, 'ubbo', 'B-PER'),\n",
       " (3402, 'emmius', 'I-PER'),\n",
       " (3411, 'saccharimeter', 'O'),\n",
       " (3412, 'kunci', 'O'),\n",
       " (3415, 'choren', 'I-PER'),\n",
       " (3417, 'scriptbasic', 'O'),\n",
       " (3430, 'arovane', 'O'),\n",
       " (3432, '1th', 'O'),\n",
       " (3441, 'avvocato', 'O'),\n",
       " (3441, 'difensore', 'O'),\n",
       " (3451, 'weglet', 'O'),\n",
       " (3451, '.jpg', 'O'),\n",
       " (3454, \"people's\", 'I-GRP'),\n",
       " (3456, \"masamune-kun's\", 'B-CW'),\n",
       " (3457, 'postface', 'B-CW'),\n",
       " (3464, '1nd', 'O'),\n",
       " (3470, 'metzger-szmuk', 'I-PER'),\n",
       " (3475, 'itilleq', 'O'),\n",
       " (3475, 'itivdleq', 'O'),\n",
       " (3475, 'qeqqata', 'B-LOC'),\n",
       " (3480, 'smartwatch', 'B-PROD'),\n",
       " (3484, 'tumatu', 'O'),\n",
       " (3485, 'a1-1st', 'I-PROD'),\n",
       " (3486, \"casper's\", 'B-CW'),\n",
       " (3486, \"yogi's\", 'B-CW'),\n",
       " (3502, \"people's\", 'B-LOC'),\n",
       " (3504, 'scherpenisse', 'O'),\n",
       " (3507, '1,1,1', 'O'),\n",
       " (3511, \"what's\", 'O'),\n",
       " (3521, 'veluk', 'O'),\n",
       " (3521, 'olpad', 'B-LOC'),\n",
       " (3532, 'cheuk-yan', 'I-PER'),\n",
       " (3537, 'koscierzyna', 'B-LOC'),\n",
       " (3538, 'hnhm', 'O'),\n",
       " (3540, 'bembla', 'O'),\n",
       " (3543, 'agiou', 'B-GRP'),\n",
       " (3543, 'radonja', 'I-PER'),\n",
       " (3552, '1th', 'O'),\n",
       " (3554, 'lsmod', 'O'),\n",
       " (3577, '1th', 'I-PER'),\n",
       " (3594, 'oberlinger', 'I-PER'),\n",
       " (3598, 'humppa', 'O'),\n",
       " (3598, 'elakelaiset', 'B-GRP'),\n",
       " (3602, '1zc1', 'O'),\n",
       " (3611, 'skullfuck', 'O'),\n",
       " (3613, 'daiches', 'I-PER'),\n",
       " (3615, \"christie's\", 'B-CORP'),\n",
       " (3616, 'dettmar', 'B-PER'),\n",
       " (3624, '1,1,1', 'O'),\n",
       " (3634, 'idrimi', 'B-PER'),\n",
       " (3649, 'everlong', 'B-CW'),\n",
       " (3654, 'mcfayden', 'O'),\n",
       " (3677, 'prinaberel', 'O'),\n",
       " (3678, 'moskovskij', 'B-GRP'),\n",
       " (3680, 'b1-1', 'I-PROD'),\n",
       " (3689, 'gallien-krueger', 'B-CORP'),\n",
       " (3696, 'ratkje', 'I-PER'),\n",
       " (3699, 'g&e', 'O'),\n",
       " (3701, 'pardners', 'B-CW'),\n",
       " (3705, 'belolo', 'I-PER'),\n",
       " (3715, 'botifarra', 'O'),\n",
       " (3715, 'arros', 'O'),\n",
       " (3715, 'botifarra', 'O'),\n",
       " (3725, '1th', 'O'),\n",
       " (3725, '1rd', 'O'),\n",
       " (3725, '1th', 'O'),\n",
       " (3725, 'lowtzky', 'I-PER'),\n",
       " (3729, \"chappelle's\", 'B-CW'),\n",
       " (3735, 'zipov', 'O'),\n",
       " (3741, 'ralfi', 'O'),\n",
       " (3748, 'pontelandolfo', 'O'),\n",
       " (3756, 'bourinot', 'I-PER'),\n",
       " (3770, \"logan's\", 'B-CW'),\n",
       " (3771, 'tomova', 'I-PER'),\n",
       " (3771, 'sakkari', 'I-PER'),\n",
       " (3772, 'muneyoshi', 'O'),\n",
       " (3772, 'tadamune', 'I-PER'),\n",
       " (3772, '1nd', 'O'),\n",
       " (3779, 'feroke', 'B-LOC'),\n",
       " (3788, 'horishima', 'I-PER'),\n",
       " (3791, 'xtnd', 'O'),\n",
       " (3792, 'weymer', 'I-PER'),\n",
       " (3794, 'chom-fm', 'B-CORP'),\n",
       " (3796, 'brexit', 'B-CW'),\n",
       " (3801, 'pynson', 'I-PER'),\n",
       " (3802, 'mycin', 'O'),\n",
       " (3806, \"majesty's\", 'I-GRP'),\n",
       " (3809, 'wumpus', 'I-CW'),\n",
       " (3830, 'grodziczno', 'B-LOC'),\n",
       " (3835, 'ilkka-yhtyma', 'B-CORP'),\n",
       " (3835, 'seinajoki', 'B-LOC'),\n",
       " (3839, 'enserio', 'B-PROD'),\n",
       " (3840, 'parracombe', 'O'),\n",
       " (3840, \"petrock's\", 'I-LOC'),\n",
       " (3840, 'parracombe', 'I-LOC'),\n",
       " (3843, 'wilanow', 'B-LOC'),\n",
       " (3848, 'lublin-majdanek', 'B-LOC'),\n",
       " (3851, 'eimsbuttel', 'B-LOC'),\n",
       " (3854, 'puntamba', 'B-LOC'),\n",
       " (3856, 'acroni', 'I-GRP'),\n",
       " (3857, 'gunathilake', 'I-PER'),\n",
       " (3874, 'dzielnica', 'B-LOC'),\n",
       " (3878, 'epalett', 'O'),\n",
       " (3880, 'pozdrav', 'O'),\n",
       " (3880, 'milici', 'O'),\n",
       " (3880, 'srpkinji', 'O'),\n",
       " (3880, 'prometej', 'O'),\n",
       " (3881, 'gyulhyeon', 'B-LOC'),\n",
       " (3902, 'possamai', 'O'),\n",
       " (3913, 'palezieux-lyss', 'B-LOC'),\n",
       " (3914, 'ugorsko', 'O'),\n",
       " (3919, 'profar', 'O'),\n",
       " (3923, 'stillalive', 'O'),\n",
       " (3923, 'astragon', 'B-CORP'),\n",
       " (3927, 'ntalami', 'O'),\n",
       " (3939, 'dronagiri', 'O'),\n",
       " (3942, 'doudeville', 'B-LOC'),\n",
       " (3943, 'cornely', 'O'),\n",
       " (3946, 'kabam', 'B-CORP'),\n",
       " (3948, 'gnuhoo', 'O'),\n",
       " (3948, 'skrenta', 'I-PER'),\n",
       " (3948, 'truel', 'I-PER'),\n",
       " (3955, '1th', 'O'),\n",
       " (3957, 'krzyzanowski', 'I-PER'),\n",
       " (3957, 'dabrowa', 'B-LOC'),\n",
       " (3957, 'biaostocka', 'I-LOC'),\n",
       " (3959, 'jpy1', 'O'),\n",
       " (3971, 'skooter', 'O'),\n",
       " (3972, 'mikhaylovskiy', 'O'),\n",
       " (3973, 'rookdale', 'B-LOC'),\n",
       " (3974, 'binckbank', 'B-CORP'),\n",
       " (3994, '1px', 'O'),\n",
       " (3994, 'ishigooka', 'I-PER'),\n",
       " (4002, 'orgils', 'O'),\n",
       " (4002, 'orarson', 'I-PER'),\n",
       " (4002, 'landnamabok', 'B-CW'),\n",
       " (4005, 'erer', 'O'),\n",
       " (4012, 'bler', 'B-GRP'),\n",
       " (4013, \"mcdonald's\", 'B-CORP'),\n",
       " (4014, 'laticifers', 'O'),\n",
       " (4015, \"men's\", 'B-CW'),\n",
       " (4023, 'welgun', 'I-PROD'),\n",
       " (4024, 'kh-1', 'B-PROD'),\n",
       " (4026, 'welte-mignon', 'B-CORP'),\n",
       " (4027, 'orlogsvrftet', 'B-CORP'),\n",
       " (4027, 'l.b.v', 'O'),\n",
       " (4027, 'landbased', 'O'),\n",
       " (4029, 'molybdena', 'O'),\n",
       " (4035, '1th', 'O'),\n",
       " (4041, 'kxgn', 'O'),\n",
       " (4051, 'konosuba', 'B-CW'),\n",
       " (4051, \"god's\", 'I-CW'),\n",
       " (4058, 'tan1', 'O'),\n",
       " (4068, 'os/1', 'B-CW'),\n",
       " (4076, 'lasztonya', 'O'),\n",
       " (4090, 'lusth', 'I-PER'),\n",
       " (4097, 'hasslo', 'O'),\n",
       " (4108, 'wexo', 'O'),\n",
       " (4109, 'veshti', 'O'),\n",
       " (4110, '1ers', 'I-GRP'),\n",
       " (4112, 'calisson', 'B-PROD'),\n",
       " (4114, 'cloudster', 'I-PROD'),\n",
       " (4116, 'pourkarim', 'I-PER'),\n",
       " (4117, 'retoucher', 'O'),\n",
       " (4120, \"'1\", 'I-PROD'),\n",
       " (4126, 'tarth', 'I-PER'),\n",
       " (4134, \"can't\", 'I-CW'),\n",
       " (4134, \"don't\", 'I-CW'),\n",
       " (4138, 'pedong', 'O'),\n",
       " (4140, 'turkmendemiryollary', 'B-CORP'),\n",
       " (4144, 'fastmail', 'O'),\n",
       " (4144, 'yubikey', 'B-PROD'),\n",
       " (4150, 'slavnikova', 'I-PER'),\n",
       " (4154, 'ruparel', 'I-PER'),\n",
       " (4158, '1nd', 'I-PER'),\n",
       " (4159, 'pulversheim', 'O'),\n",
       " (4162, 'carmex', 'B-PROD'),\n",
       " (4175, 'anamateur', 'O'),\n",
       " (4179, 'saikyo', 'I-CW'),\n",
       " (4179, 'shichinin', 'I-CW'),\n",
       " (4193, '1nd', 'O'),\n",
       " (4193, '1rd', 'O'),\n",
       " (4199, '1th', 'O'),\n",
       " (4201, 'db1', 'I-PROD'),\n",
       " (4202, 'gatter', 'B-LOC'),\n",
       " (4204, 'ivchenko-progress', 'B-CORP'),\n",
       " (4208, 'cilbogaz', 'O'),\n",
       " (4208, 'adyaman', 'B-LOC'),\n",
       " (4210, 'gunduzlu', 'O'),\n",
       " (4221, 'gabonais', 'I-GRP'),\n",
       " (4222, 'krrabe', 'B-LOC'),\n",
       " (4228, 'schifflange', 'B-LOC'),\n",
       " (4235, '1th', 'O'),\n",
       " (4242, 'sportplane', 'O'),\n",
       " (4243, 'andranofanjava', 'O'),\n",
       " (4270, 'luismi', 'I-PER'),\n",
       " (4275, 'skyr', 'O'),\n",
       " (4280, 'ogn', 'B-CORP'),\n",
       " (4287, 'aprofessor', 'O'),\n",
       " (4293, 'rygiel', 'I-PER'),\n",
       " (4293, 'letteri', 'I-PER'),\n",
       " (4296, 'sasdy', 'I-PER'),\n",
       " (4296, 'pacier', 'O'),\n",
       " (4306, 'falckenhagen', 'O'),\n",
       " (4309, '1th', 'O'),\n",
       " (4313, 'orsova', 'O'),\n",
       " (4334, \"santa's\", 'B-CW'),\n",
       " (4340, 'akaoni', 'B-CORP'),\n",
       " (4340, 'mercurysteam', 'B-CORP'),\n",
       " (4348, 'auguste-jean-gabriel', 'B-PER'),\n",
       " (4350, 'kifli', 'B-PROD'),\n",
       " (4351, 'ghermandi', 'I-PER'),\n",
       " (4352, 'kanthaswamy', 'B-CW'),\n",
       " (4354, '1rd', 'O'),\n",
       " (4355, \"pharaoh's\", 'B-PROD'),\n",
       " (4357, 'vafrunismal', 'B-CW'),\n",
       " (4362, 'mogged', 'O'),\n",
       " (4368, '1th', 'O'),\n",
       " (4372, 'kanaanaische', 'B-CW'),\n",
       " (4372, 'aramaische', 'I-CW'),\n",
       " (4372, 'inschriften', 'I-CW'),\n",
       " (4373, 'cretskens', 'I-PER'),\n",
       " (4380, 'zelechow', 'B-LOC'),\n",
       " (4383, 'playdia', 'B-PROD'),\n",
       " (4384, 'jarnvagsverkstadernas', 'I-CORP'),\n",
       " (4384, 'aeroplanavdelning', 'I-CORP'),\n",
       " (4385, 'sakkos', 'B-PROD'),\n",
       " (4393, 'french-fried', 'B-PROD'),\n",
       " (4396, '1th', 'O'),\n",
       " (4397, 'gremminger', 'O'),\n",
       " (4403, 'sipylus', 'I-LOC'),\n",
       " (4405, 'onroak', 'B-CORP'),\n",
       " (4415, 'boulleau', 'I-PER'),\n",
       " (4415, 'cnfe', 'B-GRP'),\n",
       " (4418, 'multiphysics', 'O'),\n",
       " (4430, 'daco-getica', 'B-GRP'),\n",
       " (4434, '1th', 'O'),\n",
       " (4445, 'enserio', 'B-PROD'),\n",
       " (4449, 'duthac', 'I-PER'),\n",
       " (4453, 'merkine', 'B-LOC'),\n",
       " (4460, 'tynybekova', 'O'),\n",
       " (4464, 'rytro', 'B-LOC'),\n",
       " (4467, 'dresinja', 'B-LOC'),\n",
       " (4483, 'snijdelwijk', 'I-LOC'),\n",
       " (4496, \"people's\", 'B-LOC'),\n",
       " (4498, 'trapeza', 'O'),\n",
       " (4509, 'hemmis', 'I-PER'),\n",
       " (4518, 'tankobon', 'B-CW'),\n",
       " (4522, \"jackson's\", 'I-CW'),\n",
       " (4524, 'everta', 'O'),\n",
       " (4524, 'canguiles', 'O'),\n",
       " (4528, \"king's\", 'B-LOC'),\n",
       " (4529, '1th', 'O'),\n",
       " (4535, 'leszko', 'B-PER'),\n",
       " (4535, 'leszko', 'B-PER'),\n",
       " (4538, '1th', 'O'),\n",
       " (4543, 'erottaja', 'O'),\n",
       " (4550, 'maaloul', 'O'),\n",
       " ...]"
      ]
     },
     "execution_count": 109,
     "metadata": {},
     "output_type": "execute_result"
    }
   ],
   "source": [
    "lables_not_in"
   ]
  },
  {
   "cell_type": "markdown",
   "id": "f4706e13",
   "metadata": {
    "id": "f4706e13"
   },
   "source": [
    "## Fastext"
   ]
  },
  {
   "cell_type": "code",
   "execution_count": 46,
   "id": "bedae9d9",
   "metadata": {
    "id": "bedae9d9"
   },
   "outputs": [],
   "source": [
    "from gensim.models import fasttext"
   ]
  },
  {
   "cell_type": "code",
   "execution_count": 47,
   "id": "iA9J2P_TOU80",
   "metadata": {
    "id": "iA9J2P_TOU80"
   },
   "outputs": [],
   "source": [
    "fastext_path = \"/content/drive/MyDrive/Colab Notebooks/NLP/nlp2022-hw1/model/pretrained/fastext300.bin\""
   ]
  },
  {
   "cell_type": "code",
   "execution_count": 48,
   "id": "1b470b39",
   "metadata": {
    "id": "1b470b39"
   },
   "outputs": [],
   "source": [
    "fastext_path = \"../../model/pretrained/fastext300.bin\""
   ]
  },
  {
   "cell_type": "code",
   "execution_count": 49,
   "id": "fc5d3806",
   "metadata": {
    "id": "fc5d3806"
   },
   "outputs": [],
   "source": [
    "fast_emb = fasttext.load_facebook_vectors(fastext_path, encoding='utf-8')"
   ]
  },
  {
   "cell_type": "code",
   "execution_count": 37,
   "id": "08bfadd6",
   "metadata": {
    "id": "08bfadd6"
   },
   "outputs": [],
   "source": [
    "fast_pretrained_vocab = fast_emb.key_to_index "
   ]
  },
  {
   "cell_type": "code",
   "execution_count": 51,
   "id": "bfa33fc7",
   "metadata": {
    "id": "bfa33fc7",
    "outputId": "4bd7e514-668c-4e53-da62-ff08868747b1"
   },
   "outputs": [
    {
     "name": "stdout",
     "output_type": "stream",
     "text": [
      "Number of tokens which have not a pretrained embedding: 0\n"
     ]
    }
   ],
   "source": [
    "fast_pretrained_embeddings = load_pretrained_embed(vocab, fast_emb, len(vocab), 300)"
   ]
  },
  {
   "cell_type": "code",
   "execution_count": 33,
   "id": "ih5htVJFOhWm",
   "metadata": {
    "executionInfo": {
     "elapsed": 204,
     "status": "ok",
     "timestamp": 1649866476723,
     "user": {
      "displayName": "Florin Cuconasu",
      "userId": "13345521608196528334"
     },
     "user_tz": -120
    },
    "id": "ih5htVJFOhWm"
   },
   "outputs": [],
   "source": [
    "pretrained_fast_path = \"/content/drive/MyDrive/Colab Notebooks/NLP/nlp2022-hw1/model/pretrained/load_embeddings/pre_fast.pth\""
   ]
  },
  {
   "cell_type": "code",
   "execution_count": 52,
   "id": "3f8a7da4",
   "metadata": {
    "id": "3f8a7da4"
   },
   "outputs": [],
   "source": [
    "pretrained_fast_path = \"../../model/pretrained/load_embeddings/pre_fast_new_less.pth\""
   ]
  },
  {
   "cell_type": "code",
   "execution_count": 53,
   "id": "5d53fc49",
   "metadata": {
    "id": "5d53fc49"
   },
   "outputs": [],
   "source": [
    "torch.save(fast_pretrained_embeddings, pretrained_fast_path)"
   ]
  },
  {
   "cell_type": "code",
   "execution_count": 33,
   "id": "1cabfc47",
   "metadata": {
    "executionInfo": {
     "elapsed": 1260,
     "status": "ok",
     "timestamp": 1649866479330,
     "user": {
      "displayName": "Florin Cuconasu",
      "userId": "13345521608196528334"
     },
     "user_tz": -120
    },
    "id": "1cabfc47"
   },
   "outputs": [],
   "source": [
    "fast_pretrained_embeddings = torch.load(pretrained_fast_path)"
   ]
  },
  {
   "cell_type": "code",
   "execution_count": 34,
   "id": "a3ec567b",
   "metadata": {
    "colab": {
     "base_uri": "https://localhost:8080/"
    },
    "executionInfo": {
     "elapsed": 220,
     "status": "ok",
     "timestamp": 1649866480882,
     "user": {
      "displayName": "Florin Cuconasu",
      "userId": "13345521608196528334"
     },
     "user_tz": -120
    },
    "id": "a3ec567b",
    "outputId": "4e3a0603-ce29-413a-ec40-02265d321ef2"
   },
   "outputs": [
    {
     "data": {
      "text/plain": [
       "torch.Size([11200, 300])"
      ]
     },
     "execution_count": 34,
     "metadata": {},
     "output_type": "execute_result"
    }
   ],
   "source": [
    "fast_pretrained_embeddings.shape"
   ]
  },
  {
   "cell_type": "code",
   "execution_count": 45,
   "id": "5c5a1842",
   "metadata": {},
   "outputs": [],
   "source": [
    "not_in = []\n",
    "for token in vocab:\n",
    "    if token not in fast_pretrained_vocab:\n",
    "        not_in.append(token)"
   ]
  },
  {
   "cell_type": "code",
   "execution_count": 48,
   "id": "41c798ca",
   "metadata": {
    "collapsed": true
   },
   "outputs": [
    {
     "data": {
      "text/plain": [
       "['_',\n",
       " \"people's\",\n",
       " \"women's\",\n",
       " 'laliga',\n",
       " 'breuning',\n",
       " 'bambusoideae',\n",
       " 'meyrick',\n",
       " \"mcdonald's\",\n",
       " 'wrocaw',\n",
       " 'presov',\n",
       " '1k1',\n",
       " \"lloyd's\",\n",
       " 'odz',\n",
       " \"king's\",\n",
       " 'biaystok',\n",
       " 'aydn',\n",
       " 'valladolid',\n",
       " 'olof',\n",
       " 'a.f.c.',\n",
       " 'koninklijke',\n",
       " 'logano',\n",
       " 'alstom',\n",
       " 'melodifestivalen',\n",
       " \"o'brien\",\n",
       " 'sveriges',\n",
       " 'olsztyn',\n",
       " 'niigata',\n",
       " 'bochum',\n",
       " 'plzen',\n",
       " '1do',\n",
       " \"hudson's\",\n",
       " \"harper's\",\n",
       " 'hampson',\n",
       " 'jean-claude',\n",
       " 'fieldturf',\n",
       " \"ain't\",\n",
       " 'kristiansand',\n",
       " 'yaroslavl',\n",
       " 'jozef',\n",
       " 'sanremo',\n",
       " 'rietveld',\n",
       " 'waltman',\n",
       " 'kodansha',\n",
       " 'kaiserslautern',\n",
       " 'costanzo',\n",
       " 'cherkasy',\n",
       " 'abitur',\n",
       " 'auteuil',\n",
       " 'insensatez',\n",
       " 'jobim',\n",
       " 'vidin',\n",
       " 'televisao',\n",
       " 'kielce',\n",
       " \"assassin's\",\n",
       " 'nakajima',\n",
       " 'coulthard',\n",
       " 'comoros',\n",
       " 'siedlce',\n",
       " 'otello',\n",
       " 'sense1',\n",
       " 'rzeszow',\n",
       " 'mersin',\n",
       " 'knopfler',\n",
       " 'balliol',\n",
       " 'gottingen',\n",
       " \"sainsbury's\",\n",
       " 'kalmar',\n",
       " 'televisa',\n",
       " 'kiryat',\n",
       " 'bilecik',\n",
       " 'enserio',\n",
       " 'a&m',\n",
       " 'aurivillius',\n",
       " 'vilhelm',\n",
       " 'jingwei',\n",
       " 'cooder',\n",
       " \"bishop's\",\n",
       " 'katanga',\n",
       " 'r.s.c.',\n",
       " 'anderlecht',\n",
       " 'jean-baptiste',\n",
       " 'hunslet',\n",
       " '1-1-1st',\n",
       " 'superliga',\n",
       " 'schweizerische',\n",
       " 'khulna',\n",
       " 'bertelsmann',\n",
       " \"dad's\",\n",
       " 'svt1',\n",
       " 'jagiellonian',\n",
       " \"hitchhiker's\",\n",
       " 'bixa',\n",
       " 'mayall',\n",
       " 'autant-lara',\n",
       " 'hyogo',\n",
       " 'eczyca',\n",
       " 'friuli',\n",
       " 'kukes',\n",
       " 'karosa',\n",
       " 'bankura',\n",
       " 'crvena',\n",
       " 'gabrovo',\n",
       " 'melvyn',\n",
       " 'gyldendal',\n",
       " 'battista',\n",
       " 'bartoli',\n",
       " 'pelit',\n",
       " 'rxpressen',\n",
       " 'rabbitohs',\n",
       " 'under-1',\n",
       " 'omv',\n",
       " 'petrom',\n",
       " 'killigrew',\n",
       " 'setubal',\n",
       " 'courtauld',\n",
       " 'haugesund',\n",
       " 'mayerling',\n",
       " 'z-cars',\n",
       " 'forli',\n",
       " 'm.f.a.',\n",
       " 'couscoussier',\n",
       " 'morbihan',\n",
       " 'lokomotiv',\n",
       " 'fanu',\n",
       " \"jane's\",\n",
       " 'mulroney',\n",
       " 'eklund',\n",
       " 'colecovision',\n",
       " 'brediceanu',\n",
       " 'intellivision',\n",
       " 'b.i.g.',\n",
       " 'shogakukan',\n",
       " 'gnk',\n",
       " \"dillard's\",\n",
       " 'wadysaw',\n",
       " 'kirkus',\n",
       " 'chabrier',\n",
       " 'farben',\n",
       " 'branagh',\n",
       " '1&data',\n",
       " 'ottaplakkal',\n",
       " 'neelakandan',\n",
       " 'sarmiento',\n",
       " 'yedioth',\n",
       " 'ahronoth',\n",
       " \"america's\",\n",
       " 'karlheinz',\n",
       " 'stockhausen',\n",
       " 'dnipro',\n",
       " 'donetsk',\n",
       " 'gloriana',\n",
       " 'simonon',\n",
       " 'leadon',\n",
       " 'hnefoss',\n",
       " 'sammarinese',\n",
       " 'juilliard',\n",
       " 'guadalcanal',\n",
       " 'agnieszka',\n",
       " 'monegasque',\n",
       " 'gamepro',\n",
       " 'werder',\n",
       " 'ottorino',\n",
       " 'respighi',\n",
       " 'herstal',\n",
       " 'rhineland-palatinate',\n",
       " 'polydor',\n",
       " 'dukakis',\n",
       " \"christie's\",\n",
       " 'janssens',\n",
       " 'boryspil',\n",
       " 'kroq-fm',\n",
       " 'gijon',\n",
       " 'nibelungen',\n",
       " 'maribor',\n",
       " 'dowdupont',\n",
       " 'tamba',\n",
       " 'c-segment',\n",
       " 'binswanger',\n",
       " 'besiktas',\n",
       " 'aeneid',\n",
       " 'barneveld',\n",
       " 'kosma',\n",
       " 'mefistofele',\n",
       " 'jedrzejow',\n",
       " \"maclean's\",\n",
       " 'holdridge',\n",
       " 'marach',\n",
       " '1ws',\n",
       " 'ferenc',\n",
       " \"rowntree's\",\n",
       " 'waszynski',\n",
       " 'reinhold',\n",
       " 'dshk',\n",
       " 'ostade',\n",
       " 'seversky',\n",
       " 'parke-davis',\n",
       " 'amarcord',\n",
       " 'lavelanet',\n",
       " 'gomelsky',\n",
       " 'charente',\n",
       " 'bartn',\n",
       " 'saxony-anhalt',\n",
       " 'pdvsa',\n",
       " 'idlib',\n",
       " 'aubyn',\n",
       " 'rostov',\n",
       " 'rogaland',\n",
       " 'paracelsus',\n",
       " 'kopatchinskaja',\n",
       " 'denizli',\n",
       " 'sack-back',\n",
       " 'gornik',\n",
       " 'podlaskie',\n",
       " 'polonia',\n",
       " 'meisner',\n",
       " 'ulsan',\n",
       " \"martha's\",\n",
       " 'allerd',\n",
       " 'harvick',\n",
       " 'boulet',\n",
       " 'uerdingen',\n",
       " 'trabzonspor',\n",
       " 'pininfarina',\n",
       " 'bielsk',\n",
       " 'podlaski',\n",
       " 'bricusse',\n",
       " '1/1',\n",
       " 'gastein',\n",
       " 'donoghue',\n",
       " 'sncf',\n",
       " 'arnim',\n",
       " 'holyhead',\n",
       " 'jarosaw',\n",
       " 'munhwa',\n",
       " 'intamin',\n",
       " 'huta',\n",
       " 'galung',\n",
       " 'rhine-westphalia',\n",
       " 'stadler',\n",
       " 'woofter',\n",
       " 'udall',\n",
       " 'hebb',\n",
       " 'stockwith',\n",
       " 'butterwick',\n",
       " 'dyar',\n",
       " 'asano',\n",
       " 'soichiro',\n",
       " 'at&t',\n",
       " 'dynix',\n",
       " 'orenstein',\n",
       " 'rauma',\n",
       " 'castellon',\n",
       " 'kashiwa',\n",
       " 'reysol',\n",
       " 'cisse',\n",
       " 'kortrijk',\n",
       " \"clancy's\",\n",
       " 'masaoka',\n",
       " 'petrarch',\n",
       " 'spacebus',\n",
       " 'greenstein',\n",
       " 'kukla',\n",
       " 'vectis',\n",
       " 'kynoch',\n",
       " 'eintracht',\n",
       " 'jacopo',\n",
       " 'dassin',\n",
       " 'warmian-masurian',\n",
       " 'parracombe',\n",
       " 'd&rg',\n",
       " 'massimiliano',\n",
       " 'tanakh',\n",
       " 'demme',\n",
       " 'nemanja',\n",
       " 'orlogsvrftet',\n",
       " 'zala',\n",
       " 'holford',\n",
       " 'haut-rhin',\n",
       " 'malatya',\n",
       " 'zaporizhzhia',\n",
       " 'steenburgen',\n",
       " 'cbre',\n",
       " 'optare',\n",
       " 'troms',\n",
       " 'leszko',\n",
       " 'chabon',\n",
       " 'feldkirch',\n",
       " 'haskovo',\n",
       " \"mary's\",\n",
       " 'priyadarshan',\n",
       " 'ymcas',\n",
       " 'urevi',\n",
       " 'stupovi',\n",
       " 'liiga',\n",
       " 'eishockey',\n",
       " 'tremonti',\n",
       " 'bergson',\n",
       " 'diodorus',\n",
       " 'siculus',\n",
       " 'turek',\n",
       " 'burdekin',\n",
       " 'baden-wurttemberg',\n",
       " 'k.r.c.',\n",
       " 'genk',\n",
       " 'kwazulu-natal',\n",
       " 'chakravarthy',\n",
       " 'garayev',\n",
       " 'wisbech',\n",
       " 'mckim',\n",
       " \"children's\",\n",
       " 'dordrecht',\n",
       " 'paparelli',\n",
       " 'friedrichshafen',\n",
       " 'flistad',\n",
       " 'pricewaterhousecoopers',\n",
       " 'arban',\n",
       " 'sat.1',\n",
       " \"i've\",\n",
       " 'zorawina',\n",
       " 'felixstowe',\n",
       " 'anouilh',\n",
       " 'diakonoff',\n",
       " 'beauvoir',\n",
       " 'nakhchivan',\n",
       " 'jean-julien',\n",
       " 'rojer',\n",
       " 'mariusz',\n",
       " 'shunzhi',\n",
       " \"kiki's\",\n",
       " 'rx-1',\n",
       " 'beeching',\n",
       " 'takagi',\n",
       " 'stepanek',\n",
       " 'gsx-r1',\n",
       " 'feig',\n",
       " 'q&a',\n",
       " 'arcand',\n",
       " 'mediacorp',\n",
       " 'preminger',\n",
       " 'schaal',\n",
       " 'hauts-de-france',\n",
       " 'zweibrucken',\n",
       " 'partizani',\n",
       " '1,1th',\n",
       " 'lubelskie',\n",
       " 'saarland',\n",
       " 'bjarne',\n",
       " 'saregama',\n",
       " 'thinksound',\n",
       " 'sikad',\n",
       " 'domitian',\n",
       " 'korba',\n",
       " 'tirur',\n",
       " 'telarc',\n",
       " 'kawada',\n",
       " 'slovaks',\n",
       " 'nouri',\n",
       " 'pajala',\n",
       " 'ceske',\n",
       " 'budejovice',\n",
       " 'kohlberg',\n",
       " 'kravis',\n",
       " 'shohreh',\n",
       " 'solati',\n",
       " 'cullum',\n",
       " 'bolesaw',\n",
       " \"o'bannon\",\n",
       " 'smartsheet',\n",
       " 'nanchang',\n",
       " 'compiegne',\n",
       " 'gyorgy',\n",
       " 'cynologique',\n",
       " 'tokushima',\n",
       " 'vortis',\n",
       " 'aygo',\n",
       " 'riepl',\n",
       " 'nikolaos',\n",
       " 'obata',\n",
       " 'r&d',\n",
       " 'morang',\n",
       " 'manisa',\n",
       " 'fotbollforbund',\n",
       " 'aerosurveys',\n",
       " 'ilyushin',\n",
       " 'il-1',\n",
       " 'alchemax',\n",
       " 'mccomb',\n",
       " 'claudel',\n",
       " 'isfahan',\n",
       " 'ketil',\n",
       " 'oristano',\n",
       " 'ulaanbaatar',\n",
       " 'astikas',\n",
       " 'manohla',\n",
       " 'dargis',\n",
       " 'hradec',\n",
       " 'kralove',\n",
       " 'malegaon',\n",
       " 'edelstein',\n",
       " 'swabia',\n",
       " 'rawon',\n",
       " 'tampella',\n",
       " 'guiana',\n",
       " 'monteverdi',\n",
       " 'hanna-barbera',\n",
       " 'yevgeny',\n",
       " 'kafelnikov',\n",
       " 'golpazar',\n",
       " 'catalca',\n",
       " 'sztum',\n",
       " 'suleyman',\n",
       " 'belmondo',\n",
       " 'worringer',\n",
       " 'blois',\n",
       " 'jagertee',\n",
       " 'wacz',\n",
       " 'aupeo',\n",
       " 'gabrovnitsa',\n",
       " 'creteil-lusitanos',\n",
       " 'takkar',\n",
       " 'wap-1',\n",
       " 'mendonca',\n",
       " 'bacharach',\n",
       " 'fogerty',\n",
       " 'burkhard',\n",
       " 'yoichi',\n",
       " 'rugen',\n",
       " 'sverigetopplistan',\n",
       " 'reitan',\n",
       " 'greipel',\n",
       " 'worldmaster',\n",
       " 'helsingin',\n",
       " 'antonius',\n",
       " 'gascoigne',\n",
       " 'sardou',\n",
       " 'greyfriars',\n",
       " 'thessaly',\n",
       " 'mashina',\n",
       " 'verneuil',\n",
       " 'mcry',\n",
       " 'reichsbahn',\n",
       " 'kastamonu',\n",
       " 'yukio',\n",
       " 'k1i',\n",
       " 'digregorio',\n",
       " 'wilhelmshaven',\n",
       " 'mohandas',\n",
       " 'karamchand',\n",
       " 'untertan',\n",
       " 'luitenant',\n",
       " 'revolverheld',\n",
       " 'cholmondeley',\n",
       " 'volgograd',\n",
       " 'silappatikaram',\n",
       " 'feige',\n",
       " 'tadeusz',\n",
       " 'bethpage',\n",
       " 'harlin',\n",
       " 'lagonda',\n",
       " 'cernovice',\n",
       " 'skierniewice',\n",
       " 'koblenz',\n",
       " 'messerschmitt',\n",
       " 'ptak',\n",
       " 'bertone',\n",
       " 'rundfunk',\n",
       " 'ovates',\n",
       " 'ocampo',\n",
       " 'subligaculum',\n",
       " 'dsm-1',\n",
       " 'osasuna',\n",
       " 'zwinger',\n",
       " 'kuomintang',\n",
       " 'cammell',\n",
       " 'comrie',\n",
       " 'masagram',\n",
       " 'kloot',\n",
       " 'sarvasya',\n",
       " 'herault',\n",
       " 'picogen',\n",
       " 'irisbus',\n",
       " 'elche',\n",
       " 'energica',\n",
       " 'capek',\n",
       " 'ikeda',\n",
       " 'gamera',\n",
       " 'allaire',\n",
       " 'wieruszow',\n",
       " 'osters',\n",
       " 'letourneau',\n",
       " 'kongsberg',\n",
       " 'jiribam',\n",
       " 'vecernji',\n",
       " 'marilu',\n",
       " 'henner',\n",
       " 'klahn',\n",
       " 'appassionata',\n",
       " 'termez',\n",
       " 'itapemirim',\n",
       " 'espirito',\n",
       " 'samb',\n",
       " 'armilla',\n",
       " 'bolesawiec',\n",
       " 'amrish',\n",
       " 'dalip',\n",
       " 'tahil',\n",
       " 'comenius',\n",
       " 'tsinghua',\n",
       " 'menneske',\n",
       " 'foggini',\n",
       " 'tokitaka',\n",
       " 'shimazu',\n",
       " 'yoshihisa',\n",
       " 'alaungpaya',\n",
       " 'thamyi',\n",
       " 'alexandrovna',\n",
       " 'torstein',\n",
       " 'flakne',\n",
       " 'dreiser',\n",
       " 'if....',\n",
       " 'luganville',\n",
       " 'scrubb',\n",
       " 'sephardim',\n",
       " 'brive-la-gaillarde',\n",
       " 'objat',\n",
       " 'marstal',\n",
       " 'rudkbing',\n",
       " 'kaust',\n",
       " 'duchesne',\n",
       " 'saint-gilles',\n",
       " 'httrack',\n",
       " 'enstrom',\n",
       " 'shoichiro',\n",
       " 'fruehauf',\n",
       " 'falloon',\n",
       " 'terebovlia',\n",
       " 'mcclurg',\n",
       " 'almagro',\n",
       " 'janowicz',\n",
       " 'college-conservatory',\n",
       " 'm.u.d.',\n",
       " 'jiankang',\n",
       " 'walkham',\n",
       " 'sergi',\n",
       " 'pamies',\n",
       " 'v/line',\n",
       " 'almada',\n",
       " 'grigori',\n",
       " 'aleksandrov',\n",
       " 'friedl',\n",
       " 'dusan',\n",
       " 'vemic',\n",
       " 'battistone',\n",
       " 'siljestrom',\n",
       " 'cennamo',\n",
       " 'steamhammer',\n",
       " 'charmanwati',\n",
       " 'charmanvati',\n",
       " 'danieal',\n",
       " 'godber',\n",
       " 'adimali',\n",
       " 'tru1',\n",
       " 'scheifele',\n",
       " 'u.s.a.a.f.',\n",
       " 'knbc',\n",
       " 'wait...',\n",
       " 'primorac',\n",
       " 'gielgud',\n",
       " 'kisshomaru',\n",
       " 'ueshiba',\n",
       " 'dynamit',\n",
       " 'schilpp',\n",
       " 'anamaria',\n",
       " 'haffar',\n",
       " 'recker',\n",
       " 'fabienne',\n",
       " 'zbigniew',\n",
       " 'preisner',\n",
       " 'irbe',\n",
       " 'frideric',\n",
       " 'jiangnan',\n",
       " 'trossard',\n",
       " 'gullah',\n",
       " 'deguara',\n",
       " 'orbeliani',\n",
       " 'sioni',\n",
       " \"destiny's\",\n",
       " 'ludwigshafen',\n",
       " 'dunbartonshire',\n",
       " 'correggio',\n",
       " 'melozzo',\n",
       " 'birveta',\n",
       " 'vitebsk',\n",
       " 'skymark',\n",
       " 'oddworld',\n",
       " 'voima',\n",
       " 'grovesite',\n",
       " 'bearingpoint',\n",
       " \"eddie's\",\n",
       " 'halldorophone',\n",
       " 'magdayao',\n",
       " 'epistula',\n",
       " 'carpianum',\n",
       " 'rdsvi',\n",
       " 'lachin',\n",
       " 'haddaway',\n",
       " 'kometa',\n",
       " 'aujon',\n",
       " 'malmuth',\n",
       " 'avildsen',\n",
       " 'labette',\n",
       " 'missouri-kansas-texas',\n",
       " 'saltmarket',\n",
       " 'gallowgate',\n",
       " 'sonning',\n",
       " 'henman',\n",
       " 'lagasse',\n",
       " 'sonetts',\n",
       " 'khrop',\n",
       " 'esteghlal',\n",
       " 'khuzestan',\n",
       " 'stordahl',\n",
       " 'gaylads',\n",
       " 'heptones',\n",
       " 'rouben',\n",
       " 'mamoulian',\n",
       " 'songcatcher',\n",
       " 'mcteer',\n",
       " 'lepage',\n",
       " 'damvillers',\n",
       " 'aschehoug',\n",
       " 'nygaard',\n",
       " 'avvenire',\n",
       " 'defrancesco',\n",
       " 'rosenblum',\n",
       " 'dehalogenating',\n",
       " 'zsc',\n",
       " \"martin's\",\n",
       " 'summerbee',\n",
       " 'qualicum',\n",
       " 'lantzville',\n",
       " 'nanoose',\n",
       " 'beenox',\n",
       " 'livgren',\n",
       " 'greylock',\n",
       " 'balogh',\n",
       " 'p.i.d.',\n",
       " 'dollarally',\n",
       " 'montfaucon',\n",
       " 'wettstein',\n",
       " 'omont',\n",
       " 'ralt',\n",
       " 'a1.com',\n",
       " 'twemlow',\n",
       " 'krzywin',\n",
       " 'koscian',\n",
       " 'keulemans',\n",
       " 'kios',\n",
       " 'nauplion',\n",
       " 'bruneian',\n",
       " 'valerengens',\n",
       " 'wendkos',\n",
       " 'markle',\n",
       " 'culea',\n",
       " 'zenica',\n",
       " 'fyodor',\n",
       " 'karamazov',\n",
       " 'hizan',\n",
       " 'bitlis',\n",
       " 'pirapora',\n",
       " 'trenitalia',\n",
       " 'juanas',\n",
       " 'kial',\n",
       " 'bordj',\n",
       " 'arreridj',\n",
       " '1tph',\n",
       " 'braniff',\n",
       " 'isambard',\n",
       " 'andretti',\n",
       " 'pisudski',\n",
       " 'stanisaw',\n",
       " 'wojciechowski',\n",
       " 'kocsis',\n",
       " 'duisburg',\n",
       " 'krivan',\n",
       " 'detva',\n",
       " 'lroc',\n",
       " 'hrobice',\n",
       " 'pardubice',\n",
       " 'fumihiko',\n",
       " 'tiberiu',\n",
       " 'coriolan',\n",
       " 'lp1',\n",
       " 'alsthom',\n",
       " 'loureiro',\n",
       " 'akhavan-sales',\n",
       " 'yanzheng',\n",
       " 'darkstalkers',\n",
       " 'pathapatnam',\n",
       " 'mahendratanaya',\n",
       " 'mokihinui',\n",
       " \"cameron's\",\n",
       " 'rossellini',\n",
       " 'sharrock',\n",
       " 'tumansky',\n",
       " 'yufu',\n",
       " 'pittsford',\n",
       " 'pennsylvania-reading',\n",
       " 'adelard',\n",
       " 'lecuona',\n",
       " 'vidovdansko',\n",
       " 'naselje',\n",
       " 'olexander',\n",
       " 'smakula',\n",
       " 'faenza',\n",
       " 'sassuolo',\n",
       " 'cronulla-sutherland',\n",
       " 'hioudji',\n",
       " \"m'rizek\",\n",
       " 'ferreiro',\n",
       " 'horacio',\n",
       " 'zeballos',\n",
       " 'ahac',\n",
       " 'matsushita',\n",
       " 'denko',\n",
       " 'wawel',\n",
       " 'rohan-gie',\n",
       " \"christgau's\",\n",
       " 'christgau',\n",
       " 'vinnegar',\n",
       " 'podhradie',\n",
       " 'zilina',\n",
       " 'parrett',\n",
       " 'jwpce',\n",
       " 'ballycastle',\n",
       " 'kirkenes',\n",
       " 'polygyros',\n",
       " 'yamoussoukro',\n",
       " 'alinda',\n",
       " 'vitry',\n",
       " 'szpilman',\n",
       " 'mochnacz',\n",
       " 'carltheater',\n",
       " 'cholpon-ata',\n",
       " 'skykomish',\n",
       " 'pontivy',\n",
       " 'durufle',\n",
       " 'mulcahy',\n",
       " 'parahyangan',\n",
       " 'franziska',\n",
       " 'dietze',\n",
       " 'panova',\n",
       " 'pivovarova',\n",
       " 'salifou',\n",
       " 'zinder',\n",
       " 'schadlow',\n",
       " 'godbout',\n",
       " 'lorca',\n",
       " 'maruya',\n",
       " 'kreutzmann',\n",
       " 'kieczygow',\n",
       " 'pajeczno',\n",
       " 'ikonion',\n",
       " 'kayqubad',\n",
       " 'baraa',\n",
       " 'novacaixagalicia',\n",
       " 'voynov',\n",
       " 'inprocomm',\n",
       " 'melco',\n",
       " 'abergwynfi',\n",
       " 'cwmystwyth',\n",
       " 'cilfynydd',\n",
       " 'eirini',\n",
       " 'sougia',\n",
       " 'mayak',\n",
       " 'kuschynski',\n",
       " 'jalabert',\n",
       " 'cagney',\n",
       " 'mlouwza',\n",
       " 'sleepify',\n",
       " 'vulfpeck',\n",
       " '1ksounds',\n",
       " 'a-tisket',\n",
       " 'a-tasket',\n",
       " 'u-god',\n",
       " 'ceretti',\n",
       " 'aithadi',\n",
       " 'fawkner',\n",
       " 'corbould',\n",
       " 'mcphatter',\n",
       " 'panamenista',\n",
       " 'auget',\n",
       " 'montyon',\n",
       " 'frunze',\n",
       " 'ohain',\n",
       " 'jorjadze',\n",
       " 'spielkader&data',\n",
       " '1ax1is',\n",
       " 'providencia',\n",
       " 'cencosud',\n",
       " 'ashtamudi',\n",
       " 'mcguinness',\n",
       " 'langsford',\n",
       " 'eamonn',\n",
       " 'radhakrishnan',\n",
       " 'munteanu',\n",
       " 'gradinari',\n",
       " 'zadonsk',\n",
       " '1s1',\n",
       " 'kipner',\n",
       " 'crematorio',\n",
       " 'skjolden',\n",
       " 'sten-ake',\n",
       " 'cederhok',\n",
       " 'bromssen',\n",
       " 'junin',\n",
       " 'szogliget',\n",
       " 'borsod-abauj-zemplen',\n",
       " 'akkari',\n",
       " 'metromedia',\n",
       " 'assous',\n",
       " 'thomesen',\n",
       " 'sehested',\n",
       " 'kotz',\n",
       " 'silafresh',\n",
       " 'kindernet',\n",
       " 'kamikita',\n",
       " \"earth's\",\n",
       " 'hexalogy',\n",
       " 'trumpter',\n",
       " 'anspaugh',\n",
       " 'maceachern',\n",
       " 'ungekusst',\n",
       " 'creswell',\n",
       " 'ntbg',\n",
       " 'sugarcubes',\n",
       " 'triacontanol',\n",
       " 'tatanka',\n",
       " 'kushimoto',\n",
       " 'vichot',\n",
       " 'valtanen',\n",
       " 'noyd',\n",
       " 'aitchison',\n",
       " 'brossay',\n",
       " 'maine-et-loire',\n",
       " 'krans',\n",
       " 'fangio',\n",
       " 'rctv',\n",
       " 'machias',\n",
       " 'ajaylat',\n",
       " 'drasliceni',\n",
       " 'criuleni',\n",
       " 'schwarzlose',\n",
       " 'kovind',\n",
       " 'birnes',\n",
       " 'palevsky',\n",
       " 'hillenburg',\n",
       " 'emarcy',\n",
       " \"james's\",\n",
       " 'auswartsspiel',\n",
       " 'thornycroft',\n",
       " 'zimnicea',\n",
       " 'teleorman',\n",
       " 'frinton-on-sea',\n",
       " 'staudinger',\n",
       " 'semmozhiyaana',\n",
       " 'mozhiyaam',\n",
       " 'g/s',\n",
       " 'tuinfort',\n",
       " 'kropyvnytskyi',\n",
       " 'oleksandriia',\n",
       " 'debaltseve',\n",
       " 'bustill',\n",
       " 'trescothick',\n",
       " 'saguamanchica',\n",
       " 'zipaquira',\n",
       " 'ubate',\n",
       " 'simijaca',\n",
       " 'chadli',\n",
       " 'amri',\n",
       " 'fsv',\n",
       " 'gjesing',\n",
       " 'grameenphone',\n",
       " 'prateik',\n",
       " 'babbar',\n",
       " 'gerhart',\n",
       " 'hauptmann',\n",
       " 'mardock',\n",
       " 'kondakov',\n",
       " 'ganserndorf',\n",
       " 'pemex',\n",
       " 'sreekumaran',\n",
       " 'thampi',\n",
       " 'pronay',\n",
       " 'ruiying',\n",
       " 'xinwen',\n",
       " 'lianbo',\n",
       " 'gerner',\n",
       " 'bouguirat',\n",
       " '1.1kb',\n",
       " 'tsukuba',\n",
       " 'herminio',\n",
       " 'smith-stanley',\n",
       " 'sigesbeckia',\n",
       " 'arcangel',\n",
       " 'krzysztof',\n",
       " 'penderecki',\n",
       " 'bielefeld',\n",
       " 'bundesbahn',\n",
       " 'masreliez',\n",
       " 'dzuboks',\n",
       " 'maksa',\n",
       " 'catovic',\n",
       " 'duisberg',\n",
       " 'hargrove',\n",
       " 'olympiodorus',\n",
       " 'arema',\n",
       " 'sriwijaya',\n",
       " 'aneke',\n",
       " 'sicotte',\n",
       " 'rajawali',\n",
       " 'sigsworth',\n",
       " 'chiccarelli',\n",
       " 'wls-tv',\n",
       " 'gunkel',\n",
       " 'hanani',\n",
       " 'casals',\n",
       " 'gjogv',\n",
       " 'diefenbaker',\n",
       " 'tuborg',\n",
       " 'klampenborg',\n",
       " 'tanaghai',\n",
       " 'majoon',\n",
       " 'radwanska',\n",
       " 'birtwistle',\n",
       " 'redfoo',\n",
       " 'eivind',\n",
       " 'groven',\n",
       " 'joub',\n",
       " 'jannine',\n",
       " 'aa-1',\n",
       " 'amoco',\n",
       " 'ishihara',\n",
       " 'klcdaroglu',\n",
       " 'maley',\n",
       " 'felsted',\n",
       " 'bertsch',\n",
       " 'naevius',\n",
       " 'sutorius',\n",
       " 'sampernandu',\n",
       " 'kamaru',\n",
       " 'omiya',\n",
       " 'ardija',\n",
       " \"d'etat\",\n",
       " 'warris',\n",
       " 'hulton',\n",
       " 'poskinia',\n",
       " 'braniewo',\n",
       " 'dogville',\n",
       " 'gamestar',\n",
       " 'cinefondation',\n",
       " 'gulargambone',\n",
       " 'verbey',\n",
       " 'kennard',\n",
       " \"b'gosh\",\n",
       " 'francorum',\n",
       " 'neustria',\n",
       " 'sportfreunde',\n",
       " 'macnicol',\n",
       " 'rochedale',\n",
       " 'oshiroi',\n",
       " 'kumadori',\n",
       " 'stolac',\n",
       " 'symmachus',\n",
       " 'bajwa',\n",
       " 'anupriya',\n",
       " 'nervastella',\n",
       " 'furet',\n",
       " 'tilson',\n",
       " 'silveyra',\n",
       " 'arnaldo',\n",
       " 'swadesh',\n",
       " 'kaineus',\n",
       " 'caeneus',\n",
       " 'mecachrome',\n",
       " 'intrawest',\n",
       " 'mller',\n",
       " 'salmson',\n",
       " 'phrygane',\n",
       " 'barkol',\n",
       " 'lakoff',\n",
       " 'heisei',\n",
       " 'chikuho',\n",
       " 'lauck',\n",
       " 'edimbourg',\n",
       " 'dongfang',\n",
       " 'xinbu',\n",
       " 'osbournes',\n",
       " 'mbali',\n",
       " 'ntuli',\n",
       " ...]"
      ]
     },
     "execution_count": 48,
     "metadata": {},
     "output_type": "execute_result"
    }
   ],
   "source": [
    "not_in"
   ]
  },
  {
   "cell_type": "markdown",
   "id": "71d72e3e",
   "metadata": {},
   "source": [
    "# 4. Further Analysis"
   ]
  },
  {
   "cell_type": "markdown",
   "id": "015785c4",
   "metadata": {},
   "source": [
    "In this section I want to inspect more the data in order to understand, if possible, the relation between tokens and labels and their \"context\"."
   ]
  },
  {
   "cell_type": "code",
   "execution_count": null,
   "id": "2d4fc49f",
   "metadata": {},
   "outputs": [],
   "source": [
    "def read_dataset(data_path: str) -> (List[List[str]], List[List[str]]):\n",
    "    \"\"\"\n",
    "    Returns\n",
    "    -------\n",
    "        Two lists of lists containing sentences and labels respectively.\n",
    "        \n",
    "    Parameters\n",
    "    ----------\n",
    "    data_path: str\n",
    "        Data path of the dataset.\n",
    "    \"\"\"\n",
    "    \n",
    "    sentences_list = []\n",
    "    labels_list = []\n",
    "    \n",
    "    with open(data_path, \"r\", encoding='utf-8') as f:\n",
    "        for line in f:\n",
    "            row = line.strip()\n",
    "            \n",
    "            if row.startswith(\"#\\tid\"): # New sentence\n",
    "                sentence = []\n",
    "                labels = []\n",
    "                \n",
    "            elif row == \"\": # End of the sentence\n",
    "                sentences_list.append(sentence)\n",
    "                labels_list.append(labels)\n",
    "            \n",
    "            else: # Words of a sentence\n",
    "                word, label = row.split('\\t')\n",
    "                \n",
    "                sentence.append(word)\n",
    "                labels.append(label)\n",
    "   \n",
    "    return sentences_list, labels_list"
   ]
  },
  {
   "cell_type": "code",
   "execution_count": 120,
   "id": "e4ccf75c",
   "metadata": {},
   "outputs": [],
   "source": [
    "# Create a dictionary which is like the data file\n",
    "def read_data_like(data_path: str) -> dict:\n",
    "    \"\"\"\n",
    "    Returns\n",
    "    -------\n",
    "        A dictionaty that \"mimic\" the file structure\n",
    "        of the dataset.\n",
    "        So, the keys of the dictionary are the sentence id;\n",
    "        Each element of the dictionary is a list contaning\n",
    "        pairs of tokens and labels.\n",
    "        \n",
    "    Parameters\n",
    "    ----------\n",
    "    data_path: str\n",
    "        Data path of the dataset.\n",
    "    \"\"\"\n",
    "    data = {}\n",
    "\n",
    "    with open(data_path, \"r\") as f:\n",
    "        for line in f:\n",
    "            row = line.strip()\n",
    "\n",
    "            if row.startswith(\"#\\tid\"): # New sentence\n",
    "                sentence_id = int(row.split('\\t')[-1])\n",
    "                data[sentence_id] = []\n",
    "        \n",
    "            elif row == \"\": # End of the sentence\n",
    "                continue\n",
    "                \n",
    "            else: # Words of a sentence\n",
    "                word, label = row.split('\\t')\n",
    "                data[sentence_id].append((word, label))\n",
    "    \n",
    "    return data"
   ]
  },
  {
   "cell_type": "code",
   "execution_count": 121,
   "id": "5cbb127f",
   "metadata": {},
   "outputs": [],
   "source": [
    "train_like_file = read_data_like(train_clean_path)"
   ]
  },
  {
   "cell_type": "code",
   "execution_count": 125,
   "id": "722a1023",
   "metadata": {},
   "outputs": [
    {
     "data": {
      "text/plain": [
       "[('it', 'O'),\n",
       " ('lies', 'O'),\n",
       " ('approximately', 'O'),\n",
       " ('north', 'O'),\n",
       " ('east', 'O'),\n",
       " ('of', 'O'),\n",
       " ('bolesawiec', 'B-LOC'),\n",
       " (',', 'O'),\n",
       " ('and', 'O'),\n",
       " ('west', 'O'),\n",
       " ('of', 'O'),\n",
       " ('the', 'O'),\n",
       " ('regional', 'O'),\n",
       " ('capital', 'O'),\n",
       " ('wrocaw', 'B-LOC'),\n",
       " ('.', 'O')]"
      ]
     },
     "execution_count": 125,
     "metadata": {},
     "output_type": "execute_result"
    }
   ],
   "source": [
    "train_like_file[0]"
   ]
  },
  {
   "cell_type": "code",
   "execution_count": 134,
   "id": "c59be979",
   "metadata": {},
   "outputs": [],
   "source": [
    "def get_tokens_labels_before(ds: dict, before_label:str) -> list:\n",
    "    \"\"\"\n",
    "    Returns\n",
    "    -------\n",
    "        A list with the tokens and the corresponding label\n",
    "        preceding the tokens whose label is 'before_label'.\n",
    "        \n",
    "        The list is composed by tuples (idx, position, token, label) where:\n",
    "        - idx is the sentence id\n",
    "        - postion of the token in the sentence\n",
    "        - token\n",
    "        - label\n",
    "    \"\"\"\n",
    "    \n",
    "    before_list = []\n",
    "\n",
    "    for idx, sentence in ds.items():\n",
    "        for position, (token, label) in enumerate(sentence):\n",
    "            if before_label in label:\n",
    "                before_list.append((idx, position, sentence[position - 1][0], sentence[position - 1][1]))\n",
    "    \n",
    "    return before_list"
   ]
  },
  {
   "cell_type": "code",
   "execution_count": 163,
   "id": "e2073b2d",
   "metadata": {},
   "outputs": [],
   "source": [
    "b_labels = [\"B-PER\", \"B-LOC\", \"B-GRP\", \"B-CORP\", \"B-CW\", \"B-PROD\"]\n",
    "i_labels = [\"I-PER\", \"I-LOC\", \"I-GRP\", \"I-CORP\", \"I-CW\", \"I-PROD\"]"
   ]
  },
  {
   "cell_type": "code",
   "execution_count": 164,
   "id": "d21df53a",
   "metadata": {},
   "outputs": [],
   "source": [
    "before_entity = {}\n",
    "\n",
    "\n",
    "for lab in b_labels:\n",
    "    before_entity[lab] = get_tokens_labels_before(train_like_file, lab)"
   ]
  },
  {
   "cell_type": "code",
   "execution_count": 166,
   "id": "a6cc0d5c",
   "metadata": {},
   "outputs": [],
   "source": [
    "common_before = {}\n",
    "for lab in b_labels:\n",
    "    _, _, common_before[lab], _ = list(zip(*before_entity[lab]))\n",
    "    "
   ]
  },
  {
   "cell_type": "code",
   "execution_count": 167,
   "id": "6dbe13d1",
   "metadata": {
    "scrolled": true
   },
   "outputs": [
    {
     "data": {
      "image/png": "[encoded data removed]",
      "text/plain": [
       "<Figure size 640x320 with 1 Axes>"
      ]
     },
     "metadata": {
      "needs_background": "light"
     },
     "output_type": "display_data"
    },
    {
     "data": {
      "image/png": "[encoded data removed]",
      "text/plain": [
       "<Figure size 640x320 with 1 Axes>"
      ]
     },
     "metadata": {
      "needs_background": "light"
     },
     "output_type": "display_data"
    },
    {
     "data": {
      "image/png": "[encoded data removed]",
      "text/plain": [
       "<Figure size 640x320 with 1 Axes>"
      ]
     },
     "metadata": {
      "needs_background": "light"
     },
     "output_type": "display_data"
    },
    {
     "data": {
      "image/png": "[encoded data removed]",
      "text/plain": [
       "<Figure size 640x320 with 1 Axes>"
      ]
     },
     "metadata": {
      "needs_background": "light"
     },
     "output_type": "display_data"
    },
    {
     "data": {
      "image/png": "[encoded data removed]",
      "text/plain": [
       "<Figure size 640x320 with 1 Axes>"
      ]
     },
     "metadata": {
      "needs_background": "light"
     },
     "output_type": "display_data"
    },
    {
     "data": {
      "image/png": "[encoded data removed]",
      "text/plain": [
       "<Figure size 640x320 with 1 Axes>"
      ]
     },
     "metadata": {
      "needs_background": "light"
     },
     "output_type": "display_data"
    }
   ],
   "source": [
    "for lab in b_labels:\n",
    "    freq = dict(Counter(common_before[lab]).most_common(n=20))\n",
    "    plot_freq(freq, title=lab)"
   ]
  },
  {
   "cell_type": "markdown",
   "id": "2c408aa6",
   "metadata": {},
   "source": [
    "Most of the preceding tokens are stopwords or punctuation"
   ]
  },
  {
   "cell_type": "code",
   "execution_count": null,
   "id": "44d30aa6",
   "metadata": {},
   "outputs": [],
   "source": []
  },
  {
   "cell_type": "code",
   "execution_count": 156,
   "id": "aba1d8af",
   "metadata": {},
   "outputs": [],
   "source": [
    "def get_tokens_labels(ds: dict, entity_label:str) -> list:\n",
    "    \"\"\"\n",
    "    Returns\n",
    "    -------\n",
    "        A list with the tokens and the corresponding label,\n",
    "        where the label is 'entity_label'.\n",
    "        \n",
    "        The list is composed by tuples (idx, position, token, label) where:\n",
    "        - idx is the sentence id\n",
    "        - postion of the token in the sentence\n",
    "        - token\n",
    "        - label\n",
    "    \"\"\"\n",
    "    \n",
    "    entities_list = []\n",
    "\n",
    "    for idx, sentence in ds.items():\n",
    "        for position, (token, label) in enumerate(sentence):\n",
    "            if entity_label in label:\n",
    "                entities_list.append((idx, position, sentence[position][0], sentence[position][1]))\n",
    "    \n",
    "    return entities_list"
   ]
  },
  {
   "cell_type": "code",
   "execution_count": 171,
   "id": "bfcaaf1c",
   "metadata": {},
   "outputs": [],
   "source": [
    "b_entities = {}\n",
    "\n",
    "for lab in b_labels:\n",
    "    b_entities[lab] = get_tokens_labels(train_like_file, lab)"
   ]
  },
  {
   "cell_type": "code",
   "execution_count": 174,
   "id": "32557027",
   "metadata": {},
   "outputs": [],
   "source": [
    "b_common = {}\n",
    "for lab in b_labels:\n",
    "    _, _, b_common[lab], _ = list(zip(*b_entities[lab]))"
   ]
  },
  {
   "cell_type": "code",
   "execution_count": 175,
   "id": "780f48af",
   "metadata": {
    "scrolled": true
   },
   "outputs": [
    {
     "data": {
      "image/png": "[encoded data removed]",
      "text/plain": [
       "<Figure size 640x320 with 1 Axes>"
      ]
     },
     "metadata": {
      "needs_background": "light"
     },
     "output_type": "display_data"
    },
    {
     "data": {
      "image/png": "[encoded data removed]",
      "text/plain": [
       "<Figure size 640x320 with 1 Axes>"
      ]
     },
     "metadata": {
      "needs_background": "light"
     },
     "output_type": "display_data"
    },
    {
     "data": {
      "image/png": "[encoded data removed]",
      "text/plain": [
       "<Figure size 640x320 with 1 Axes>"
      ]
     },
     "metadata": {
      "needs_background": "light"
     },
     "output_type": "display_data"
    },
    {
     "data": {
      "image/png": "[encoded data removed]",
      "text/plain": [
       "<Figure size 640x320 with 1 Axes>"
      ]
     },
     "metadata": {
      "needs_background": "light"
     },
     "output_type": "display_data"
    },
    {
     "data": {
      "image/png": "[encoded data removed]",
      "text/plain": [
       "<Figure size 640x320 with 1 Axes>"
      ]
     },
     "metadata": {
      "needs_background": "light"
     },
     "output_type": "display_data"
    },
    {
     "data": {
      "image/png": "[encoded data removed]",
      "text/plain": [
       "<Figure size 640x320 with 1 Axes>"
      ]
     },
     "metadata": {
      "needs_background": "light"
     },
     "output_type": "display_data"
    }
   ],
   "source": [
    "for lab in b_labels:\n",
    "    freq = dict(Counter(b_common[lab]).most_common(n=20))\n",
    "    plot_freq(freq, title=lab)"
   ]
  },
  {
   "cell_type": "markdown",
   "id": "0383afe7",
   "metadata": {},
   "source": [
    "These plots explain very well the principal problem of my classifier. If you inspect the confusion matrix of my model (in the **training** notebook), you can see that the most two mis-classified labels are `B-PROD` and `B-CW`. In particular, the errors come from the fact that the model classify them as `O`. \n",
    "\n",
    "In these plots, we can see that `B-PROD` and `B-CW` are frequently either rare words or even stopwords, as happens for `CW`. So, the model easily confuse them with `O`. Maybe, for `B-PROD` is sufficient to increase the number of samples.\n",
    "\n",
    "I thought that a possible solution is to concatenate the POS tag to the word embeddings, however I did not find a good tuning for the hyper-parameters.\n",
    "\n",
    "Perhaps, another semantic or morphological approach could have helped."
   ]
  },
  {
   "cell_type": "code",
   "execution_count": null,
   "id": "c09968a6",
   "metadata": {},
   "outputs": [],
   "source": []
  },
  {
   "cell_type": "code",
   "execution_count": 184,
   "id": "422f8b78",
   "metadata": {},
   "outputs": [],
   "source": [
    "i_entities = {}\n",
    "\n",
    "for lab in i_labels:\n",
    "    i_entities[lab] = get_tokens_labels(train_like_file, lab)"
   ]
  },
  {
   "cell_type": "code",
   "execution_count": 185,
   "id": "36b7f319",
   "metadata": {},
   "outputs": [],
   "source": [
    "i_common = {}\n",
    "for lab in i_labels:\n",
    "    _, _, i_common[lab], _ = list(zip(*i_entities[lab]))"
   ]
  },
  {
   "cell_type": "code",
   "execution_count": 186,
   "id": "a891f41d",
   "metadata": {
    "scrolled": true
   },
   "outputs": [
    {
     "data": {
      "image/png": "[encoded data removed]",
      "text/plain": [
       "<Figure size 640x320 with 1 Axes>"
      ]
     },
     "metadata": {
      "needs_background": "light"
     },
     "output_type": "display_data"
    },
    {
     "data": {
      "image/png": "[encoded data removed]",
      "text/plain": [
       "<Figure size 640x320 with 1 Axes>"
      ]
     },
     "metadata": {
      "needs_background": "light"
     },
     "output_type": "display_data"
    },
    {
     "data": {
      "image/png": "[encoded data removed]",
      "text/plain": [
       "<Figure size 640x320 with 1 Axes>"
      ]
     },
     "metadata": {
      "needs_background": "light"
     },
     "output_type": "display_data"
    },
    {
     "data": {
      "image/png": "[encoded data removed]",
      "text/plain": [
       "<Figure size 640x320 with 1 Axes>"
      ]
     },
     "metadata": {
      "needs_background": "light"
     },
     "output_type": "display_data"
    },
    {
     "data": {
      "image/png": "[encoded data removed]",
      "text/plain": [
       "<Figure size 640x320 with 1 Axes>"
      ]
     },
     "metadata": {
      "needs_background": "light"
     },
     "output_type": "display_data"
    },
    {
     "data": {
      "image/png": "[encoded data removed]",
      "text/plain": [
       "<Figure size 640x320 with 1 Axes>"
      ]
     },
     "metadata": {
      "needs_background": "light"
     },
     "output_type": "display_data"
    }
   ],
   "source": [
    "for lab in i_labels:\n",
    "    freq = dict(Counter(i_common[lab]).most_common(n=20))\n",
    "    plot_freq(freq, title=lab)"
   ]
  },
  {
   "cell_type": "code",
   "execution_count": null,
   "id": "ba59b66f",
   "metadata": {},
   "outputs": [],
   "source": []
  },
  {
   "cell_type": "markdown",
   "id": "ae720b15",
   "metadata": {},
   "source": [
    "Here there is a rough analysis on the sentences lengths in order to see the expected sentence length for different batch sizes. \n",
    "From this, I choose to use `collate_batch` in the **training** notebook, in order not to pad the sentences to the maximum length (41), but to the maximum length in the batch.\n",
    "\n",
    "The idea and function `plot_expected_lengths` come from here: https://www.kaggle.com/code/bminixhofer/speed-up-your-rnn-with-sequence-bucketing/notebook"
   ]
  },
  {
   "cell_type": "code",
   "execution_count": 201,
   "id": "34dface7",
   "metadata": {
    "id": "34dface7"
   },
   "outputs": [],
   "source": [
    "lengths = np.array([len(s) for s in train_sentences])"
   ]
  },
  {
   "cell_type": "code",
   "execution_count": 12,
   "id": "6f6b7e26",
   "metadata": {
    "id": "6f6b7e26"
   },
   "outputs": [],
   "source": [
    "def print_lengths(from_len, to_len):\n",
    "    print(f\"Sentences with length between {from_len + 1} and {to_len - 1}: \" \\\n",
    "        f\"{len(lengths[lengths < to_len]) - len(lengths[lengths < from_len])}\" )"
   ]
  },
  {
   "cell_type": "code",
   "execution_count": 13,
   "id": "48b35986",
   "metadata": {
    "id": "48b35986",
    "outputId": "aa2b6dcd-c30c-4566-9180-758e131b27a3"
   },
   "outputs": [
    {
     "name": "stdout",
     "output_type": "stream",
     "text": [
      "Sentences with length less than 10: 1900\n"
     ]
    }
   ],
   "source": [
    "print(f\"Sentences with length less than 10: {len(lengths[lengths < 10])}\" )"
   ]
  },
  {
   "cell_type": "code",
   "execution_count": 14,
   "id": "d6458eb7",
   "metadata": {
    "id": "d6458eb7",
    "outputId": "fc8fe6f9-adf0-4266-ab56-2d2da50ab1a2",
    "scrolled": true
   },
   "outputs": [
    {
     "name": "stdout",
     "output_type": "stream",
     "text": [
      "Sentences with length between 11 and 19: 8264\n"
     ]
    }
   ],
   "source": [
    "# print(f\"Sentences with length between 11 and 19: {len(lengths[lengths < 20]) - len(lengths[lengths < 10])}\" )\n",
    "print_lengths(10, 20)"
   ]
  },
  {
   "cell_type": "code",
   "execution_count": 15,
   "id": "0b69d2ad",
   "metadata": {
    "id": "0b69d2ad",
    "outputId": "740f0d3e-9d80-4d7d-b52c-c1b2e59ad750"
   },
   "outputs": [
    {
     "name": "stdout",
     "output_type": "stream",
     "text": [
      "Sentences with length between 11 and 14: 4381\n"
     ]
    }
   ],
   "source": [
    "print_lengths(10, 15)"
   ]
  },
  {
   "cell_type": "code",
   "execution_count": 16,
   "id": "fadbe2c6",
   "metadata": {
    "id": "fadbe2c6",
    "outputId": "778f0de2-8bf6-4966-b7fe-a9eab096752d"
   },
   "outputs": [
    {
     "name": "stdout",
     "output_type": "stream",
     "text": [
      "Sentences with length between 16 and 19: 3883\n"
     ]
    }
   ],
   "source": [
    "print_lengths(15, 20)"
   ]
  },
  {
   "cell_type": "code",
   "execution_count": 21,
   "id": "f0b14db7",
   "metadata": {},
   "outputs": [
    {
     "name": "stdout",
     "output_type": "stream",
     "text": [
      "Sentences with length between 21 and 29: 3912\n"
     ]
    }
   ],
   "source": [
    "print_lengths(20, 30)"
   ]
  },
  {
   "cell_type": "code",
   "execution_count": 22,
   "id": "514023c9",
   "metadata": {},
   "outputs": [
    {
     "name": "stdout",
     "output_type": "stream",
     "text": [
      "Sentences with length between 31 and 39: 457\n"
     ]
    }
   ],
   "source": [
    "print_lengths(30, 40)"
   ]
  },
  {
   "cell_type": "code",
   "execution_count": 23,
   "id": "19e4b0d9",
   "metadata": {},
   "outputs": [
    {
     "name": "stdout",
     "output_type": "stream",
     "text": [
      "Sentences with length between 41 and 49: 2\n"
     ]
    }
   ],
   "source": [
    "print_lengths(40, 50)"
   ]
  },
  {
   "cell_type": "code",
   "execution_count": 25,
   "id": "614b1b9d",
   "metadata": {
    "id": "614b1b9d",
    "outputId": "3a91ccc4-b662-427d-d001-eea48588acb5",
    "scrolled": true
   },
   "outputs": [
    {
     "name": "stdout",
     "output_type": "stream",
     "text": [
      "Sentences with length greater than 41: 1\n"
     ]
    }
   ],
   "source": [
    "print(f\"Sentences with length greater than 41: {len(lengths[lengths == 41])}\")"
   ]
  },
  {
   "cell_type": "code",
   "execution_count": 197,
   "id": "ca0fa0dd",
   "metadata": {
    "id": "ca0fa0dd"
   },
   "outputs": [],
   "source": [
    "import tqdm\n",
    "import math\n",
    "import matplotlib.pyplot as plt\n",
    "from matplotlib.patches import ConnectionPatch\n",
    "import seaborn as sns\n",
    "MAX_LEN = 41"
   ]
  },
  {
   "cell_type": "code",
   "execution_count": 198,
   "id": "d9bf8701",
   "metadata": {
    "id": "d9bf8701"
   },
   "outputs": [],
   "source": [
    "def plot_expected_lengths(lengths, batch_sizes, choose_length, markers=[], n_batches=10000):\n",
    "    fig, axarr = plt.subplots(len(batch_sizes), 1, figsize=(14, 20), sharex=True)\n",
    "    expected_lengths = {}\n",
    "    \n",
    "    for i, batch_size in enumerate(batch_sizes):\n",
    "        maxs = []\n",
    "\n",
    "        for _ in range(n_batches):\n",
    "            val = choose_length(np.random.choice(lengths, batch_size))\n",
    "            maxs.append(math.ceil(val))\n",
    "\n",
    "        pd.Series(maxs).plot.hist(bins=50, ax=axarr[i], density=True, color='black', edgecolor='white', alpha=0.1)\n",
    "        expected = np.mean(maxs)\n",
    "        expected_lengths[batch_size] = expected\n",
    "        \n",
    "        max_y = axarr[i].get_ylim()[1]\n",
    "        \n",
    "        axarr[i].vlines([expected], 0, 1e3, 'limegreen', lw=4)\n",
    "        axarr[i].set_ylim([0, max_y])\n",
    "        axarr[i].set_xlim([0, max(lengths)])\n",
    "        axarr[i].set_ylabel(f'batch_size={batch_size}', rotation=0)\n",
    "        axarr[i].yaxis.set_label_coords(-0.1, 0.45)\n",
    "        axarr[i].set_yticks([])\n",
    "\n",
    "    for marker in markers:\n",
    "        con = ConnectionPatch(xyA=(marker, axarr[0].get_ylim()[1]), xyB=(marker, 0), coordsA='data', \n",
    "                              coordsB='data', axesA=axarr[0], axesB=axarr[-1], color='red', lw=4)\n",
    "        axarr[0].add_artist(con)\n",
    "    \n",
    "    axarr[0].set_zorder(1)\n",
    "    axarr[0].set_title(f'Expected sequence lengths with various batch sizes (n per batch = {n_batches})')\n",
    "    plt.subplots_adjust(hspace=0)\n",
    "    \n",
    "    return expected_lengths"
   ]
  },
  {
   "cell_type": "code",
   "execution_count": 199,
   "id": "62188638",
   "metadata": {
    "id": "62188638"
   },
   "outputs": [],
   "source": [
    "batch_sizes = [32, 64, 128, 256, 512]"
   ]
  },
  {
   "cell_type": "code",
   "execution_count": 202,
   "id": "437f463d",
   "metadata": {
    "collapsed": true,
    "id": "437f463d",
    "outputId": "2232a3da-0985-4a37-d861-0214765c0891"
   },
   "outputs": [
    {
     "name": "stdout",
     "output_type": "stream",
     "text": [
      "\n"
     ]
    },
    {
     "data": {
      "image/png": "[encoded data removed]",
      "text/plain": [
       "<Figure size 1008x1440 with 5 Axes>"
      ]
     },
     "metadata": {
      "needs_background": "light"
     },
     "output_type": "display_data"
    }
   ],
   "source": [
    "expected_lengths = plot_expected_lengths(lengths, batch_sizes, lambda lengths: lengths.max(), markers=[MAX_LEN])\n",
    "plt.xlabel('Maximum sequence length in batch')\n",
    "print()"
   ]
  },
  {
   "cell_type": "code",
   "execution_count": null,
   "id": "9212258f",
   "metadata": {
    "collapsed": true,
    "id": "9212258f",
    "outputId": "8f775086-efa3-40c0-e183-b53bf6e93447"
   },
   "outputs": [
    {
     "data": {
      "text/plain": [
       "Text(0.5, 0, '95th percentile of sequence length in batch')"
      ]
     },
     "execution_count": 131,
     "metadata": {},
     "output_type": "execute_result"
    },
    {
     "data": {
      "image/png": "[encoded data removed]",
      "text/plain": [
       "<Figure size 1008x1440 with 5 Axes>"
      ]
     },
     "metadata": {
      "needs_background": "light"
     },
     "output_type": "display_data"
    }
   ],
   "source": [
    "expected_lengths = plot_expected_lengths(lengths, batch_sizes, lambda lengths: np.percentile(lengths, q=95), markers=[MAX_LEN])\n",
    "plt.xlabel('95th percentile of sequence length in batch')"
   ]
  },
  {
   "cell_type": "code",
   "execution_count": null,
   "id": "663f56e7",
   "metadata": {
    "id": "663f56e7",
    "outputId": "ef3f7b6d-dd75-492e-9ec6-2ce770f3bdf9"
   },
   "outputs": [
    {
     "data": {
      "text/plain": [
       "28.0"
      ]
     },
     "execution_count": 132,
     "metadata": {},
     "output_type": "execute_result"
    }
   ],
   "source": [
    "np.percentile(lengths, q=95)"
   ]
  }
 ],
 "metadata": {
  "accelerator": "GPU",
  "colab": {
   "collapsed_sections": [
    "65d6397e"
   ],
   "name": "Finally.ipynb",
   "provenance": [
    {
     "file_id": "11EBMiFn7nJUUlvacAcVRD9UiQiHINzI0",
     "timestamp": 1648722356237
    }
   ]
  },
  "kernelspec": {
   "display_name": "Python 3.7 (DL)",
   "language": "python",
   "name": "dl"
  },
  "language_info": {
   "codemirror_mode": {
    "name": "ipython",
    "version": 3
   },
   "file_extension": ".py",
   "mimetype": "text/x-python",
   "name": "python",
   "nbconvert_exporter": "python",
   "pygments_lexer": "ipython3",
   "version": "3.7.13"
  }
 },
 "nbformat": 4,
 "nbformat_minor": 5
}
