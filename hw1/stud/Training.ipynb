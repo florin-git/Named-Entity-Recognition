{
 "cells": [
  {
   "cell_type": "markdown",
   "id": "25a7ffa8",
   "metadata": {},
   "source": [
    "# Setup"
   ]
  },
  {
   "cell_type": "code",
   "execution_count": 3,
   "id": "3b567e07",
   "metadata": {
    "executionInfo": {
     "elapsed": 7129,
     "status": "ok",
     "timestamp": 1649866044416,
     "user": {
      "displayName": "Florin Cuconasu",
      "userId": "13345521608196528334"
     },
     "user_tz": -120
    },
    "id": "3b567e07"
   },
   "outputs": [],
   "source": [
    "import numpy as np\n",
    "import matplotlib.pyplot as plt\n",
    "\n",
    "import time\n",
    "import string\n",
    "import re\n",
    "from collections import Counter\n",
    "import random\n",
    "from typing import *\n",
    "import csv\n",
    "\n",
    "import torch\n",
    "from torch import nn\n",
    "from torch.utils.data import Dataset, DataLoader\n",
    "\n",
    "SEED = 10\n",
    "\n",
    "random.seed(SEED)\n",
    "np.random.seed(SEED)\n",
    "torch.manual_seed(SEED)\n",
    "torch.cuda.manual_seed(SEED)\n",
    "torch.backends.cudnn.deterministic = True"
   ]
  },
  {
   "cell_type": "code",
   "execution_count": 4,
   "id": "6cf2d708",
   "metadata": {
    "colab": {
     "base_uri": "https://localhost:8080/"
    },
    "executionInfo": {
     "elapsed": 12,
     "status": "ok",
     "timestamp": 1649866044418,
     "user": {
      "displayName": "Florin Cuconasu",
      "userId": "13345521608196528334"
     },
     "user_tz": -120
    },
    "id": "6cf2d708",
    "outputId": "fc5ebee7-ea71-436e-92e9-660a69dba9ad"
   },
   "outputs": [
    {
     "data": {
      "text/plain": [
       "device(type='cuda')"
      ]
     },
     "execution_count": 4,
     "metadata": {},
     "output_type": "execute_result"
    }
   ],
   "source": [
    "device = torch.device(\"cuda\" if torch.cuda.is_available() else \"cpu\")\n",
    "device "
   ]
  },
  {
   "cell_type": "code",
   "execution_count": 3,
   "id": "terw36yHE01T",
   "metadata": {
    "colab": {
     "base_uri": "https://localhost:8080/"
    },
    "executionInfo": {
     "elapsed": 17934,
     "status": "ok",
     "timestamp": 1649866063357,
     "user": {
      "displayName": "Florin Cuconasu",
      "userId": "13345521608196528334"
     },
     "user_tz": -120
    },
    "id": "terw36yHE01T",
    "outputId": "5fe2fc4b-9806-44e5-8efc-22c423bf5844"
   },
   "outputs": [
    {
     "name": "stdout",
     "output_type": "stream",
     "text": [
      "Mounted at /content/drive\n"
     ]
    }
   ],
   "source": [
    "from google.colab import drive\n",
    "drive.mount('/content/drive')"
   ]
  },
  {
   "cell_type": "markdown",
   "id": "1d2e0722",
   "metadata": {},
   "source": [
    "# Import from Preprocessing"
   ]
  },
  {
   "cell_type": "markdown",
   "id": "c569acd0",
   "metadata": {},
   "source": [
    "In this first part are imported all the preprocessed data from the **preprocessing** notebook."
   ]
  },
  {
   "cell_type": "code",
   "execution_count": 5,
   "id": "9ecbd90a",
   "metadata": {},
   "outputs": [],
   "source": [
    "def read_dataset(data_path: str) -> (List[List[str]], List[List[str]]):\n",
    "    \"\"\"\n",
    "    Returns\n",
    "    -------\n",
    "        Two lists of lists containing sentences and labels respectively.\n",
    "        \n",
    "    Parameters\n",
    "    ----------\n",
    "    data_path: str\n",
    "        Data path of the dataset.\n",
    "    \"\"\"\n",
    "    \n",
    "    sentences_list = []\n",
    "    labels_list = []\n",
    "    \n",
    "    with open(data_path, \"r\", encoding='utf-8') as f:\n",
    "        for line in f:\n",
    "            row = line.strip()\n",
    "            \n",
    "            if row.startswith(\"#\\tid\"): # New sentence\n",
    "                sentence = []\n",
    "                labels = []\n",
    "                \n",
    "            elif row == \"\": # End of the sentence\n",
    "                sentences_list.append(sentence)\n",
    "                labels_list.append(labels)\n",
    "            \n",
    "            else: # Words of a sentence\n",
    "                word, label = row.split('\\t')\n",
    "                \n",
    "                sentence.append(word)\n",
    "                labels.append(label)\n",
    "   \n",
    "    return sentences_list, labels_list"
   ]
  },
  {
   "cell_type": "code",
   "execution_count": 6,
   "id": "f8fc1db2",
   "metadata": {},
   "outputs": [],
   "source": [
    "# Utility function taken from the 'evaluate.py' script\n",
    "def flat_list(l: List[List[Any]]) -> List[Any]:\n",
    "    \"\"\"\n",
    "    Returns\n",
    "    -------\n",
    "        A single list containing all elements that\n",
    "        were in the input list.\n",
    "        \n",
    "    Parameters\n",
    "    ----------\n",
    "    l: List[List[Any]]\n",
    "        A list of lists of any type\n",
    "    \"\"\"\n",
    "    return [_e for e in l for _e in e]"
   ]
  },
  {
   "cell_type": "code",
   "execution_count": 7,
   "id": "0dc57be2",
   "metadata": {},
   "outputs": [],
   "source": [
    "def freq_most_common_tokens(dataset_text: List[List[str]], n: int = 20) -> dict:\n",
    "    \"\"\"\n",
    "    Returns\n",
    "    -------\n",
    "        The first n common tokens and their frequencies, where the tokens are\n",
    "        retrieved from the list 'dataset_text'.\n",
    "        \n",
    "    Parameters\n",
    "    ----------\n",
    "    dataset_text: List[List[str]]\n",
    "        A list of lists of strings. \n",
    "        In this case each nested list is a sentence.\n",
    "    \n",
    "    n: int\n",
    "        Indicates how many tokens to consider.\n",
    "        If it is a negative number, \n",
    "        the function returns the frequencies of all the tokens in the dataset.\n",
    "    \n",
    "    \"\"\"\n",
    "    # The input is flattened\n",
    "    tokens = flat_list(dataset_text)  \n",
    "\n",
    "    # If negative number, return the frequency of all the tokens\n",
    "    if n <= -1:\n",
    "        return dict(Counter(tokens).most_common(len(Counter(tokens))))\n",
    "    else:\n",
    "        return dict(Counter(tokens).most_common(n))"
   ]
  },
  {
   "cell_type": "code",
   "execution_count": 8,
   "id": "8b6495d9",
   "metadata": {},
   "outputs": [],
   "source": [
    "train_pos_dep_path = \"../../data/train_pos_dep.tsv\"\n",
    "valid_pos_dep_path = \"../../data/valid_pos_dep.tsv\""
   ]
  },
  {
   "cell_type": "code",
   "execution_count": 9,
   "id": "d3267cd2",
   "metadata": {},
   "outputs": [],
   "source": [
    "def read_dataset_pos_dep(data_path: str) -> (List[List[str]], List[List[str]], List[List[str]], List[List[str]]):\n",
    "    \"\"\"\n",
    "    Returns\n",
    "    -------\n",
    "        Four lists of lists containing sentences and POS labels,\n",
    "        headwords labels and dependencies labels respectively.\n",
    "        \n",
    "    Parameters\n",
    "    ----------\n",
    "    data_path: str\n",
    "        Data path of the dataset.\n",
    "    \"\"\"\n",
    "\n",
    "    sentences_list = []\n",
    "    labels_list = []\n",
    "    heads_list = []\n",
    "    dependencies_list = []\n",
    "    \n",
    "    with open(data_path, \"r\", encoding='utf-8') as f:\n",
    "        for line in f:\n",
    "            row = line.strip()\n",
    "            \n",
    "            if row.startswith(\"#\\tid\"): # New sentence\n",
    "                sentence = []\n",
    "                labels = []\n",
    "                dependencies = []\n",
    "                heads = []\n",
    "                \n",
    "            elif row == \"\": # End of the sentence\n",
    "                sentences_list.append(sentence)\n",
    "                labels_list.append(labels)\n",
    "                heads_list.append(heads)\n",
    "                dependencies_list.append(dependencies)\n",
    "            \n",
    "            else: # Words of a sentence\n",
    "                word, label, head, dep = row.split('\\t')\n",
    "                \n",
    "                sentence.append(word)\n",
    "                labels.append(label)\n",
    "                heads.append(head)\n",
    "                dependencies.append(dep)\n",
    "   \n",
    "    return sentences_list, labels_list, heads_list, dependencies_list"
   ]
  },
  {
   "cell_type": "code",
   "execution_count": 10,
   "id": "be0d7aeb",
   "metadata": {
    "executionInfo": {
     "elapsed": 1965,
     "status": "ok",
     "timestamp": 1649866081983,
     "user": {
      "displayName": "Florin Cuconasu",
      "userId": "13345521608196528334"
     },
     "user_tz": -120
    },
    "id": "be0d7aeb"
   },
   "outputs": [],
   "source": [
    "_, train_pos, train_heads, train_dep = read_dataset_pos_dep(train_pos_dep_path)\n",
    "_, valid_pos, valid_heads, valid_dep = read_dataset_pos_dep(valid_pos_dep_path)"
   ]
  },
  {
   "cell_type": "code",
   "execution_count": 12,
   "id": "132a69b7",
   "metadata": {
    "id": "132a69b7"
   },
   "outputs": [],
   "source": [
    "train_clean_path = \"../../data/train_clean.tsv\"\n",
    "valid_clean_path = \"../../data/valid_clean.tsv\""
   ]
  },
  {
   "cell_type": "code",
   "execution_count": 13,
   "id": "65304577",
   "metadata": {
    "executionInfo": {
     "elapsed": 1073,
     "status": "ok",
     "timestamp": 1649866095700,
     "user": {
      "displayName": "Florin Cuconasu",
      "userId": "13345521608196528334"
     },
     "user_tz": -120
    },
    "id": "65304577"
   },
   "outputs": [],
   "source": [
    "train_sentences, train_labels = read_dataset(train_clean_path)\n",
    "valid_sentences, valid_labels = read_dataset(valid_clean_path)"
   ]
  },
  {
   "cell_type": "code",
   "execution_count": 15,
   "id": "d6af78f0",
   "metadata": {
    "id": "d6af78f0"
   },
   "outputs": [],
   "source": [
    "vocab_path = \"../../data/vocab.tsv\""
   ]
  },
  {
   "cell_type": "code",
   "execution_count": 16,
   "id": "d19e93a1",
   "metadata": {
    "executionInfo": {
     "elapsed": 255,
     "status": "ok",
     "timestamp": 1649866456109,
     "user": {
      "displayName": "Florin Cuconasu",
      "userId": "13345521608196528334"
     },
     "user_tz": -120
    },
    "id": "d19e93a1"
   },
   "outputs": [],
   "source": [
    "pad_token = \"<PAD>\"\n",
    "unk_token = \"<UNK>\""
   ]
  },
  {
   "cell_type": "code",
   "execution_count": 17,
   "id": "aa9ed643",
   "metadata": {},
   "outputs": [],
   "source": [
    "def read_vocab(path: str) -> dict:\n",
    "    \"\"\"\n",
    "    Returns\n",
    "    -------\n",
    "        A dictionary that maps tokens to integers.\n",
    "        \n",
    "    Parameters\n",
    "    ----------\n",
    "    path: str\n",
    "        Data path of the dictionary.\n",
    "    \"\"\"\n",
    "    vocab = {}\n",
    "    with open(path, 'r', newline=\"\", encoding='utf-8') as f:\n",
    "        for line in f:\n",
    "            line = line.strip().split('\\t')\n",
    "            vocab[line[0]] = int(line[1])\n",
    "    return vocab"
   ]
  },
  {
   "cell_type": "code",
   "execution_count": 18,
   "id": "0f758d06",
   "metadata": {
    "id": "0f758d06"
   },
   "outputs": [],
   "source": [
    "vocab = read_vocab(vocab_path)"
   ]
  },
  {
   "cell_type": "code",
   "execution_count": 19,
   "id": "c15fe56b",
   "metadata": {},
   "outputs": [
    {
     "data": {
      "text/plain": [
       "20000"
      ]
     },
     "execution_count": 19,
     "metadata": {},
     "output_type": "execute_result"
    }
   ],
   "source": [
    "len(vocab)"
   ]
  },
  {
   "cell_type": "code",
   "execution_count": 21,
   "id": "1bc2ef8a",
   "metadata": {},
   "outputs": [],
   "source": [
    "char_vocab_path = \"../../data/char_vocab.tsv\""
   ]
  },
  {
   "cell_type": "code",
   "execution_count": 22,
   "id": "064deb13",
   "metadata": {},
   "outputs": [],
   "source": [
    "char_vocab = read_vocab(char_vocab_path)"
   ]
  },
  {
   "cell_type": "code",
   "execution_count": 23,
   "id": "07e7e71a",
   "metadata": {},
   "outputs": [
    {
     "data": {
      "text/plain": [
       "53"
      ]
     },
     "execution_count": 23,
     "metadata": {},
     "output_type": "execute_result"
    }
   ],
   "source": [
    "len(char_vocab)"
   ]
  },
  {
   "cell_type": "code",
   "execution_count": 24,
   "id": "37f23b2a",
   "metadata": {},
   "outputs": [],
   "source": [
    "dep_vocab_path = \"../../data/dep_vocab.tsv\""
   ]
  },
  {
   "cell_type": "code",
   "execution_count": 25,
   "id": "8a792e24",
   "metadata": {},
   "outputs": [],
   "source": [
    "dep_vocab = read_vocab(dep_vocab_path)"
   ]
  },
  {
   "cell_type": "code",
   "execution_count": 26,
   "id": "b092c4a7",
   "metadata": {},
   "outputs": [
    {
     "data": {
      "text/plain": [
       "47"
      ]
     },
     "execution_count": 26,
     "metadata": {},
     "output_type": "execute_result"
    }
   ],
   "source": [
    "len(dep_vocab)"
   ]
  },
  {
   "cell_type": "code",
   "execution_count": 27,
   "id": "e4eb8312",
   "metadata": {
    "executionInfo": {
     "elapsed": 4,
     "status": "ok",
     "timestamp": 1649866461759,
     "user": {
      "displayName": "Florin Cuconasu",
      "userId": "13345521608196528334"
     },
     "user_tz": -120
    },
    "id": "e4eb8312"
   },
   "outputs": [],
   "source": [
    "def assign_unique_idx(labels_list: List[List[str]], pad_token: str) -> (dict, dict):\n",
    "    \"\"\"\n",
    "    Returns\n",
    "    -------\n",
    "        Two dictionaries. The first one is a map\n",
    "        from labels to integers; the second one\n",
    "        is the reversed map.\n",
    "        \n",
    "    Parameters\n",
    "    ----------\n",
    "    labels_list: List[List[str]]\n",
    "        A list of lists of strings. \n",
    "        In this case each nested list is a sentence,\n",
    "        containing labels.\n",
    "        \n",
    "    pad_token: str\n",
    "         String which identifies the padding token.\n",
    "    \"\"\"\n",
    "    labels = freq_most_common_tokens(labels_list, n=-1)\n",
    "    lab2idx = {label: idx+1 for idx, label in enumerate(labels)}\n",
    "    lab2idx[pad_token] = 0 # The padding token is associated to the first position\n",
    "    idx2lab = {idx: label for label, idx in lab2idx.items()} \n",
    "    \n",
    "    return lab2idx, idx2lab"
   ]
  },
  {
   "cell_type": "code",
   "execution_count": 28,
   "id": "c3576c55",
   "metadata": {
    "executionInfo": {
     "elapsed": 2,
     "status": "ok",
     "timestamp": 1649866462638,
     "user": {
      "displayName": "Florin Cuconasu",
      "userId": "13345521608196528334"
     },
     "user_tz": -120
    },
    "id": "c3576c55"
   },
   "outputs": [],
   "source": [
    "lab2idx, idx2lab = assign_unique_idx(train_labels, pad_token)"
   ]
  },
  {
   "cell_type": "code",
   "execution_count": 29,
   "id": "737f9a38",
   "metadata": {
    "executionInfo": {
     "elapsed": 3,
     "status": "ok",
     "timestamp": 1649866465875,
     "user": {
      "displayName": "Florin Cuconasu",
      "userId": "13345521608196528334"
     },
     "user_tz": -120
    },
    "id": "737f9a38"
   },
   "outputs": [],
   "source": [
    "pos2idx, pos2lab = assign_unique_idx(train_pos, pad_token)"
   ]
  },
  {
   "cell_type": "markdown",
   "id": "7a9e9358",
   "metadata": {
    "id": "7a9e9358"
   },
   "source": [
    "# Pretrained Word Embedding"
   ]
  },
  {
   "cell_type": "markdown",
   "id": "dccc5e8a",
   "metadata": {},
   "source": [
    "## Word2Vec"
   ]
  },
  {
   "cell_type": "code",
   "execution_count": null,
   "id": "63f27462",
   "metadata": {
    "id": "63f27462"
   },
   "outputs": [],
   "source": [
    "from gensim.models import *\n",
    "from gensim.models.word2vec import *"
   ]
  },
  {
   "cell_type": "code",
   "execution_count": 27,
   "id": "AU8pszsVGlZA",
   "metadata": {
    "id": "AU8pszsVGlZA"
   },
   "outputs": [],
   "source": [
    "w2v_path = '../../model/pretrained/load_embeddings/pre_w2v.pth'"
   ]
  },
  {
   "cell_type": "code",
   "execution_count": 29,
   "id": "4c748611",
   "metadata": {
    "id": "4c748611"
   },
   "outputs": [],
   "source": [
    "pretrained_embeddings = torch.load(w2v_path)"
   ]
  },
  {
   "cell_type": "code",
   "execution_count": null,
   "id": "4049d600",
   "metadata": {
    "colab": {
     "base_uri": "https://localhost:8080/"
    },
    "executionInfo": {
     "elapsed": 234,
     "status": "ok",
     "timestamp": 1649311448587,
     "user": {
      "displayName": "Florin Cuconasu",
      "userId": "13345521608196528334"
     },
     "user_tz": -120
    },
    "id": "4049d600",
    "outputId": "db6b4e35-3e0f-49ac-9d59-65b8cfdc4e19"
   },
   "outputs": [
    {
     "data": {
      "text/plain": [
       "torch.Size([10000, 300])"
      ]
     },
     "execution_count": 635,
     "metadata": {},
     "output_type": "execute_result"
    }
   ],
   "source": [
    "pretrained_embeddings.shape"
   ]
  },
  {
   "cell_type": "markdown",
   "id": "65d6397e",
   "metadata": {
    "id": "65d6397e"
   },
   "source": [
    "## GloVe"
   ]
  },
  {
   "cell_type": "code",
   "execution_count": 30,
   "id": "e8c841c9",
   "metadata": {},
   "outputs": [],
   "source": [
    "pretrained_glove_path = \"../../model/pretrained/load_embeddings/pre_glove.pth\""
   ]
  },
  {
   "cell_type": "code",
   "execution_count": 31,
   "id": "52710f17",
   "metadata": {},
   "outputs": [],
   "source": [
    "glove_pretrained_embeddings = torch.load(pretrained_glove_path)"
   ]
  },
  {
   "cell_type": "code",
   "execution_count": 32,
   "id": "93da5da5",
   "metadata": {},
   "outputs": [
    {
     "data": {
      "text/plain": [
       "torch.Size([20000, 100])"
      ]
     },
     "execution_count": 32,
     "metadata": {},
     "output_type": "execute_result"
    }
   ],
   "source": [
    "glove_pretrained_embeddings.shape"
   ]
  },
  {
   "cell_type": "markdown",
   "id": "f4706e13",
   "metadata": {
    "id": "f4706e13"
   },
   "source": [
    "## Fastext"
   ]
  },
  {
   "cell_type": "code",
   "execution_count": 33,
   "id": "3f8a7da4",
   "metadata": {
    "id": "3f8a7da4"
   },
   "outputs": [],
   "source": [
    "pretrained_fast_path = \"../../model/pretrained/load_embeddings/pre_fast.pth\""
   ]
  },
  {
   "cell_type": "code",
   "execution_count": 34,
   "id": "1cabfc47",
   "metadata": {
    "executionInfo": {
     "elapsed": 1260,
     "status": "ok",
     "timestamp": 1649866479330,
     "user": {
      "displayName": "Florin Cuconasu",
      "userId": "13345521608196528334"
     },
     "user_tz": -120
    },
    "id": "1cabfc47"
   },
   "outputs": [],
   "source": [
    "fast_pretrained_embeddings = torch.load(pretrained_fast_path)"
   ]
  },
  {
   "cell_type": "code",
   "execution_count": 35,
   "id": "a3ec567b",
   "metadata": {
    "colab": {
     "base_uri": "https://localhost:8080/"
    },
    "executionInfo": {
     "elapsed": 220,
     "status": "ok",
     "timestamp": 1649866480882,
     "user": {
      "displayName": "Florin Cuconasu",
      "userId": "13345521608196528334"
     },
     "user_tz": -120
    },
    "id": "a3ec567b",
    "outputId": "4e3a0603-ce29-413a-ec40-02265d321ef2"
   },
   "outputs": [
    {
     "data": {
      "text/plain": [
       "torch.Size([20000, 300])"
      ]
     },
     "execution_count": 35,
     "metadata": {},
     "output_type": "execute_result"
    }
   ],
   "source": [
    "fast_pretrained_embeddings.shape"
   ]
  },
  {
   "cell_type": "markdown",
   "id": "RJf4B-oNss47",
   "metadata": {
    "id": "RJf4B-oNss47"
   },
   "source": [
    "# Dataset"
   ]
  },
  {
   "cell_type": "code",
   "execution_count": 36,
   "id": "44150f9c",
   "metadata": {},
   "outputs": [],
   "source": [
    "class NER_Dataset(Dataset):\n",
    "    \"\"\"\n",
    "    Parameters\n",
    "    ----------\n",
    "    sentences: List[List[str]]\n",
    "        A list of lists of strings where each nested list represents a sentence.\n",
    "        \n",
    "    sentences_labels: List[List[str]]\n",
    "        A list of lists of strings where each nested list represents a sentence,\n",
    "        containing the labels of the tokens.\n",
    "    \"\"\"\n",
    "    def __init__(self, sentences: List[List[str]], sentences_labels: List[List[str]]):\n",
    "\n",
    "        assert len(sentences) == len(sentences_labels), \\\n",
    "                \"Inputs must be of the same length\"\n",
    "        \n",
    "        self.sentences = sentences\n",
    "        self.labels = sentences_labels\n",
    "        \n",
    "        self.sentences_lengths = [len(s) for s in sentences]\n",
    "  \n",
    "        self.Y = self._from_sequence_to_idx(sentences_labels, lab2idx)\n",
    "        self.X = self._from_sequence_to_idx(sentences, vocab, unk_token)\n",
    "     \n",
    "    \n",
    "    def _from_sequence_to_idx(self, sequences_list: List[List[str]],\n",
    "                              vocab: dict, unk_token: str = None) -> List[List[int]]:\n",
    "        \"\"\"\n",
    "        Returns\n",
    "        -------\n",
    "            A list of lists of int built by replacing \n",
    "            each token with its corresponding id in the vocabulary.\n",
    "            This is a general function so it works also for labels.\n",
    "            \n",
    "        Parameters\n",
    "        ----------\n",
    "        sequences_list: List[List[str]]\n",
    "            A list of lists of strings where each nested list represents a sentence.\n",
    "            \n",
    "        vocab: dict\n",
    "            The map that associates to each token an unique number.\n",
    "\n",
    "        unk_token: str\n",
    "            The OOV token.\n",
    "        \"\"\"\n",
    "        \n",
    "        sequences_idx = []\n",
    "        \n",
    "        if unk_token is not None: # For words\n",
    "            for sentence in sequences_list:\n",
    "                sequences_idx.append([vocab.get(token, vocab[unk_token]) for token in sentence])\n",
    "        else: # For labels\n",
    "            for sentence in sequences_list:\n",
    "                sequences_idx.append([vocab.get(token) for token in sentence])\n",
    "        \n",
    "        return sequences_idx\n",
    "\n",
    "    def __len__(self):\n",
    "        return len(self.sentences)\n",
    "    \n",
    "    def __getitem__(self, idx):\n",
    "        return self.Y[idx], self.X[idx], self.sentences_lengths[idx]"
   ]
  },
  {
   "cell_type": "code",
   "execution_count": 37,
   "id": "ebaa61e8",
   "metadata": {},
   "outputs": [],
   "source": [
    "train_dataset = NER_Dataset(train_sentences, train_labels)\n",
    "valid_dataset = NER_Dataset(valid_sentences, valid_labels)"
   ]
  },
  {
   "cell_type": "code",
   "execution_count": 38,
   "id": "55c30d10",
   "metadata": {},
   "outputs": [],
   "source": [
    "def pad_sequence(sequence: List[Any], max_length: int, pad_token: str) -> List[Any]:\n",
    "    \"\"\"\n",
    "    Returns\n",
    "    -------\n",
    "        A list padded with the 'pad_token' value until \n",
    "        it is 'max_length' long. \n",
    "\n",
    "    Parameters\n",
    "    ----------\n",
    "    sequence: List[Any]\n",
    "        The list to be padded. \n",
    "\n",
    "    max_length: int\n",
    "        The length of the output list.\n",
    "\n",
    "    pad_token: str\n",
    "        The Padding value.\n",
    "    \"\"\"\n",
    "    padded_sequence = [pad_token] * max_length\n",
    "\n",
    "    for i, token in enumerate(sequence):\n",
    "        padded_sequence[i] = token\n",
    "\n",
    "    return padded_sequence"
   ]
  },
  {
   "cell_type": "code",
   "execution_count": 39,
   "id": "6f7bfa74",
   "metadata": {},
   "outputs": [],
   "source": [
    "def collate_batch(batch):\n",
    "    \"\"\"\n",
    "    Returns\n",
    "    -------\n",
    "        Tensors of the zipped lists in input, sorted in\n",
    "        descending order by sentences length.\n",
    "        (The ordering can be useful if 'pack_padded_sequence'\n",
    "        will be used)\n",
    "        \n",
    "    Parameters\n",
    "    ----------\n",
    "        batch\n",
    "            A zipped python object containing features and labels.\n",
    "    \n",
    "    \"\"\"\n",
    "    labels_list = []\n",
    "    features_list = []\n",
    "\n",
    "    # Retrieve the features\n",
    "    labels, features, sentences_lengths = zip(*batch)\n",
    "    \n",
    "    # Sort in descending order the sentences by length\n",
    "    sorted_batch = sorted(zip(labels, features, sentences_lengths), \n",
    "                          key=lambda p: len(p[0]), reverse=True)\n",
    "    labels, features, sentences_lengths = zip(*sorted_batch)\n",
    "    \n",
    "\n",
    "    max_length_in_batch = np.max(sentences_lengths)\n",
    "    \n",
    "    # Pad sentences and labels to the length of the longest sequence in the batch\n",
    "    for idx, feature in enumerate(features):\n",
    "        features_list.append(pad_sequence(feature, max_length_in_batch, vocab[pad_token]))\n",
    "        labels_list.append(pad_sequence(labels[idx], max_length_in_batch, vocab[pad_token]))\n",
    "      \n",
    "\n",
    "    labels_tensor = torch.LongTensor(labels_list).to(device)\n",
    "    features_tensor = torch.LongTensor(features_list).to(device)\n",
    "\n",
    "    return labels_tensor, features_tensor, sentences_lengths"
   ]
  },
  {
   "cell_type": "markdown",
   "id": "1fcacb9d",
   "metadata": {},
   "source": [
    "This is the NER module that gives the best results. From the input it retrieves both FastText and GloVe pretrained embeddings, concatenates them and passes the result as input to the LSTM. Before, the classification layer, the LSTM output is passed through a fully connected layer."
   ]
  },
  {
   "cell_type": "code",
   "execution_count": 40,
   "id": "45c63a52",
   "metadata": {},
   "outputs": [],
   "source": [
    "from TorchCRF import CRF\n",
    "class NER_Classifier(nn.Module):\n",
    "    def __init__(self, h_params):\n",
    "        super().__init__()\n",
    "        \n",
    "        # Fasttext\n",
    "        self.fast_embeddings = self._from_pretrained_embeddings(h_params['fast_embeddings'],\n",
    "                                                               h_params['vocab_size'],\n",
    "                                                               h_params['fast_embed_dim'],\n",
    "                                                               freeze=h_params['freeze_fast'])\n",
    "            \n",
    "\n",
    "        # Glove\n",
    "        self.glove_embeddings = self._from_pretrained_embeddings(h_params['glove_embeddings'],\n",
    "                                                                 h_params['vocab_size'],\n",
    "                                                                 h_params['glove_embed_dim'],\n",
    "                                                                 freeze=h_params['freeze_glove'])\n",
    "        \n",
    "        lstm_input_dim = h_params['fast_embed_dim'] + h_params['glove_embed_dim']\n",
    "        \n",
    "        # LSTM\n",
    "        self.lstm = nn.LSTM(lstm_input_dim, \n",
    "                            h_params['lstm_hidden_dim'], \n",
    "                            bidirectional=h_params['bidirectional'],\n",
    "                            num_layers=h_params['num_layers'],\n",
    "                            dropout=h_params['dropout'] if h_params['num_layers'] > 1 else 0,\n",
    "                            batch_first=True)\n",
    "        \n",
    "        \n",
    "        lstm_output_dim = h_params['lstm_hidden_dim'] if h_params['bidirectional'] is False \\\n",
    "                            else h_params['lstm_hidden_dim'] * 2\n",
    "        \n",
    "\n",
    "        self.dropout = nn.Dropout(h_params['dropout'])  \n",
    "\n",
    "        self.concat = nn.Linear(lstm_output_dim, lstm_output_dim)\n",
    "\n",
    "        self.classifier = nn.Linear(lstm_output_dim, h_params['num_classes'])\n",
    "        \n",
    "        self.relu = nn.LeakyReLU()\n",
    "        \n",
    "        if h_params['use_crf']:\n",
    "            self.crf = CRF(h_params['num_classes'])\n",
    "\n",
    "        self._init_linear_weights()\n",
    "        \n",
    "        \n",
    "    def forward(self, x, x_lengths):\n",
    "        x_fast = self.fast_embeddings(x)\n",
    "        x_glove = self.glove_embeddings(x)\n",
    "    \n",
    "        # Concatenate the word embeddings\n",
    "        x = torch.cat((x_fast, x_glove), dim=2)  \n",
    "        x = self.dropout(x)\n",
    "        \n",
    "        x, _ = self.lstm(x)\n",
    "        x = self.relu(x)\n",
    "        \n",
    "        x = self.concat(x)\n",
    "        x = self.relu(x)\n",
    "\n",
    "        output = self.classifier(x)\n",
    "\n",
    "        return output\n",
    "\n",
    "\n",
    "    def _from_pretrained_embeddings(self, pretrained_embeddings: torch.Tensor, \n",
    "                                    vocab_size: int, embed_dim: int, \n",
    "                                    freeze: bool) -> torch.Tensor:\n",
    "        \"\"\"\n",
    "        Returns\n",
    "        -------\n",
    "            Pretrained embeddings from input.\n",
    "            \n",
    "        Parameters\n",
    "        ----------\n",
    "        pretrained_embeddings: torch.Tensor\n",
    "            Embeddings to be loaded.\n",
    "            \n",
    "        vocab_size: int\n",
    "            Size of the dictionary of embeddings.\n",
    "            \n",
    "        embed_dim: int\n",
    "            Size of each embedding vector.\n",
    "            \n",
    "        freeze: bool\n",
    "            If True the embeddings weights will be not updated\n",
    "            during training.\n",
    "        \n",
    "        \"\"\"\n",
    "        \n",
    "        embeddings = nn.Embedding(vocab_size, embed_dim, padding_idx=0)\n",
    "        \n",
    "        # Get emebeddings from pretrained ones\n",
    "        embeddings.weight.data.copy_(pretrained_embeddings)\n",
    "        \n",
    "        # Freeze embeddings\n",
    "        embeddings.weight.requires_grad = not freeze \n",
    "        \n",
    "        return embeddings\n",
    "    \n",
    "    def _init_linear_weights(self):\n",
    "        initrange = 0.5\n",
    "\n",
    "        self.concat.weight.data.uniform_(-initrange, initrange)\n",
    "        self.concat.bias.data.zero_()\n",
    "\n",
    "        self.classifier.weight.data.uniform_(-initrange, initrange)\n",
    "        self.classifier.bias.data.zero_()"
   ]
  },
  {
   "cell_type": "markdown",
   "id": "80cb7714",
   "metadata": {},
   "source": [
    "# Training"
   ]
  },
  {
   "cell_type": "code",
   "execution_count": 41,
   "id": "8d224945",
   "metadata": {},
   "outputs": [],
   "source": [
    "def train(model: nn.Module, dataloader: DataLoader, h_params: dict, \n",
    "          optimizer: torch.optim, criterion: torch.nn, grad_clipping:float):\n",
    "    model.train()    \n",
    "    running_loss = 0.0\n",
    "    viterbi_pred = None\n",
    "    \n",
    "    for idx, (labels, features, sentences_lengths) in enumerate(dataloader): \n",
    "        # Empty gradients\n",
    "        optimizer.zero_grad()\n",
    "\n",
    "        # Forward\n",
    "        predicted_labels = model(features, sentences_lengths)\n",
    "\n",
    "        \n",
    "        if h_params['use_crf']:\n",
    "            # Mask for extracting the actual length of the predictions,\n",
    "            # as padding must be ignored\n",
    "            mask = (labels != lab2idx[pad_token])\n",
    "            \n",
    "            log_likelihood = model.crf(predicted_labels, labels, mask=mask)\n",
    "            # Predictions\n",
    "            viterbi_pred = flat_list(model.crf.viterbi_decode(predicted_labels, mask=mask))        \n",
    "                \n",
    "                \n",
    "            # The log likelihood is not \"normalized\" \n",
    "            # (It is not reduced, for instance by mean, and it is negative)\n",
    "            loss = torch.mean(log_likelihood) * -1\n",
    "            \n",
    "        else:\n",
    "            predicted_labels = predicted_labels.view(-1, predicted_labels.shape[-1])\n",
    "            labels = labels.view(-1)\n",
    "            loss = criterion(predicted_labels, labels)\n",
    "            \n",
    "\n",
    "         # Backward  \n",
    "        loss.backward()\n",
    "        \n",
    "        # Gradient Clipping to prevent exploding gradients\n",
    "        if grad_clipping is not None:\n",
    "            torch.nn.utils.clip_grad_norm_(model.parameters(), grad_clipping)\n",
    "        \n",
    "        # Update weights \n",
    "        optimizer.step()\n",
    "        \n",
    "        running_loss += loss.item()\n",
    "\n",
    "    # Loss at the end of the epoch \n",
    "    return running_loss/len(dataloader), _"
   ]
  },
  {
   "cell_type": "code",
   "execution_count": 42,
   "id": "c1d3ed38",
   "metadata": {},
   "outputs": [],
   "source": [
    "def evaluate(model: nn.Module, dataloader: DataLoader, \n",
    "             h_params: dict, criterion: torch.nn):\n",
    "    model.eval()\n",
    "    valid_loss = 0.0\n",
    "    f1_score = 0.0\n",
    "    viterbi_pred = None\n",
    "    \n",
    "    with torch.no_grad():\n",
    "        for idx, (labels, features, sentences_lengths) in enumerate(dataloader):\n",
    "            predicted_labels = model(features, sentences_lengths)\n",
    "            \n",
    "            if h_params['use_crf']:\n",
    "                # Mask for extracting the actual length of the predictions,\n",
    "                # as padding must be ignored\n",
    "                mask = (labels != lab2idx[pad_token])\n",
    "                log_likelihood = model.crf(predicted_labels, labels, mask=mask) \n",
    "                \n",
    "                viterbi_pred = flat_list(model.crf.viterbi_decode(predicted_labels, mask=mask))                        \n",
    "                \n",
    "                # The log likelihood is not \"normalized\" \n",
    "                # (It is not reduced, for instance by mean, and it is negative)\n",
    "                loss = torch.mean(log_likelihood) * -1\n",
    "\n",
    "                predicted_labels = predicted_labels.view(-1, predicted_labels.shape[-1])\n",
    "                labels = labels.view(-1)\n",
    "                \n",
    "\n",
    "            else:\n",
    "                predicted_labels = predicted_labels.view(-1, predicted_labels.shape[-1])\n",
    "                labels = labels.view(-1)\n",
    "                loss = criterion(predicted_labels, labels)\n",
    "                \n",
    "               \n",
    "            valid_loss += loss.item()\n",
    "            f1_score += compute_score(predicted_labels, labels, viterbi_pred)\n",
    "            \n",
    "    return valid_loss/len(dataloader), f1_score/len(dataloader)"
   ]
  },
  {
   "cell_type": "code",
   "execution_count": 43,
   "id": "7283779b",
   "metadata": {},
   "outputs": [],
   "source": [
    "from seqeval.metrics import f1_score\n",
    "def compute_score(predictions: torch.Tensor, labels: torch.Tensor, viterbi_pred: List[int] = None):\n",
    "    \"\"\"\n",
    "    Returns\n",
    "    -------\n",
    "        The F1 score from predictions and ground truths.\n",
    "        \n",
    "    Parameters\n",
    "    ----------\n",
    "    predictions: torch.Tensor\n",
    "        Predictions. \n",
    "    \n",
    "    labels: torch.Tensor\n",
    "        Ground truths.\n",
    "    \n",
    "    viterbi_pred: List[int]\n",
    "        If it is not None, it the list of predictions\n",
    "        computed by the viterbi decoding algorithm.\n",
    "    \n",
    "    \"\"\"\n",
    "    y_true_list = []\n",
    "    y_pred_list = []\n",
    "    \n",
    "    if pad_token != None:\n",
    "        # Mask for extracting the actual length of the predictions,\n",
    "        # as padding must be ignored\n",
    "        mask = labels != lab2idx[pad_token]\n",
    "        \n",
    "    else:\n",
    "        mask = labels != -1\n",
    "    \n",
    "   \n",
    "    labels = labels[mask].tolist() \n",
    "    y_true = [idx2lab[l] for l in labels]\n",
    "    y_true_list.append(y_true)\n",
    "    \n",
    "    \n",
    "    if viterbi_pred is not None:\n",
    "        y_pred = [idx2lab[l] for l in viterbi_pred]\n",
    "        y_pred_list.append(y_pred)\n",
    "        \n",
    "    else:  \n",
    "        predictions = predictions.argmax(1)\n",
    "        predictions = predictions[mask].tolist()\n",
    "    \n",
    "        y_pred = [idx2lab[l] for l in predictions]\n",
    "        y_pred_list.append(y_pred)\n",
    "\n",
    "    \n",
    "    return f1_score(y_true_list, y_pred_list, average='macro')"
   ]
  },
  {
   "cell_type": "markdown",
   "id": "a63b1ea4",
   "metadata": {},
   "source": [
    "In `train_model` the early stooping part is taken from the **NLP Notebook #5**."
   ]
  },
  {
   "cell_type": "code",
   "execution_count": 44,
   "id": "15ceefc5",
   "metadata": {},
   "outputs": [],
   "source": [
    "def train_model(\n",
    "    model: nn.Module,\n",
    "    train_dataloader: DataLoader,\n",
    "    valid_dataloader: DataLoader,\n",
    "    h_params: dict,\n",
    "    optimizer: torch.optim.Optimizer,\n",
    "    criterion: torch.nn,\n",
    "    scheduler: torch.optim.lr_scheduler,\n",
    "    grad_clipping: float,\n",
    "    epochs: int,\n",
    "    early_stopping: bool = False,\n",
    "    early_stopping_mode: str = 'max',\n",
    "    early_stopping_patience: int = 0,\n",
    "):\n",
    "    train_losses = []\n",
    "    valid_losses = []\n",
    "    valid_f1_scores = []\n",
    "    patience_counter = 0\n",
    "    \n",
    "    for epoch in range(1, epochs + 1):\n",
    "        epoch_start_time = time.time()\n",
    "        \n",
    "        # Train\n",
    "        train_loss, _ = train(model, train_dataloader, h_params,\n",
    "                              optimizer, criterion, grad_clipping)\n",
    "        train_losses.append(train_loss)\n",
    "        \n",
    "        # Evaluate\n",
    "        valid_loss, valid_f1_score = evaluate(model, valid_dataloader,\n",
    "                                             h_params, criterion)\n",
    "        valid_losses.append(valid_loss)\n",
    "        valid_f1_scores.append(valid_f1_score)\n",
    "        \n",
    "        \n",
    "        \n",
    "        # If the model starts overfitting, then the learning rate is decreased\n",
    "        # if valid_loss is not None and train_loss < valid_loss:\n",
    "        if scheduler is not None:\n",
    "            print(f\"LR: {scheduler.get_last_lr()[0]:.6f}\")\n",
    "            scheduler.step()\n",
    "    \n",
    "        print('-' * 100)\n",
    "        epoch_time = time.time() - epoch_start_time\n",
    "        print(f'| epoch {epoch:3d}/{epochs:d} | time: {epoch_time:5.2f}s | ' \\\n",
    "            f'train_loss: {train_loss:.3f} | valid_loss: {valid_loss:.3f} | valid_f1_score: {valid_f1_score:.3f}')\n",
    "            \n",
    "        print('-' * 100)\n",
    "        \n",
    "        if valid_f1_score < 0.1:\n",
    "            print(\"Too bad...\")\n",
    "            return\n",
    "        \n",
    "        if early_stopping and len(valid_f1_scores) >= 2:\n",
    "\n",
    "#             stop = early_stopping_mode == 'min' and epoch > 0 and valid_f1_scores[-1] > valid_f1_scores[-2]\n",
    "            stop = early_stopping_mode == 'max' and epoch > 0 and valid_f1_scores[-1] < valid_f1_scores[-2]\n",
    "            if stop:\n",
    "                if patience_counter >= early_stopping_patience:\n",
    "                    print('Early stop.')\n",
    "                    break\n",
    "                else:\n",
    "                    print('-- Patience.\\n')\n",
    "                    patience_counter += 1\n",
    "        \n",
    "        histories = {\n",
    "            \"train_losses\": train_losses,\n",
    "            \"valid_losses\": valid_losses,\n",
    "            \"valid_f1_scores\": valid_f1_scores\n",
    "        }\n",
    "    return histories"
   ]
  },
  {
   "cell_type": "code",
   "execution_count": 45,
   "id": "2eb0a8b5",
   "metadata": {
    "scrolled": false
   },
   "outputs": [
    {
     "name": "stdout",
     "output_type": "stream",
     "text": [
      "NER_Classifier(\n",
      "  (fast_embeddings): Embedding(20000, 300, padding_idx=0)\n",
      "  (glove_embeddings): Embedding(20000, 100, padding_idx=0)\n",
      "  (lstm): LSTM(400, 512, num_layers=3, batch_first=True, dropout=0.4, bidirectional=True)\n",
      "  (dropout): Dropout(p=0.4, inplace=False)\n",
      "  (concat): Linear(in_features=1024, out_features=1024, bias=True)\n",
      "  (classifier): Linear(in_features=1024, out_features=14, bias=True)\n",
      "  (relu): LeakyReLU(negative_slope=0.01)\n",
      "  (crf): CRF()\n",
      ")\n",
      "LR: 0.003000\n",
      "----------------------------------------------------------------------------------------------------\n",
      "| epoch   1/12 | time: 31.22s | train_loss: 35.803 | valid_loss: 5.526 | valid_f1_score: 0.445\n",
      "----------------------------------------------------------------------------------------------------\n",
      "LR: 0.003000\n",
      "----------------------------------------------------------------------------------------------------\n",
      "| epoch   2/12 | time: 30.52s | train_loss: 4.685 | valid_loss: 4.247 | valid_f1_score: 0.561\n",
      "----------------------------------------------------------------------------------------------------\n",
      "LR: 0.003000\n",
      "----------------------------------------------------------------------------------------------------\n",
      "| epoch   3/12 | time: 30.76s | train_loss: 3.393 | valid_loss: 3.473 | valid_f1_score: 0.625\n",
      "----------------------------------------------------------------------------------------------------\n",
      "LR: 0.003000\n",
      "----------------------------------------------------------------------------------------------------\n",
      "| epoch   4/12 | time: 30.05s | train_loss: 2.552 | valid_loss: 3.064 | valid_f1_score: 0.644\n",
      "----------------------------------------------------------------------------------------------------\n",
      "LR: 0.003000\n",
      "----------------------------------------------------------------------------------------------------\n",
      "| epoch   5/12 | time: 30.52s | train_loss: 2.009 | valid_loss: 2.743 | valid_f1_score: 0.685\n",
      "----------------------------------------------------------------------------------------------------\n",
      "LR: 0.000600\n",
      "----------------------------------------------------------------------------------------------------\n",
      "| epoch   6/12 | time: 31.28s | train_loss: 1.388 | valid_loss: 2.561 | valid_f1_score: 0.724\n",
      "----------------------------------------------------------------------------------------------------\n",
      "LR: 0.000600\n",
      "----------------------------------------------------------------------------------------------------\n",
      "| epoch   7/12 | time: 29.95s | train_loss: 1.181 | valid_loss: 2.635 | valid_f1_score: 0.711\n",
      "----------------------------------------------------------------------------------------------------\n",
      "-- Patience.\n",
      "\n",
      "LR: 0.000600\n",
      "----------------------------------------------------------------------------------------------------\n",
      "| epoch   8/12 | time: 31.60s | train_loss: 1.057 | valid_loss: 2.612 | valid_f1_score: 0.721\n",
      "----------------------------------------------------------------------------------------------------\n",
      "LR: 0.000600\n",
      "----------------------------------------------------------------------------------------------------\n",
      "| epoch   9/12 | time: 30.86s | train_loss: 0.956 | valid_loss: 2.767 | valid_f1_score: 0.714\n",
      "----------------------------------------------------------------------------------------------------\n",
      "-- Patience.\n",
      "\n",
      "LR: 0.000600\n",
      "----------------------------------------------------------------------------------------------------\n",
      "| epoch  10/12 | time: 30.05s | train_loss: 0.854 | valid_loss: 2.727 | valid_f1_score: 0.725\n",
      "----------------------------------------------------------------------------------------------------\n",
      "LR: 0.000120\n",
      "----------------------------------------------------------------------------------------------------\n",
      "| epoch  11/12 | time: 29.91s | train_loss: 0.743 | valid_loss: 2.840 | valid_f1_score: 0.723\n",
      "----------------------------------------------------------------------------------------------------\n",
      "Early stop.\n"
     ]
    }
   ],
   "source": [
    "# Hyperparameters\n",
    "h_params = {\n",
    "    'vocab_size': len(vocab),\n",
    "    'fast_embed_dim': 300,\n",
    "    'freeze_fast': True,\n",
    "    'glove_embed_dim': 100,\n",
    "    'freeze_glove': False,\n",
    "    'lstm_hidden_dim': 512, \n",
    "    'num_classes': len(lab2idx),\n",
    "    'fast_embeddings': fast_pretrained_embeddings,\n",
    "    'glove_embeddings': glove_pretrained_embeddings,\n",
    "    'bidirectional': True,\n",
    "    'num_layers': 3,\n",
    "    'dropout': 0.4,\n",
    "    'use_crf': True,\n",
    "}\n",
    "\n",
    "epochs = 12 # number of epochs\n",
    "lr = 0.003 # learning rate\n",
    "bacth_size = 256  # batch size \n",
    "grad_clipping = 0.7 # for clipping gradients  \n",
    "\n",
    "model = NER_Classifier(h_params).to(device)\n",
    "print(model)\n",
    "\n",
    "    \n",
    "                                            # ignore the padding class\n",
    "criterion = torch.nn.CrossEntropyLoss(ignore_index=lab2idx[pad_token]).to(device)\n",
    "\n",
    "optimizer = torch.optim.Adam(model.parameters(), lr=lr)\n",
    "\n",
    "# scheduler = None\n",
    "scheduler = torch.optim.lr_scheduler.StepLR(optimizer, step_size=5, gamma=0.2)          \n",
    "# scheduler = torch.optim.lr_scheduler.MultiStepLR(optimizer, milestones=[5, 7,], gamma=0.2)\n",
    "\n",
    "\n",
    "train_dataloader = DataLoader(train_dataset, batch_size=bacth_size, \n",
    "                              collate_fn=collate_batch, shuffle=True)\n",
    "valid_dataloader = DataLoader(valid_dataset, batch_size=bacth_size, \n",
    "                              collate_fn=collate_batch, shuffle=False)\n",
    "\n",
    "histories = train_model(model, train_dataloader, valid_dataloader, h_params, \n",
    "                        optimizer, criterion, scheduler, grad_clipping, epochs,\n",
    "                        early_stopping=True, early_stopping_mode=\"max\", \n",
    "                        early_stopping_patience=2)"
   ]
  },
  {
   "cell_type": "markdown",
   "id": "9bfa54d6",
   "metadata": {
    "id": "9bfa54d6"
   },
   "source": [
    "## Save the Model"
   ]
  },
  {
   "cell_type": "code",
   "execution_count": 49,
   "id": "611625ac",
   "metadata": {
    "id": "611625ac"
   },
   "outputs": [],
   "source": [
    "model_save_path = \"../../model/my_models/my_model_727.pth\""
   ]
  },
  {
   "cell_type": "markdown",
   "id": "286cad78",
   "metadata": {
    "executionInfo": {
     "elapsed": 941,
     "status": "ok",
     "timestamp": 1649870783947,
     "user": {
      "displayName": "Florin Cuconasu",
      "userId": "13345521608196528334"
     },
     "user_tz": -120
    },
    "id": "3acbdb15"
   },
   "source": [
    "```Python\n",
    "torch.save(model.state_dict(), model_save_path)\n",
    "```"
   ]
  },
  {
   "cell_type": "markdown",
   "id": "5e5b365d",
   "metadata": {
    "id": "5e5b365d"
   },
   "source": [
    "```Python\n",
    "F1_VAL: 0.727\n",
    "\n",
    "h_params = {\n",
    "    'vocab_size': len(vocab),\n",
    "    'fast_embed_dim': 300,\n",
    "    'freeze_fast': True,\n",
    "    'glove_embed_dim': 100,\n",
    "    'freeze_glove': False,\n",
    "    'lstm_hidden_dim': 512, \n",
    "    'num_classes': len(lab2idx),\n",
    "    'fast_embeddings': fast_pretrained_embeddings,\n",
    "    'glove_embeddings': glove_pretrained_embeddings,\n",
    "    'bidirectional': True,\n",
    "    'num_layers': 3,\n",
    "    'dropout': 0.4,\n",
    "    'use_crf': True, \n",
    "}\n",
    "\n",
    "epochs = 12 # number of epochs\n",
    "lr = 0.003 # learning rate\n",
    "bacth_size = 256 # batch size\n",
    "grad_clipping = 0.7 # for clipping gradients  \n",
    "\n",
    "optimizer = Adam\n",
    "scheduler = torch.optim.lr_scheduler.StepLR(optimizer, step_size=5, gamma=0.2) \n",
    "```"
   ]
  },
  {
   "cell_type": "markdown",
   "id": "d18165c7",
   "metadata": {
    "id": "d18165c7"
   },
   "source": [
    "### Load the Model"
   ]
  },
  {
   "cell_type": "code",
   "execution_count": 47,
   "id": "7dcf1f70",
   "metadata": {
    "executionInfo": {
     "elapsed": 369,
     "status": "ok",
     "timestamp": 1649870964441,
     "user": {
      "displayName": "Florin Cuconasu",
      "userId": "13345521608196528334"
     },
     "user_tz": -120
    },
    "id": "7dcf1f70"
   },
   "outputs": [],
   "source": [
    "load_h_params = {\n",
    "    'vocab_size': len(vocab),\n",
    "    'fast_embed_dim': 300,\n",
    "    'freeze_fast': True,\n",
    "    'glove_embed_dim': 100,\n",
    "    'freeze_glove': False,\n",
    "    'lstm_hidden_dim': 512, \n",
    "    'num_classes': len(lab2idx),\n",
    "    'fast_embeddings': fast_pretrained_embeddings,\n",
    "    'glove_embeddings': glove_pretrained_embeddings,\n",
    "    'bidirectional': True,\n",
    "    'num_layers': 3,\n",
    "    'dropout': 0.4,\n",
    "    'use_crf': True,  \n",
    "}\n",
    "\n",
    "model_resumed = NER_Classifier(load_h_params).to(device)"
   ]
  },
  {
   "cell_type": "code",
   "execution_count": 50,
   "id": "7fd42921",
   "metadata": {
    "colab": {
     "base_uri": "https://localhost:8080/"
    },
    "executionInfo": {
     "elapsed": 216,
     "status": "ok",
     "timestamp": 1649871010315,
     "user": {
      "displayName": "Florin Cuconasu",
      "userId": "13345521608196528334"
     },
     "user_tz": -120
    },
    "id": "7fd42921",
    "outputId": "6988a9ac-2cc3-4eb4-f962-c0d96bb8a2d3"
   },
   "outputs": [
    {
     "data": {
      "text/plain": [
       "<All keys matched successfully>"
      ]
     },
     "execution_count": 50,
     "metadata": {},
     "output_type": "execute_result"
    }
   ],
   "source": [
    "model_resumed.load_state_dict(torch.load(model_save_path, map_location=device))"
   ]
  },
  {
   "cell_type": "code",
   "execution_count": 51,
   "id": "a1a1f49e",
   "metadata": {
    "colab": {
     "base_uri": "https://localhost:8080/"
    },
    "executionInfo": {
     "elapsed": 196,
     "status": "ok",
     "timestamp": 1649870972708,
     "user": {
      "displayName": "Florin Cuconasu",
      "userId": "13345521608196528334"
     },
     "user_tz": -120
    },
    "id": "a1a1f49e",
    "outputId": "162275a5-7f9d-48ae-b98a-2ab5460f3f60"
   },
   "outputs": [
    {
     "data": {
      "text/plain": [
       "NER_Classifier(\n",
       "  (fast_embeddings): Embedding(20000, 300, padding_idx=0)\n",
       "  (glove_embeddings): Embedding(20000, 100, padding_idx=0)\n",
       "  (lstm): LSTM(400, 512, num_layers=3, batch_first=True, dropout=0.4, bidirectional=True)\n",
       "  (dropout): Dropout(p=0.4, inplace=False)\n",
       "  (concat): Linear(in_features=1024, out_features=1024, bias=True)\n",
       "  (classifier): Linear(in_features=1024, out_features=14, bias=True)\n",
       "  (relu): LeakyReLU(negative_slope=0.01)\n",
       "  (crf): CRF()\n",
       ")"
      ]
     },
     "execution_count": 51,
     "metadata": {},
     "output_type": "execute_result"
    }
   ],
   "source": [
    "model_resumed"
   ]
  },
  {
   "cell_type": "code",
   "execution_count": 52,
   "id": "98b33e62",
   "metadata": {},
   "outputs": [],
   "source": [
    "from seqeval.metrics import f1_score, accuracy_score, classification_report, precision_score, recall_score, performance_measure\n",
    "\n",
    "def evaluate_model(model, dataset, batch_size: int, collate_batch, use_crf):\n",
    "    y_true_list = []\n",
    "    y_pred_list = []\n",
    "\n",
    "    model.eval()\n",
    "    with torch.no_grad():\n",
    "        dataloader = DataLoader(dataset, batch_size=batch_size, collate_fn=collate_batch, shuffle=False)\n",
    "        for (labels, features, sentences_lengths) in dataloader:\n",
    "            predicted_labels = model(features, sentences_lengths)\n",
    "            \n",
    "            if use_crf:\n",
    "                mask = (labels != lab2idx[pad_token])\n",
    "                viterbi_pred = flat_list(model.crf.viterbi_decode(predicted_labels, mask=mask))        \n",
    "      \n",
    "            predicted_labels = predicted_labels.view(-1, predicted_labels.shape[-1])\n",
    "            labels = labels.view(-1)\n",
    "\n",
    "            mask = labels != lab2idx[pad_token]\n",
    "            labels = labels[mask].tolist() \n",
    "            y_true = [idx2lab[l] for l in labels]\n",
    "            y_true_list.append(y_true)\n",
    "            \n",
    "            if use_crf:\n",
    "                y_pred = [idx2lab[l] for l in viterbi_pred]\n",
    "                y_pred_list.append(y_pred)\n",
    "            \n",
    "            else:  \n",
    "                predicted_labels = predicted_labels.argmax(1)\n",
    "                predicted_labels = predicted_labels[mask].tolist()\n",
    "\n",
    "                y_pred = [idx2lab[l] for l in predicted_labels]\n",
    "                y_pred_list.append(y_pred)\n",
    "            \n",
    "            \n",
    "\n",
    "    return y_true_list, y_pred_list, f1_score(y_true_list, y_pred_list, average='macro')"
   ]
  },
  {
   "cell_type": "code",
   "execution_count": 55,
   "id": "ab442730",
   "metadata": {},
   "outputs": [],
   "source": [
    "y_true_list, y_pred_list, score = evaluate_model(model_resumed, valid_dataset, 1, collate_batch, True)"
   ]
  },
  {
   "cell_type": "code",
   "execution_count": 56,
   "id": "fff5effd",
   "metadata": {},
   "outputs": [
    {
     "name": "stdout",
     "output_type": "stream",
     "text": [
      "Viterbi: 0.725946414363507\n",
      "Accuracy: 0.9453376205787781\n"
     ]
    }
   ],
   "source": [
    "print(f\"Viterbi: {score}\")\n",
    "print(f\"Accuracy: {accuracy_score(y_true_list, y_pred_list)}\")"
   ]
  },
  {
   "cell_type": "code",
   "execution_count": 349,
   "id": "a7a0b010",
   "metadata": {},
   "outputs": [],
   "source": [
    "def write_predtictions(path: str, sentence_dataset: List[List[str]], \n",
    "                       y_true_list: List[List[str]], y_pred_list: List[List[str]]):\n",
    "    \"\"\"\n",
    "    Returns\n",
    "    -------\n",
    "        Writes in a file the predictions the model has computed.\n",
    "        \n",
    "        The file structure is similar to the one of the input dataset, \n",
    "        but we have three tokens per lines:\n",
    "        a (token, label, predicted_label) tuple per line where each sentence\n",
    "        is separated by a white space.\n",
    "        \n",
    "    Parameters\n",
    "    ----------\n",
    "    path: str\n",
    "        Data path where to write the dataset.\n",
    "    \n",
    "    sentence_dataset: List[List[str]]\n",
    "        A list of lists of strings.\n",
    "        In this case each nested list is a sentence.\n",
    "        \n",
    "    y_true_list: List[List[str]]\n",
    "        A list of lists containing the ground truths.\n",
    "        \n",
    "    y_pred_list: List[List[str]]\n",
    "        A list of lists containing the predictions truths.\n",
    "    \n",
    "    \"\"\" \n",
    "    with open(path, 'w', newline=\"\", encoding='utf-8') as f:\n",
    "        tsv_writer = csv.writer(f, delimiter='\\t')\n",
    "\n",
    "        for s_idx, sentence in enumerate(sentence_dataset):\n",
    "            tsv_writer.writerow([\"#\", \"id\", s_idx])\n",
    "            for t_idx, token in enumerate(sentence):\n",
    "                tsv_writer.writerow([token, y_true_list[s_idx][t_idx], y_pred_list[s_idx][t_idx]])\n",
    "            tsv_writer.writerow([])"
   ]
  },
  {
   "cell_type": "code",
   "execution_count": 350,
   "id": "a3c627bd",
   "metadata": {},
   "outputs": [],
   "source": [
    "prediction_path = \"../../data/valid_and_predictions.tsv\""
   ]
  },
  {
   "cell_type": "markdown",
   "id": "1d47ff02",
   "metadata": {},
   "source": [
    "```Python\n",
    "write_predtictions(prediction_path, valid_sentences, y_true_list, y_pred_list)\n",
    "```"
   ]
  },
  {
   "cell_type": "code",
   "execution_count": null,
   "id": "46ead237",
   "metadata": {},
   "outputs": [],
   "source": []
  },
  {
   "cell_type": "markdown",
   "id": "4191404b",
   "metadata": {},
   "source": [
    "The following confusion matrix is taken from https://christianbernecker.medium.com/how-to-create-a-confusion-matrix-in-pytorch-38d06a7f04b7"
   ]
  },
  {
   "cell_type": "code",
   "execution_count": 61,
   "id": "cf380803",
   "metadata": {},
   "outputs": [
    {
     "data": {
      "image/png": "[encoded data removed]",
      "text/plain": [
       "<Figure size 936x576 with 2 Axes>"
      ]
     },
     "metadata": {
      "needs_background": "light"
     },
     "output_type": "display_data"
    }
   ],
   "source": [
    "from sklearn.metrics import confusion_matrix\n",
    "import seaborn as sn\n",
    "import pandas as pd\n",
    "\n",
    "labels = list(lab2idx.keys())\n",
    "labels.remove(\"<PAD>\")\n",
    "\n",
    "cf_matrix = confusion_matrix(flat_list(y_true_list), flat_list(y_pred_list), labels=labels)\n",
    "df_cm = pd.DataFrame(cf_matrix/np.sum(cf_matrix)*100, index = [i for i in labels],\n",
    "                     columns = [i for i in labels])\n",
    "\n",
    "accuracy = np.trace(cf_matrix) / np.sum(cf_matrix).astype('float')\n",
    "misclass = 1 - accuracy\n",
    "\n",
    "plt.figure(figsize = (13,8))\n",
    "plt.xticks(np.arange(len(labels)), labels, rotation=45)\n",
    "\n",
    "sn.heatmap(df_cm, annot=True, cmap=\"cividis\")\n",
    "# plt.savefig(\"confusion\", dpi=300)"
   ]
  },
  {
   "cell_type": "code",
   "execution_count": 63,
   "id": "6829e0d5",
   "metadata": {
    "id": "6829e0d5",
    "outputId": "12cb7385-7632-4c77-c087-2a7c30b45134",
    "scrolled": false
   },
   "outputs": [
    {
     "data": {
      "image/png": "[encoded data removed]",
      "text/plain": [
       "<Figure size 936x576 with 1 Axes>"
      ]
     },
     "metadata": {
      "needs_background": "light"
     },
     "output_type": "display_data"
    }
   ],
   "source": [
    "import numpy as np\n",
    "import pandas as pd\n",
    "from sklearn.metrics import confusion_matrix\n",
    "from pretty_confusion_matrix import pp_matrix\n",
    "\n",
    "labels = list(lab2idx.keys())\n",
    "labels.remove(\"<PAD>\")\n",
    "\n",
    "cf_matrix = confusion_matrix(flat_list(y_true_list), flat_list(y_pred_list), labels=labels)\n",
    "\n",
    "# Get pandas dataframe\n",
    "df_cm = pd.DataFrame(cf_matrix, index = [i for i in labels],\n",
    "                     columns = [i for i in labels])\n",
    "\n",
    "# Colormap\n",
    "cmap = 'PuRd'\n",
    "# GnBu, YlGnBu\n",
    "plot = pp_matrix(df_cm, cmap=\"cividis\", figsize=(13,8), annot=True)"
   ]
  },
  {
   "cell_type": "markdown",
   "id": "7cd52f45",
   "metadata": {},
   "source": [
    "# Other Attempts"
   ]
  },
  {
   "cell_type": "markdown",
   "id": "ee5b856b",
   "metadata": {},
   "source": [
    "In this part are present the main attempts I have tried. Some portions of code are commented out because they were part of trials, thus you may find some code not very clean. In fact, I did not try to modularize much the code and for this reason you may find code repetitions."
   ]
  },
  {
   "cell_type": "markdown",
   "id": "b4824363",
   "metadata": {},
   "source": [
    "## With POS"
   ]
  },
  {
   "cell_type": "code",
   "execution_count": 67,
   "id": "6d7e56cf",
   "metadata": {},
   "outputs": [],
   "source": [
    "class NER_POS_Dataset(NER_Dataset):\n",
    "    \"\"\"\n",
    "    Subclass of NER_Dataset where are also considered the POS tags.\n",
    "    \"\"\"\n",
    "    def __init__(self, sentences: List[List[str]], sentences_labels: List[List[str]], sentences_pos: List[List[str]]):\n",
    "        \"\"\"\n",
    "        Parameters\n",
    "        ----------\n",
    "        sentences: List[List[str]]\n",
    "            A list of lists of strings where each nested list represents a sentence.\n",
    "\n",
    "        sentences_labels: List[List[str]]\n",
    "            A list of lists of strings where each nested list represents a sentence,\n",
    "            containing the labels of the tokens.\n",
    "        \n",
    "        sentences_pos: List[List[str]]\n",
    "            A list of lists of strings where each nested list represents a sentence,\n",
    "            containing the POS tags of the tokens.\n",
    "        \"\"\"\n",
    "\n",
    "        assert len(sentences) == len(sentences_labels) == len(sentences_pos), \\\n",
    "                \"Inputs must be of the same length\"\n",
    "\n",
    "        super(NER_POS_Dataset, self).__init__(sentences, sentences_labels)\n",
    "        \n",
    "        self.Y = self._from_sequence_to_idx(sentences_labels, lab2idx)\n",
    "        self.X = self._from_sequence_to_idx(sentences, vocab, unk_token)\n",
    "        \n",
    "        # POS\n",
    "        self.pos = sentences_pos\n",
    "        self.X_pos = self._from_sequence_to_idx(sentences_pos, pos2idx, pad_token)        \n",
    "\n",
    "    def __getitem__(self, idx):\n",
    "        return self.Y[idx], self.X[idx], self.sentences_lengths[idx], self.X_pos[idx]"
   ]
  },
  {
   "cell_type": "code",
   "execution_count": 68,
   "id": "c677f71e",
   "metadata": {},
   "outputs": [],
   "source": [
    "train_dataset = NER_POS_Dataset(train_sentences, train_labels, train_pos)\n",
    "valid_dataset = NER_POS_Dataset(valid_sentences, valid_labels, valid_pos)"
   ]
  },
  {
   "cell_type": "code",
   "execution_count": 69,
   "id": "d083bd8f",
   "metadata": {},
   "outputs": [],
   "source": [
    "def collate_batch(batch):\n",
    "    \"\"\"\n",
    "    Returns\n",
    "    -------\n",
    "        Tensors of the zipped lists in input, sorted in\n",
    "        descending order by sentences length.\n",
    "        (The ordering can be useful if 'pack_padded_sequence'\n",
    "        will be used)\n",
    "        \n",
    "    Parameters\n",
    "    ----------\n",
    "        batch\n",
    "            A zipped python object containing features and labels.\n",
    "    \n",
    "    \"\"\"\n",
    "    labels_list = []\n",
    "    features_list = []\n",
    "    pos_features_list = []\n",
    "\n",
    "    labels, features, sentences_lengths, pos_features = zip(*batch)\n",
    "    \n",
    "    sorted_batch = sorted(zip(labels, features, sentences_lengths, pos_features), \n",
    "                          key=lambda p: len(p[0]), reverse=True)\n",
    "    labels, features, sentences_lengths, pos_features = zip(*sorted_batch)\n",
    "        \n",
    "    max_length_in_batch = np.max(sentences_lengths)\n",
    "    \n",
    "    # Pad sentences and labels to the length of the longest sequence in the batch\n",
    "    for idx, feature in enumerate(features):\n",
    "        features_list.append(pad_sequence(feature, max_length_in_batch, vocab[pad_token]))\n",
    "        labels_list.append(pad_sequence(labels[idx], max_length_in_batch, lab2idx[pad_token]))\n",
    "        pos_features_list.append(pad_sequence(pos_features[idx], max_length_in_batch, pos2idx[pad_token]))\n",
    "      \n",
    "\n",
    "    labels_tensor = torch.LongTensor(labels_list).to(device)\n",
    "    features_tensor = torch.LongTensor(features_list).to(device)\n",
    "    pos_features_tensor = torch.LongTensor(pos_features_list).to(device)\n",
    "\n",
    "    return labels_tensor, features_tensor, sentences_lengths, pos_features_tensor"
   ]
  },
  {
   "cell_type": "code",
   "execution_count": 70,
   "id": "46a6f3a9",
   "metadata": {},
   "outputs": [],
   "source": [
    "from TorchCRF import CRF\n",
    "class NER_POS_Classifier(NER_Classifier):\n",
    "    def __init__(self, h_params):\n",
    "        super(NER_POS_Classifier, self).__init__(h_params)\n",
    "        \n",
    "        # POS embeddings\n",
    "        self.embeddings_pos = nn.Embedding(h_params['pos_vocab_size'], \n",
    "                                            h_params['pos_embed_dim'],\n",
    "                                            padding_idx=0)\n",
    "        \n",
    "        \n",
    "#         self.lstm_pos = nn.LSTM(h_params['pos_embed_dim'], \n",
    "#                             h_params['pos_lstm_hidden_dim'], \n",
    "#                             bidirectional=h_params['bidirectional'],\n",
    "# #                             num_layers=h_params['num_layers'],\n",
    "#                             num_layers=2,\n",
    "#                             dropout=h_params['dropout'] if h_params['num_layers'] > 1 else 0,\n",
    "#                             batch_first=True)\n",
    "        \n",
    "        \n",
    "#         pos_lstm_output_dim = h_params['pos_lstm_hidden_dim'] if h_params['bidirectional'] is False \\\n",
    "#                                 else h_params['pos_lstm_hidden_dim'] * 2\n",
    "        \n",
    "        \n",
    "        lstm_input_dim = h_params['fast_embed_dim'] + h_params['glove_embed_dim'] + h_params['pos_embed_dim']\n",
    "        \n",
    "        # LSTM Word embeddings\n",
    "        self.lstm = nn.LSTM(lstm_input_dim, \n",
    "                            h_params['lstm_hidden_dim'], \n",
    "                            bidirectional=h_params['bidirectional'],\n",
    "                            num_layers=h_params['num_layers'],\n",
    "                            dropout=h_params['dropout'] if h_params['num_layers'] > 1 else 0,\n",
    "                            batch_first=True)\n",
    "        \n",
    "        \n",
    "        lstm_output_dim = h_params['lstm_hidden_dim'] if h_params['bidirectional'] is False \\\n",
    "                            else h_params['lstm_hidden_dim'] * 2\n",
    "        \n",
    "\n",
    "        self.dropout = nn.Dropout(h_params['dropout'])  \n",
    "\n",
    "        self.concat = nn.Linear(lstm_output_dim, lstm_output_dim)\n",
    "\n",
    "#         self.fc1 = nn.Linear(lstm_output_dim, lstm_output_dim)\n",
    "\n",
    "        self.classifier = nn.Linear(lstm_output_dim, h_params['num_classes'])\n",
    "        \n",
    "        self.relu = nn.LeakyReLU()\n",
    "        \n",
    "        if h_params['use_crf']:\n",
    "            self.crf = CRF(h_params['num_classes'])\n",
    "\n",
    "        self._init_linear_weights()\n",
    "        \n",
    "        \n",
    "    def forward(self, x, x_lengths, x_pos):\n",
    "        \n",
    "#         x_pos = self.embeddings_pos(x_pos)\n",
    "#         x_pos = self.dropout(x_pos)\n",
    "        \n",
    "#         x_pos = torch.nn.utils.rnn.pack_padded_sequence(x_pos, x_lengths, batch_first=True)\n",
    "        \n",
    "#         x_pos, _ = self.lstm_pos(x_pos)\n",
    "#         x_pos, _ = torch.nn.utils.rnn.pad_packed_sequence(x_pos, padding_value=0, batch_first=True)\n",
    "        \n",
    "        x_pos = self.embeddings_pos(x_pos)\n",
    "        \n",
    "        x_fast = self.fast_embeddings(x)\n",
    "        x_glove = self.glove_embeddings(x)\n",
    "        \n",
    "        x = torch.cat((x_fast, x_glove, x_pos), dim=2)  \n",
    "        x = self.dropout(x)\n",
    "        \n",
    "        x, _ = self.lstm(x)\n",
    "        x = self.relu(x)\n",
    "        \n",
    "        x = self.concat(x)\n",
    "        x = self.relu(x)\n",
    "#         x = self.fc1(x)\n",
    "\n",
    "#         x = self.dropout(x)\n",
    "        output = self.classifier(x)\n",
    "\n",
    "        return output\n",
    "    \n",
    "    def _init_linear_weights(self):\n",
    "        initrange = 0.5\n",
    "\n",
    "        self.concat.weight.data.uniform_(-initrange, initrange)\n",
    "        self.concat.bias.data.zero_()\n",
    "        \n",
    "#         self.fc1.weight.data.uniform_(-initrange, initrange)\n",
    "#         self.fc1.bias.data.zero_()\n",
    "        \n",
    "        self.classifier.weight.data.uniform_(-initrange, initrange)\n",
    "        self.classifier.bias.data.zero_()"
   ]
  },
  {
   "cell_type": "markdown",
   "id": "a4aa29b2",
   "metadata": {},
   "source": [
    "## Training POS"
   ]
  },
  {
   "cell_type": "code",
   "execution_count": 71,
   "id": "f351c45b",
   "metadata": {},
   "outputs": [],
   "source": [
    "def train(model: nn.Module, dataloader: DataLoader, h_params: dict, \n",
    "          optimizer: torch.optim, criterion: torch.nn, grad_clipping:float):\n",
    "    model.train()    \n",
    "    running_loss = 0.0\n",
    "    viterbi_pred = None\n",
    "    \n",
    "    for idx, (labels, features, sentences_lengths, pos_features) in enumerate(dataloader): \n",
    "        # Empty gradients\n",
    "        optimizer.zero_grad()\n",
    "\n",
    "        # Forward\n",
    "        predicted_labels = model(features, sentences_lengths, pos_features)\n",
    "\n",
    "        \n",
    "        if h_params['use_crf']:\n",
    "            # Mask for extracting the actual length of the predictions,\n",
    "            # as padding must be ignored\n",
    "            mask = (labels != lab2idx[pad_token])\n",
    "            \n",
    "            log_likelihood = model.crf(predicted_labels, labels, mask=mask)\n",
    "            # Predictions\n",
    "            viterbi_pred = flat_list(model.crf.viterbi_decode(predicted_labels, mask=mask))        \n",
    "                \n",
    "                \n",
    "            # The log likelihood is not \"normalized\" \n",
    "            # (It is not reduced, for instance by mean, and it is negative)\n",
    "            loss = torch.mean(log_likelihood) * -1\n",
    "            \n",
    "        else:\n",
    "            predicted_labels = predicted_labels.view(-1, predicted_labels.shape[-1])\n",
    "            labels = labels.view(-1)\n",
    "            loss = criterion(predicted_labels, labels)\n",
    "            \n",
    "\n",
    "         # Backward  \n",
    "        loss.backward()\n",
    "        \n",
    "        # Gradient Clipping to prevent exploding gradients\n",
    "        if grad_clipping is not None:\n",
    "            torch.nn.utils.clip_grad_norm_(model.parameters(), grad_clipping)\n",
    "        \n",
    "        # Update weights \n",
    "        optimizer.step()\n",
    "        \n",
    "        running_loss += loss.item()\n",
    "\n",
    "    # Loss at the end of the epoch \n",
    "    return running_loss/len(dataloader), _"
   ]
  },
  {
   "cell_type": "code",
   "execution_count": 72,
   "id": "e1e4e575",
   "metadata": {},
   "outputs": [],
   "source": [
    "def evaluate(model: nn.Module, dataloader: DataLoader, \n",
    "             h_params: dict, criterion: torch.nn):\n",
    "    model.eval()\n",
    "    valid_loss = 0.0\n",
    "    f1_score = 0.0\n",
    "    viterbi_pred = None\n",
    "    \n",
    "    with torch.no_grad():\n",
    "        for idx, (labels, features, sentences_lengths, pos_features) in enumerate(dataloader):\n",
    "            predicted_labels = model(features, sentences_lengths, pos_features)\n",
    "            \n",
    "            if h_params['use_crf']:\n",
    "                # Mask for extracting the actual length of the predictions,\n",
    "                # as padding must be ignored\n",
    "                mask = (labels != lab2idx[pad_token])\n",
    "                log_likelihood = model.crf(predicted_labels, labels, mask=mask) \n",
    "                \n",
    "                viterbi_pred = flat_list(model.crf.viterbi_decode(predicted_labels, mask=mask))                        \n",
    "                \n",
    "                # The log likelihood is not \"normalized\" \n",
    "                # (It is not reduced, for instance by mean, and it is negative)\n",
    "                loss = torch.mean(log_likelihood) * -1\n",
    "\n",
    "                predicted_labels = predicted_labels.view(-1, predicted_labels.shape[-1])\n",
    "                labels = labels.view(-1)\n",
    "                \n",
    "\n",
    "            else:\n",
    "                predicted_labels = predicted_labels.view(-1, predicted_labels.shape[-1])\n",
    "                labels = labels.view(-1)\n",
    "                loss = criterion(predicted_labels, labels)\n",
    "                \n",
    "               \n",
    "            valid_loss += loss.item()\n",
    "            f1_score += compute_score(predicted_labels, labels, viterbi_pred)\n",
    "            \n",
    "    return valid_loss/len(dataloader), f1_score/len(dataloader)"
   ]
  },
  {
   "cell_type": "code",
   "execution_count": null,
   "id": "806d56ce",
   "metadata": {
    "collapsed": true
   },
   "outputs": [],
   "source": [
    "# Hyperparameters\n",
    "h_params = {\n",
    "    'pos_vocab_size': len(pos2idx),\n",
    "    'pos_embed_dim': 100,\n",
    "    'pos_lstm_hidden_dim': 100,\n",
    "    'vocab_size': len(vocab),\n",
    "    'fast_embed_dim': 300,\n",
    "    'freeze_fast': True,\n",
    "    'glove_embed_dim': 100,\n",
    "    'freeze_glove': False,\n",
    "    'lstm_hidden_dim': 512, \n",
    "    'num_classes': len(lab2idx),\n",
    "    'fast_embeddings': fast_pretrained_embeddings,\n",
    "    'glove_embeddings': glove_pretrained_embeddings,\n",
    "    'bidirectional': True,\n",
    "    'num_layers': 2,\n",
    "    'dropout': 0.3,\n",
    "    'use_crf': True,  \n",
    "}\n",
    "\n",
    "epochs = 8 # number of epochs\n",
    "lr = 0.003 # learning rate\n",
    "bacth_size = 128 # batch size \n",
    "grad_clipping = 1.5 # for clipping gradients         \n",
    "    \n",
    "\n",
    "model = NER_POS_Classifier(h_params).to(device)\n",
    "print(model)\n",
    "\n",
    "\n",
    "                                            # ignore the padding class\n",
    "criterion = torch.nn.CrossEntropyLoss(ignore_index=lab2idx[pad_token]).to(device)\n",
    "\n",
    "optimizer = torch.optim.Adam(model.parameters(), lr=lr)\n",
    "# scheduler = None\n",
    "scheduler = torch.optim.lr_scheduler.StepLR(optimizer, step_size=5, gamma=0.3)\n",
    "# scheduler = torch.optim.lr_scheduler.MultiStepLR(optimizer, milestones=[6, 9, 13, 20, 22], gamma=0.1)\n",
    "\n",
    "\n",
    "train_dataloader = DataLoader(train_dataset, batch_size=bacth_size, \n",
    "                              collate_fn=collate_batch, shuffle=True)\n",
    "valid_dataloader = DataLoader(valid_dataset, batch_size=bacth_size, \n",
    "                              collate_fn=collate_batch, shuffle=False)\n",
    "\n",
    "histories = train_model(model, train_dataloader, valid_dataloader, h_params, \n",
    "                        optimizer, criterion, scheduler, grad_clipping, epochs,\n",
    "                        early_stopping=True, early_stopping_mode=\"max\", \n",
    "                        early_stopping_patience=2)"
   ]
  },
  {
   "cell_type": "markdown",
   "id": "9856e520",
   "metadata": {},
   "source": [
    "## With Char"
   ]
  },
  {
   "cell_type": "code",
   "execution_count": 74,
   "id": "04635994",
   "metadata": {},
   "outputs": [],
   "source": [
    "class NER_CHAR_Dataset(NER_Dataset):\n",
    "    \"\"\"\n",
    "    Subclass of NER_Dataset where are also considered Char emebeddings.\n",
    "    \"\"\"\n",
    "    def __init__(self, sentences, sentences_labels):\n",
    "        \"\"\"\n",
    "        Parameters\n",
    "        ----------\n",
    "        sentences: List[List[str]]\n",
    "            A list of lists of strings where each nested list represents a sentence.\n",
    "\n",
    "        sentences_labels: List[List[str]]\n",
    "            A list of lists of strings where each nested list represents a sentence,\n",
    "            containing the labels of the tokens.\n",
    "        \"\"\"\n",
    "\n",
    "        assert len(sentences) == len(sentences_labels), \\\n",
    "                \"Inputs must be of the same length\"\n",
    "        \n",
    "        super(NER_CHAR_Dataset, self).__init__(sentences, sentences_labels)\n",
    "        \n",
    "        self.Y = self._from_sequence_to_idx(sentences_labels, lab2idx)\n",
    "        self.X = self._from_sequence_to_idx(sentences, vocab, unk_token)\n",
    "        \n",
    "        # Chars\n",
    "        self.tokens_lengths = [([len(token) for token in sentence]) for sentence in sentences]\n",
    "        self.X_chars = self._from_tokens_to_char_idx(char_vocab, pad_token, unk_token)\n",
    "        \n",
    "    def _from_tokens_to_char_idx(self, vocab: dict, pad_token:str, unk_token: str) -> List[List[int]]:\n",
    "        \"\"\"\n",
    "        Returns\n",
    "        -------\n",
    "            A list of lists of int built by replacing \n",
    "            each character in a token with its corresponding id in the vocabulary.\n",
    "\n",
    "        Parameters\n",
    "        ----------   \n",
    "        vocab: dict\n",
    "            The map that associates to each character an unique number.\n",
    "        \n",
    "        pad_token: str\n",
    "            The Padding token.\n",
    "        \n",
    "        unk_token: str\n",
    "            The OOV token.\n",
    "        \"\"\"\n",
    "        sequences_idx = []\n",
    "        \n",
    "        for sentence in self.sentences:\n",
    "            sequences_idx.append([[char_vocab.get(c, char_vocab[unk_token]) for c in token] \n",
    "                                     for token in sentence])\n",
    "            \n",
    "        return sequences_idx\n",
    "\n",
    "    def __getitem__(self, idx):\n",
    "        return self.Y[idx], self.X[idx], self.sentences_lengths[idx], self.X_chars[idx], self.tokens_lengths[idx]"
   ]
  },
  {
   "cell_type": "code",
   "execution_count": 75,
   "id": "03823c3b",
   "metadata": {},
   "outputs": [],
   "source": [
    "train_dataset = NER_CHAR_Dataset(train_sentences, train_labels)\n",
    "valid_dataset = NER_CHAR_Dataset(valid_sentences, valid_labels)"
   ]
  },
  {
   "cell_type": "code",
   "execution_count": 76,
   "id": "d9668f1c",
   "metadata": {},
   "outputs": [],
   "source": [
    "def collate_batch(batch):\n",
    "    \"\"\"\n",
    "    Returns\n",
    "    -------\n",
    "        Tensors of the zipped lists in input, sorted in\n",
    "        descending order by sentences length.\n",
    "        (The ordering can be useful if 'pack_padded_sequence'\n",
    "        will be used)\n",
    "        \n",
    "    Parameters\n",
    "    ----------\n",
    "        batch\n",
    "            A zipped python object containing features and labels.\n",
    "    \"\"\"\n",
    "    labels_list = []\n",
    "    features_list = []\n",
    "    char_features_list = []\n",
    " \n",
    "    \n",
    "    labels, features, sentences_lengths, char_features, tokens_lengths = zip(*batch)\n",
    "    \n",
    "    sorted_batch = sorted(zip(labels, features, sentences_lengths, char_features, tokens_lengths), \n",
    "                          key=lambda p: len(p[0]), reverse=True)\n",
    "    labels, features, sentences_lengths, char_features, tokens_lengths = zip(*sorted_batch)\n",
    "\n",
    "        \n",
    "    max_length_in_batch = np.max(sentences_lengths)\n",
    "    max_length_tokens = np.max(flat_list(tokens_lengths))\n",
    "    \n",
    "    \n",
    "    # Pad sentences and labels to the length of the longest sequence in the batch\n",
    "    for idx, feature in enumerate(features):\n",
    "        features_list.append(pad_sequence(feature, max_length_in_batch, vocab[pad_token]))\n",
    "        labels_list.append(pad_sequence(labels[idx], max_length_in_batch, vocab[pad_token]))\n",
    "      \n",
    "    \n",
    "    for idx, sentence in enumerate(char_features): \n",
    "        chars_in_token = []\n",
    "        for token in sentence:\n",
    "            chars_in_token.append(\n",
    "                                pad_sequence(token, max_length_tokens, char_vocab[pad_token])\n",
    "                                )\n",
    "\n",
    "        # Tensors must contain elemetns of the same shape,\n",
    "        # therefore I add lists of zeros where the sentence\n",
    "        # is smaller than 'max_length_in_batch'\n",
    "        if len(chars_in_token) < max_length_in_batch:\n",
    "            num_list_of_zeros = max_length_in_batch - len(chars_in_token)\n",
    "            \n",
    "            chars_in_token.extend([[char_vocab[pad_token]] * max_length_tokens] * num_list_of_zeros)\n",
    "\n",
    "        char_features_list.append(chars_in_token)\n",
    " \n",
    "\n",
    "    labels_tensor = torch.LongTensor(labels_list).to(device)\n",
    "    features_tensor = torch.LongTensor(features_list).to(device)\n",
    "    char_features_tensor = torch.LongTensor(char_features_list).to(device)\n",
    "    tokens_lengths = torch.LongTensor([pad_sequence(s, max_length_in_batch, 1) \n",
    "                                       for s in tokens_lengths])\n",
    "    \n",
    "    return labels_tensor, features_tensor, sentences_lengths, char_features_tensor, tokens_lengths"
   ]
  },
  {
   "cell_type": "markdown",
   "id": "fefc17f9",
   "metadata": {},
   "source": [
    "I think there are some problems with the following implementation because it requires almost 10 minutes to run a single epoch on GPU. In theory, it should work as the training starts, nevertheless it takes too much time.\n",
    "\n",
    "From `collate_batch` regarding character representation:\n",
    "1. A sentence is a list of lists, where each nested list represents a token.\n",
    "2. This token is composed by multiple characters, actually by the integer representation of that char taken from the *char_vocab*.\n",
    "\n",
    "In Forward pass in `NER_CHAR_Classifier`:\n",
    "1. In order to optimize a bit the computation I use the `pack_padded_sequence` method for RNNs. It packed data without considering the padding tokens, in this case zeros.\n",
    "2. For that method the input is preferred to be already sorted in descending order by the token lengths; therefore in the first part of the forward pass I sorted the sentences to get first the sentence that have the longest tokens.\n",
    "3. Then, I find an embedding for the tokens and I input them to a Bi-LSTM that should return the character representation.\n",
    "\n",
    "Perhaps, I wrongly managed the number of zeros I inserted to pad both the sentences and the tokens in sentences in the `collate_batch` function, and this probably led to a exponentially increase of the running time."
   ]
  },
  {
   "cell_type": "code",
   "execution_count": 221,
   "id": "8ab8c983",
   "metadata": {},
   "outputs": [],
   "source": [
    "from TorchCRF import CRF\n",
    "class NER_CHAR_Classifier(NER_Classifier):\n",
    "    def __init__(self, h_params):\n",
    "        super(NER_CHAR_Classifier, self).__init__(h_params)\n",
    "        \n",
    "\n",
    "        # Char embeddings\n",
    "        self.embeddings_char = nn.Embedding(h_params['char_vocab_size'], \n",
    "                                            h_params['char_embed_dim'],\n",
    "                                            padding_idx=0)\n",
    "        \n",
    "        self.lstm_char = nn.LSTM(h_params['char_embed_dim'], \n",
    "                            h_params['char_lstm_hidden_dim'], \n",
    "                            bidirectional=h_params['bidirectional'],\n",
    "                            num_layers=1,\n",
    "                            batch_first=True)\n",
    "        \n",
    "        char_lstm_output_dim = h_params['char_lstm_hidden_dim'] if h_params['bidirectional'] is False \\\n",
    "                                else h_params['char_lstm_hidden_dim'] * 2\n",
    "        \n",
    "#         self.linear_char = nn.Linear(char_lstm_output_dim, char_lstm_output_dim)\n",
    "        \n",
    "        \n",
    "        # Char + Word embeddings\n",
    "        self.lstm = nn.LSTM(h_params['glove_embed_dim'] + char_lstm_output_dim, \n",
    "                            h_params['lstm_hidden_dim'], \n",
    "                            bidirectional=h_params['bidirectional'],\n",
    "                            num_layers=h_params['num_layers'],\n",
    "                            dropout=h_params['dropout'] if h_params['num_layers'] > 1 else 0,\n",
    "                            batch_first=True)\n",
    "\n",
    "        \n",
    "        \n",
    "        lstm_output_dim = h_params['lstm_hidden_dim'] if h_params['bidirectional'] is False \\\n",
    "                            else h_params['lstm_hidden_dim'] * 2\n",
    "        \n",
    "\n",
    "        self.dropout = nn.Dropout(h_params['dropout'])  \n",
    "        \n",
    "#         self.concat = nn.Linear(lstm_output_dim, lstm_output_dim)\n",
    "#         self.concat2 = nn.Linear(lstm_output_dim, lstm_output_dim)\n",
    "\n",
    "        self.classifier = nn.Linear(lstm_output_dim, h_params['num_classes'])\n",
    "        \n",
    "        self.relu = nn.LeakyReLU()\n",
    "        if h_params['use_crf']:\n",
    "            self.crf = CRF(h_params['num_classes'])\n",
    "\n",
    "        self._init_linear_weights()\n",
    "\n",
    "\n",
    "    def forward(self, x, x_lengths, x_char, x_char_lengths):\n",
    "        batch_size = x_char.shape[0]\n",
    "        sent_len = x_char.shape[1]\n",
    "        \n",
    "        # x_char.shape = batch_size x max_len_sentence x max_len_token \n",
    "        \n",
    "        # Reshape = (batch_size * max_len_sentence) x max_len_token \n",
    "        x_char = x_char.view(batch_size * sent_len, -1) \n",
    "        \n",
    "        # x_char_lengths.shape = batch_size x max_len_sentence\n",
    "        \n",
    "        # Reshape = (batch_size * max_len_sentence)\n",
    "        x_char_lengths = x_char_lengths.view(batch_size * sent_len) \n",
    "\n",
    "        # Sort characters lengths in descending order\n",
    "        sorted_seq_len, perm_idx = x_char_lengths.sort(0, descending=True)\n",
    "        \n",
    "        # It is important to be able to retrieve the non-sorted indices\n",
    "        _, recover_idx = perm_idx.sort(0, descending=False)\n",
    "        \n",
    "        # Sort in descending order by lengths the char tensor  \n",
    "        x_char = x_char[perm_idx]\n",
    "        \n",
    "        # x_char_emb.shape = (batch_size * max_len_sentence) x char_embed_dim\n",
    "        x_char_emb = self.embeddings_char(x_char) \n",
    "\n",
    "        x_char_emb = self.dropout(x_char_emb)\n",
    "        \n",
    "        # Packed chars\n",
    "        x_char_packed = torch.nn.utils.rnn.pack_padded_sequence(x_char_emb, sorted_seq_len, batch_first=True)\n",
    "\n",
    "        x_char_lstm, _ = self.lstm_char(x_char_packed)\n",
    "        \n",
    "        # Retrieve the non packed tensor and the respective lengths\n",
    "        x_char, x_char_lengths = torch.nn.utils.rnn.pad_packed_sequence(x_char_lstm, batch_first=True)\n",
    "        \n",
    "        # x_char.shape = (batch_size * max_len_sentence) x max_len_token x char_lstm_hidden_dim (* 2 if bidirect)\n",
    "        \n",
    "        # x_char_temp.shape = (batch_size * max_len_sentence) x char_lstm_hidden_dim (* 2 if bidirect)\n",
    "        x_char_temp = torch.FloatTensor(torch.zeros((x_char.shape[0], x_char.shape[2]))).to(device)\n",
    "        \n",
    "        # Concatenate the last output of the forward LSTM \n",
    "        # and the last one of the reverse LSTM, obtaining a\n",
    "        # second embedding for each word\n",
    "        for i, index in enumerate(x_char_lengths):\n",
    "            x_char_temp[i] = torch.cat((x_char[i, index-1, :h_params['char_lstm_hidden_dim']], \n",
    "                                        x_char[i, 0, h_params['char_lstm_hidden_dim']:]))\n",
    "\n",
    "        \n",
    "        # Reshape to the orginal non sorted positions\n",
    "        x_char = x_char_temp[recover_idx]\n",
    "\n",
    "        # Reshape to get the same dimensions as the word emb\n",
    "        # x_char.shape =  batch_size x max_len_sentence x char_lstm_hidden_dim (* 2 if bidirect)\n",
    "        x_char = x_char.view(batch_size, sent_len, -1)\n",
    "          \n",
    "\n",
    "        \n",
    "#         x_char = self.linear_char(x_char)\n",
    "#         x_char = self.relu(x_char)\n",
    "    \n",
    "        \n",
    "#         x_fast = self.fast_embeddings(x)\n",
    "        \n",
    "        x_glove = self.glove_embeddings(x)\n",
    "           \n",
    "\n",
    "        x = torch.cat((x_char, x_glove), dim=2) \n",
    "        x = self.dropout(x)\n",
    "        \n",
    "        x, _ = self.lstm(x)\n",
    "        \n",
    "        x = self.relu(x)\n",
    "        output = self.classifier(x)\n",
    "\n",
    "        return output\n",
    "    \n",
    "    \n",
    "    def _init_linear_weights(self):\n",
    "        initrange = 0.5\n",
    "#         self.linear_char.weight.data.uniform_(-initrange, initrange)\n",
    "#         self.linear_char.bias.data.zero_()\n",
    "\n",
    "#         self.concat.weight.data.uniform_(-initrange, initrange)\n",
    "#         self.concat.bias.data.zero_()\n",
    "#         self.concat2.weight.data.uniform_(-initrange, initrange)\n",
    "#         self.concat2.bias.data.zero_()\n",
    "        \n",
    "        self.classifier.weight.data.uniform_(-initrange, initrange)\n",
    "        self.classifier.bias.data.zero_()"
   ]
  },
  {
   "cell_type": "markdown",
   "id": "82b1f1a2",
   "metadata": {},
   "source": [
    "## Training Char"
   ]
  },
  {
   "cell_type": "code",
   "execution_count": 222,
   "id": "d5d3e1cf",
   "metadata": {},
   "outputs": [],
   "source": [
    "def train(model: nn.Module, dataloader: DataLoader, h_params: dict, \n",
    "          optimizer: torch.optim, criterion: torch.nn, grad_clipping:float):\n",
    "    model.train()    \n",
    "    running_loss = 0.0\n",
    "    viterbi_pred = None\n",
    "    \n",
    "    for idx, (labels, features, sentences_lengths, char_features, token_lenghts) in enumerate(dataloader): \n",
    "        # Empty gradients\n",
    "        optimizer.zero_grad()\n",
    "\n",
    "        # Forward\n",
    "        predicted_labels = model(features, sentences_lengths, char_features, token_lenghts)\n",
    "\n",
    "        \n",
    "        if h_params['use_crf']:\n",
    "            # Mask for extracting the actual length of the predictions,\n",
    "            # as padding must be ignored\n",
    "            mask = (labels != lab2idx[pad_token])\n",
    "            \n",
    "            log_likelihood = model.crf(predicted_labels, labels, mask=mask)\n",
    "            # Predictions\n",
    "            viterbi_pred = flat_list(model.crf.viterbi_decode(predicted_labels, mask=mask))        \n",
    "                \n",
    "                \n",
    "            # The log likelihood is not \"normalized\" \n",
    "            # (It is not reduced, for instance by mean, and it is negative)\n",
    "            loss = torch.mean(log_likelihood) * -1\n",
    "            \n",
    "        else:\n",
    "            predicted_labels = predicted_labels.view(-1, predicted_labels.shape[-1])\n",
    "            labels = labels.view(-1)\n",
    "            loss = criterion(predicted_labels, labels)\n",
    "            \n",
    "\n",
    "         # Backward  \n",
    "        loss.backward()\n",
    "        \n",
    "        # Gradient Clipping to prevent exploding gradients\n",
    "        if grad_clipping is not None:\n",
    "            torch.nn.utils.clip_grad_norm_(model.parameters(), grad_clipping)\n",
    "        \n",
    "        # Update weights \n",
    "        optimizer.step()\n",
    "        \n",
    "        running_loss += loss.item()\n",
    "\n",
    "    # Loss at the end of the epoch \n",
    "    return running_loss/len(dataloader), _"
   ]
  },
  {
   "cell_type": "code",
   "execution_count": 223,
   "id": "94df8aab",
   "metadata": {},
   "outputs": [],
   "source": [
    "def evaluate(model: nn.Module, dataloader: DataLoader, \n",
    "             h_params: dict, criterion: torch.nn):\n",
    "    model.eval()\n",
    "    valid_loss = 0.0\n",
    "    f1_score = 0.0\n",
    "    viterbi_pred = None\n",
    "    \n",
    "    with torch.no_grad():\n",
    "        for idx, (labels, features, sentences_lengths, char_features, token_lenghts) in enumerate(dataloader):\n",
    "            predicted_labels = model(features, sentences_lengths, char_features, token_lenghts)\n",
    "            \n",
    "            if h_params['use_crf']:\n",
    "                # Mask for extracting the actual length of the predictions,\n",
    "                # as padding must be ignored\n",
    "                mask = (labels != lab2idx[pad_token])\n",
    "                log_likelihood = model.crf(predicted_labels, labels, mask=mask) \n",
    "                \n",
    "                viterbi_pred = flat_list(model.crf.viterbi_decode(predicted_labels, mask=mask))                        \n",
    "                \n",
    "                # The log likelihood is not \"normalized\" \n",
    "                # (It is not reduced, for instance by mean, and it is negative)\n",
    "                loss = torch.mean(log_likelihood) * -1\n",
    "\n",
    "                predicted_labels = predicted_labels.view(-1, predicted_labels.shape[-1])\n",
    "                labels = labels.view(-1)\n",
    "                \n",
    "\n",
    "            else:\n",
    "                predicted_labels = predicted_labels.view(-1, predicted_labels.shape[-1])\n",
    "                labels = labels.view(-1)\n",
    "                loss = criterion(predicted_labels, labels)\n",
    "                \n",
    "               \n",
    "            valid_loss += loss.item()\n",
    "            f1_score += compute_score(predicted_labels, labels, viterbi_pred)\n",
    "            \n",
    "    return valid_loss/len(dataloader), f1_score/len(dataloader)"
   ]
  },
  {
   "cell_type": "code",
   "execution_count": null,
   "id": "c9e09bb7",
   "metadata": {
    "collapsed": true
   },
   "outputs": [],
   "source": [
    "# Hyperparameters\n",
    "h_params = {\n",
    "    'char_vocab_size': len(char_vocab),\n",
    "    'char_embed_dim': 55,\n",
    "    'char_lstm_hidden_dim': 50,\n",
    "    'vocab_size': len(vocab),\n",
    "    'fast_embed_dim': 300,\n",
    "    'freeze_fast': True,\n",
    "    'glove_embed_dim': 100,\n",
    "    'freeze_glove': False,\n",
    "    'lstm_hidden_dim': 256, \n",
    "    'num_classes': len(lab2idx),\n",
    "    'fast_embeddings': fast_pretrained_embeddings,\n",
    "    'glove_embeddings': glove_pretrained_embeddings,\n",
    "    'bidirectional': True,\n",
    "    'num_layers': 2,\n",
    "    'dropout': 0.3,\n",
    "    'use_crf': False, \n",
    "}\n",
    "\n",
    "epochs = 20 # number of epochs\n",
    "lr = 0.003 # learning rate \n",
    "bacth_size = 512 # batch size\n",
    "grad_clipping = 2.15 # for clipping gradients\n",
    "\n",
    "model = NER_CHAR_Classifier(h_params).to(device)\n",
    "print(model)\n",
    "    \n",
    "                                            # ignore the padding class\n",
    "criterion = torch.nn.CrossEntropyLoss(ignore_index=lab2idx[pad_token]).to(device)\n",
    "optimizer = torch.optim.Adam(model.parameters(), lr=lr)\n",
    "# scheduler = None\n",
    "# scheduler = torch.optim.lr_scheduler.StepLR(optimizer, step_size=5, gamma=0.3)         \n",
    "scheduler = torch.optim.lr_scheduler.MultiStepLR(optimizer, milestones=[5, 9,], gamma=0.3)\n",
    "# scheduler = torch.optim.lr_scheduler.CyclicLR(optimizer, base_lr=0.002, max_lr=0.01)\n",
    "\n",
    "train_dataloader = DataLoader(train_dataset, batch_size=bacth_size, \n",
    "                              collate_fn=collate_batch, shuffle=True)\n",
    "valid_dataloader = DataLoader(valid_dataset, batch_size=bacth_size, \n",
    "                              collate_fn=collate_batch, shuffle=False)\n",
    "\n",
    "histories = train_model(model, train_dataloader, valid_dataloader, h_params, \n",
    "                        optimizer, criterion, scheduler, grad_clipping, epochs,\n",
    "                        early_stopping=True, early_stopping_mode=\"max\", \n",
    "                        early_stopping_patience=2)"
   ]
  },
  {
   "cell_type": "markdown",
   "id": "b61f5f50",
   "metadata": {},
   "source": [
    "## With POS and DEP"
   ]
  },
  {
   "cell_type": "code",
   "execution_count": 81,
   "id": "4088305c",
   "metadata": {},
   "outputs": [],
   "source": [
    "class NER_DEP_Dataset(NER_Dataset):\n",
    "    \"\"\"\n",
    "    Subclass of NER_Dataset where are also considered Char emebeddings.\n",
    "    \"\"\"\n",
    "    def __init__(self, sentences, sentences_labels, sentences_heads, sentences_dep):\n",
    "        \"\"\"\n",
    "        Parameters\n",
    "        ----------\n",
    "        sentences: List[List[str]]\n",
    "            A list of lists of strings where each nested list represents a sentence.\n",
    "\n",
    "        sentences_labels: List[List[str]]\n",
    "            A list of lists of strings where each nested list represents a sentence,\n",
    "            containing the labels of the tokens.\n",
    "        \n",
    "        sentences_heads: List[List[str]]\n",
    "            A list of lists of strings where each nested list represents a sentence,\n",
    "            containing the token parents in the dependency tree.\n",
    "        \n",
    "        sentences_dep: List[List[str]]\n",
    "            A list of lists of strings where each nested list represents a sentence,\n",
    "            containing the dependency tag of the tokens.\n",
    "        \"\"\"\n",
    "\n",
    "        assert len(sentences) == len(sentences_labels) == len(sentences_dep), \\\n",
    "                \"Inputs must be of the same length\"\n",
    "        \n",
    "        super(NER_DEP_Dataset, self).__init__(sentences, sentences_labels)\n",
    "\n",
    "        self.Y = self._from_sequence_to_idx(sentences_labels, lab2idx)\n",
    "        self.X = self._from_sequence_to_idx(sentences, vocab, unk_token)\n",
    "        \n",
    "        # DEP\n",
    "        self.heads = sentences_heads\n",
    "        self.dep = sentences_dep\n",
    "        self.X_heads = self._from_sequence_to_idx(sentences_heads, vocab, unk_token)\n",
    "        self.X_dep = self._from_sequence_to_idx(sentences_dep, dep_vocab, unk_token)\n",
    "\n",
    "    def __getitem__(self, idx):\n",
    "        return self.Y[idx], self.X[idx], self.sentences_lengths[idx], self.X_heads[idx], self.X_dep[idx]"
   ]
  },
  {
   "cell_type": "code",
   "execution_count": 82,
   "id": "80fe8b4a",
   "metadata": {},
   "outputs": [],
   "source": [
    "train_dataset = NER_DEP_Dataset(train_sentences, train_labels, train_heads, train_dep)\n",
    "valid_dataset = NER_DEP_Dataset(valid_sentences, valid_labels, valid_heads, valid_dep)"
   ]
  },
  {
   "cell_type": "code",
   "execution_count": 236,
   "id": "e325e699",
   "metadata": {},
   "outputs": [],
   "source": [
    "def collate_batch(batch):\n",
    "    \"\"\"\n",
    "    Returns\n",
    "    -------\n",
    "        Tensors of the zipped lists in input, sorted in\n",
    "        descending order by sentences length.\n",
    "        (The ordering can be useful if 'pack_padded_sequence'\n",
    "        will be used)\n",
    "        \n",
    "    Parameters\n",
    "    ----------\n",
    "        batch\n",
    "            A zipped python object containing features and labels.\n",
    "    \"\"\"\n",
    "    labels_list = []\n",
    "    features_list = []\n",
    "    heads_features_list = []\n",
    "    dep_features_list = []\n",
    "\n",
    "    labels, features, sentences_lengths, heads_features, dep_features = zip(*batch)\n",
    "    \n",
    "    sorted_batch = sorted(zip(labels, features, sentences_lengths, heads_features, dep_features), \n",
    "                          key=lambda p: len(p[0]), reverse=True)\n",
    "    labels, features, sentences_lengths, heads_features, dep_features = zip(*sorted_batch)\n",
    "        \n",
    "    max_length_in_batch = np.max(sentences_lengths)\n",
    "    \n",
    "    # Pad sentences and labels to the length of the longest sequence in the batch\n",
    "    for idx, feature in enumerate(features):\n",
    "        features_list.append(pad_sequence(feature, max_length_in_batch, vocab[pad_token]))\n",
    "        labels_list.append(pad_sequence(labels[idx], max_length_in_batch, lab2idx[pad_token]))\n",
    "        heads_features_list.append(pad_sequence(heads_features[idx], max_length_in_batch, vocab[pad_token]))\n",
    "        dep_features_list.append(pad_sequence(dep_features[idx], max_length_in_batch, dep_vocab[pad_token]))\n",
    "        \n",
    "\n",
    "    labels_tensor = torch.LongTensor(labels_list).to(device)\n",
    "    features_tensor = torch.LongTensor(features_list).to(device)\n",
    "    dep_features_tensor = torch.LongTensor(dep_features_list).to(device)\n",
    "    heads_features_tensor = torch.LongTensor(heads_features_list).to(device)\n",
    "   \n",
    "\n",
    "    return labels_tensor, features_tensor, sentences_lengths, heads_features_tensor, dep_features_tensor"
   ]
  },
  {
   "cell_type": "code",
   "execution_count": 237,
   "id": "e73a5237",
   "metadata": {},
   "outputs": [],
   "source": [
    "from TorchCRF import CRF\n",
    "class NER_DEP_Classifier(NER_Classifier):\n",
    "    def __init__(self, h_params):\n",
    "        super(NER_DEP_Classifier, self).__init__(h_params)\n",
    "\n",
    "        \n",
    "#         self.lstm_pos_dep = nn.LSTM(h_params['pos_embed_dim'] + h_params['dep_embed_dim'], \n",
    "#                             h_params['pos_dep_lstm_hidden_dim'], \n",
    "#                             bidirectional=h_params['bidirectional'],\n",
    "# #                             num_layers=h_params['num_layers'],\n",
    "#                             num_layers=2,\n",
    "#                             dropout=h_params['dropout'] if h_params['num_layers'] > 1 else 0,\n",
    "#                             batch_first=True)\n",
    "        \n",
    "        \n",
    "#         pos_dep_lstm_output_dim = h_params['pos_dep_lstm_hidden_dim'] if h_params['bidirectional'] is False \\\n",
    "#                                 else h_params['pos_dep_lstm_hidden_dim'] * 2\n",
    "        \n",
    "        # Dependency embeddings\n",
    "        self.embeddings_dep = nn.Embedding(h_params['dep_vocab_size'], \n",
    "                                            h_params['dep_embed_dim'],\n",
    "                                            padding_idx=0)\n",
    "\n",
    "        lstm_input_dim = h_params['fast_embed_dim'] * 2 + h_params['glove_embed_dim'] * 2 + h_params['dep_embed_dim']\n",
    "        \n",
    "        # LSTM Word embeddings\n",
    "        self.lstm = nn.LSTM(lstm_input_dim, \n",
    "                            h_params['lstm_hidden_dim'], \n",
    "                            bidirectional=h_params['bidirectional'],\n",
    "                            num_layers=h_params['num_layers'],\n",
    "                            dropout=h_params['dropout'] if h_params['num_layers'] > 1 else 0,\n",
    "                            batch_first=True)\n",
    "        \n",
    "        \n",
    "        lstm_output_dim = h_params['lstm_hidden_dim'] if h_params['bidirectional'] is False \\\n",
    "                            else h_params['lstm_hidden_dim'] * 2\n",
    "        \n",
    "\n",
    "        self.dropout = nn.Dropout(h_params['dropout'])  \n",
    "\n",
    "        self.concat = nn.Linear(lstm_output_dim, lstm_output_dim)\n",
    "#         self.fc1 = nn.Linear(self.lstm_output_dim, self.lstm_output_dim // 2)\n",
    "#         self.fc2 = nn.Linear(self.lstm_output_dim //2, self.lstm_output_dim // 4)\n",
    "\n",
    "        self.classifier = nn.Linear(lstm_output_dim, h_params['num_classes'])\n",
    "        \n",
    "        self.relu = nn.LeakyReLU()\n",
    "        \n",
    "        if h_params['use_crf']:\n",
    "            self.crf = CRF(h_params['num_classes'])\n",
    "\n",
    "        self._init_linear_weights()\n",
    "        \n",
    "        \n",
    "    def forward(self, x, x_lengths, x_heads, x_dep):\n",
    "        \n",
    "        x_fast = self.fast_embeddings(x)\n",
    "        x_glove = self.glove_embeddings(x)\n",
    "        \n",
    "        x_fast_heads = self.fast_embeddings(x_heads)\n",
    "        x_glove_heads = self.glove_embeddings(x_heads)\n",
    "        \n",
    "        x_dep = self.embeddings_dep(x_dep)\n",
    "        \n",
    "        \n",
    "        x = torch.cat((x_fast, x_glove, x_fast_heads, x_glove_heads, x_dep), dim=2)  \n",
    "        x = self.dropout(x)\n",
    "        \n",
    "        x, _ = self.lstm(x)\n",
    "        x = self.relu(x)\n",
    "        \n",
    "        x = self.concat(x)\n",
    "        x = self.relu(x)\n",
    "#         x = self.dropout(x)\n",
    "#         x = self.fc1(x)\n",
    "#         x = self.relu(x)\n",
    "#         x = self.fc2(x)\n",
    "#         x = self.relu(x)\n",
    "\n",
    "        output = self.classifier(x)\n",
    "\n",
    "        return output\n",
    "\n",
    "    def _init_linear_weights(self):\n",
    "        initrange = 0.5\n",
    "\n",
    "#         self.concat.weight.data.uniform_(-initrange, initrange)\n",
    "#         self.concat.bias.data.zero_()\n",
    "#         self.fc1.weight.data.uniform_(-initrange, initrange)\n",
    "#         self.fc1.bias.data.zero_()\n",
    "#         self.fc2.weight.data.uniform_(-initrange, initrange)\n",
    "#         self.fc2.bias.data.zero_()\n",
    "\n",
    "        \n",
    "        self.classifier.weight.data.uniform_(-initrange, initrange)\n",
    "        self.classifier.bias.data.zero_()"
   ]
  },
  {
   "cell_type": "markdown",
   "id": "80c3fcac",
   "metadata": {},
   "source": [
    "## Training DEP"
   ]
  },
  {
   "cell_type": "code",
   "execution_count": 238,
   "id": "d795f5a9",
   "metadata": {},
   "outputs": [],
   "source": [
    "def train(model: nn.Module, dataloader: DataLoader, h_params: dict, \n",
    "          optimizer: torch.optim, criterion: torch.nn, grad_clipping:float):\n",
    "    model.train()    \n",
    "    running_loss = 0.0\n",
    "    viterbi_pred = None\n",
    "    \n",
    "    for idx, (labels, features, sentences_lengths, heads_features, dep_features) in enumerate(dataloader): \n",
    "        # Empty gradients\n",
    "        optimizer.zero_grad()\n",
    "\n",
    "        # Forward\n",
    "        predicted_labels = model(features, sentences_lengths, heads_features, dep_features)\n",
    "\n",
    "        \n",
    "        if h_params['use_crf']:\n",
    "            # Mask for extracting the actual length of the predictions,\n",
    "            # as padding must be ignored\n",
    "            mask = (labels != lab2idx[pad_token])\n",
    "            \n",
    "            log_likelihood = model.crf(predicted_labels, labels, mask=mask)\n",
    "            # Predictions\n",
    "            viterbi_pred = flat_list(model.crf.viterbi_decode(predicted_labels, mask=mask))        \n",
    "                \n",
    "                \n",
    "            # The log likelihood is not \"normalized\" \n",
    "            # (It is not reduced, for instance by mean, and it is negative)\n",
    "            loss = torch.mean(log_likelihood) * -1\n",
    "            \n",
    "        else:\n",
    "            predicted_labels = predicted_labels.view(-1, predicted_labels.shape[-1])\n",
    "            labels = labels.view(-1)\n",
    "            loss = criterion(predicted_labels, labels)\n",
    "            \n",
    "\n",
    "         # Backward  \n",
    "        loss.backward()\n",
    "        \n",
    "        # Gradient Clipping to prevent exploding gradients\n",
    "        if grad_clipping is not None:\n",
    "            torch.nn.utils.clip_grad_norm_(model.parameters(), grad_clipping)\n",
    "        \n",
    "        # Update weights \n",
    "        optimizer.step()\n",
    "        \n",
    "        running_loss += loss.item()\n",
    "\n",
    "    # Loss at the end of the epoch \n",
    "    return running_loss/len(dataloader), _"
   ]
  },
  {
   "cell_type": "code",
   "execution_count": 239,
   "id": "2d3b5fc0",
   "metadata": {},
   "outputs": [],
   "source": [
    "def evaluate(model: nn.Module, dataloader: DataLoader, \n",
    "             h_params: dict, criterion: torch.nn):\n",
    "    model.eval()\n",
    "    valid_loss = 0.0\n",
    "    f1_score = 0.0\n",
    "    viterbi_pred = None\n",
    "    \n",
    "    with torch.no_grad():\n",
    "        for idx, (labels, features, sentences_lengths, heads_features, dep_features) in enumerate(dataloader):\n",
    "            predicted_labels = model(features, sentences_lengths, heads_features, dep_features)\n",
    "            \n",
    "            if h_params['use_crf']:\n",
    "                # Mask for extracting the actual length of the predictions,\n",
    "                # as padding must be ignored\n",
    "                mask = (labels != lab2idx[pad_token])\n",
    "                log_likelihood = model.crf(predicted_labels, labels, mask=mask) \n",
    "                \n",
    "                viterbi_pred = flat_list(model.crf.viterbi_decode(predicted_labels, mask=mask))                        \n",
    "                \n",
    "                # The log likelihood is not \"normalized\" \n",
    "                # (It is not reduced, for instance by mean, and it is negative)\n",
    "                loss = torch.mean(log_likelihood) * -1\n",
    "\n",
    "                predicted_labels = predicted_labels.view(-1, predicted_labels.shape[-1])\n",
    "                labels = labels.view(-1)\n",
    "                \n",
    "\n",
    "            else:\n",
    "                predicted_labels = predicted_labels.view(-1, predicted_labels.shape[-1])\n",
    "                labels = labels.view(-1)\n",
    "                loss = criterion(predicted_labels, labels)\n",
    "                \n",
    "               \n",
    "            valid_loss += loss.item()\n",
    "            f1_score += compute_score(predicted_labels, labels, viterbi_pred)\n",
    "            \n",
    "    return valid_loss/len(dataloader), f1_score/len(dataloader)"
   ]
  },
  {
   "cell_type": "code",
   "execution_count": 241,
   "id": "38b7046a",
   "metadata": {
    "scrolled": true
   },
   "outputs": [
    {
     "name": "stdout",
     "output_type": "stream",
     "text": [
      "NER_DEP_Classifier(\n",
      "  (fast_embeddings): Embedding(20000, 300, padding_idx=0)\n",
      "  (glove_embeddings): Embedding(20000, 100, padding_idx=0)\n",
      "  (lstm): LSTM(850, 512, num_layers=3, batch_first=True, dropout=0.4, bidirectional=True)\n",
      "  (dropout): Dropout(p=0.4, inplace=False)\n",
      "  (concat): Linear(in_features=1024, out_features=1024, bias=True)\n",
      "  (classifier): Linear(in_features=1024, out_features=14, bias=True)\n",
      "  (relu): LeakyReLU(negative_slope=0.01)\n",
      "  (crf): CRF()\n",
      "  (embeddings_dep): Embedding(47, 50, padding_idx=0)\n",
      ")\n",
      "LR: 0.003000\n",
      "----------------------------------------------------------------------------------------------------\n",
      "| epoch   1/15 | time: 35.37s | train_loss: 10.461 | valid_loss: 4.789 | valid_f1_score: 0.480\n",
      "----------------------------------------------------------------------------------------------------\n",
      "LR: 0.003000\n",
      "----------------------------------------------------------------------------------------------------\n",
      "| epoch   2/15 | time: 35.41s | train_loss: 3.666 | valid_loss: 3.386 | valid_f1_score: 0.602\n",
      "----------------------------------------------------------------------------------------------------\n",
      "LR: 0.003000\n",
      "----------------------------------------------------------------------------------------------------\n",
      "| epoch   3/15 | time: 36.54s | train_loss: 2.505 | valid_loss: 2.935 | valid_f1_score: 0.639\n",
      "----------------------------------------------------------------------------------------------------\n",
      "LR: 0.003000\n",
      "----------------------------------------------------------------------------------------------------\n",
      "| epoch   4/15 | time: 37.35s | train_loss: 1.816 | valid_loss: 2.719 | valid_f1_score: 0.660\n",
      "----------------------------------------------------------------------------------------------------\n",
      "LR: 0.003000\n",
      "----------------------------------------------------------------------------------------------------\n",
      "| epoch   5/15 | time: 37.38s | train_loss: 1.387 | valid_loss: 2.726 | valid_f1_score: 0.660\n",
      "----------------------------------------------------------------------------------------------------\n",
      "-- Patience.\n",
      "\n",
      "LR: 0.000900\n",
      "----------------------------------------------------------------------------------------------------\n",
      "| epoch   6/15 | time: 37.56s | train_loss: 0.906 | valid_loss: 2.781 | valid_f1_score: 0.688\n",
      "----------------------------------------------------------------------------------------------------\n",
      "LR: 0.000900\n",
      "----------------------------------------------------------------------------------------------------\n",
      "| epoch   7/15 | time: 37.86s | train_loss: 0.698 | valid_loss: 3.001 | valid_f1_score: 0.691\n",
      "----------------------------------------------------------------------------------------------------\n",
      "LR: 0.000900\n",
      "----------------------------------------------------------------------------------------------------\n",
      "| epoch   8/15 | time: 37.57s | train_loss: 0.577 | valid_loss: 3.169 | valid_f1_score: 0.695\n",
      "----------------------------------------------------------------------------------------------------\n",
      "LR: 0.000900\n",
      "----------------------------------------------------------------------------------------------------\n",
      "| epoch   9/15 | time: 37.66s | train_loss: 0.495 | valid_loss: 3.296 | valid_f1_score: 0.692\n",
      "----------------------------------------------------------------------------------------------------\n",
      "-- Patience.\n",
      "\n",
      "LR: 0.000900\n",
      "----------------------------------------------------------------------------------------------------\n",
      "| epoch  10/15 | time: 38.11s | train_loss: 0.429 | valid_loss: 3.334 | valid_f1_score: 0.703\n",
      "----------------------------------------------------------------------------------------------------\n",
      "LR: 0.000270\n",
      "----------------------------------------------------------------------------------------------------\n",
      "| epoch  11/15 | time: 37.85s | train_loss: 0.326 | valid_loss: 3.654 | valid_f1_score: 0.697\n",
      "----------------------------------------------------------------------------------------------------\n",
      "Early stop.\n"
     ]
    }
   ],
   "source": [
    "# Hyperparameters\n",
    "h_params = {\n",
    "#     'pos_vocab_size': len(pos2idx),\n",
    "#     'pos_embed_dim': 100,\n",
    "#     'pos_dep_lstm_hidden_dim': 200,\n",
    "    'dep_vocab_size': len(dep_vocab),\n",
    "    'dep_embed_dim': 50,\n",
    "    'vocab_size': len(vocab),\n",
    "    'fast_embed_dim': 300,\n",
    "    'freeze_fast': True,\n",
    "    'glove_embed_dim': 100,\n",
    "    'freeze_glove': False,\n",
    "    'lstm_hidden_dim': 512, \n",
    "    'num_classes': len(lab2idx),\n",
    "    'fast_embeddings': fast_pretrained_embeddings,\n",
    "    'glove_embeddings': glove_pretrained_embeddings,\n",
    "    'bidirectional': True,\n",
    "    'num_layers': 3,\n",
    "    'dropout': 0.4,\n",
    "    'use_crf': True,  # set to true to test with the Conditional Random Field\n",
    "}\n",
    "\n",
    "epochs = 15 # number of epochs\n",
    "lr = 0.003 # learning rate \n",
    "bacth_size = 128 # batch size \n",
    "grad_clipping = 0.7 # for clipping gradients   \n",
    "\n",
    "model = NER_DEP_Classifier(h_params).to(device)\n",
    "print(model)\n",
    "\n",
    "                                            # ignore the padding class\n",
    "criterion = torch.nn.CrossEntropyLoss(ignore_index=lab2idx[pad_token]).to(device)\n",
    "# optimizer = torch.optim.SGD(model.parameters(), lr=lr, momentum=0.95)\n",
    "optimizer = torch.optim.Adam(model.parameters(), lr=lr)\n",
    "# scheduler = None\n",
    "scheduler = torch.optim.lr_scheduler.StepLR(optimizer, step_size=5, gamma=0.3)\n",
    "# scheduler = torch.optim.lr_scheduler.MultiStepLR(optimizer, milestones=[6, 9, 13, 20, 22], gamma=0.1)\n",
    "\n",
    "\n",
    "train_dataloader = DataLoader(train_dataset, batch_size=bacth_size, \n",
    "                              collate_fn=collate_batch, shuffle=True)\n",
    "valid_dataloader = DataLoader(valid_dataset, batch_size=bacth_size, \n",
    "                              collate_fn=collate_batch, shuffle=False)\n",
    "\n",
    "histories = train_model(model, train_dataloader, valid_dataloader, h_params, \n",
    "                        optimizer, criterion, scheduler, grad_clipping, epochs,\n",
    "                        early_stopping=True, early_stopping_mode=\"max\", \n",
    "                        early_stopping_patience=2)"
   ]
  },
  {
   "cell_type": "code",
   "execution_count": null,
   "id": "5751ddf2",
   "metadata": {},
   "outputs": [],
   "source": []
  }
 ],
 "metadata": {
  "accelerator": "GPU",
  "colab": {
   "collapsed_sections": [
    "65d6397e"
   ],
   "name": "Finally.ipynb",
   "provenance": [
    {
     "file_id": "11EBMiFn7nJUUlvacAcVRD9UiQiHINzI0",
     "timestamp": 1648722356237
    }
   ]
  },
  "kernelspec": {
   "display_name": "Python 3.7 (DL)",
   "language": "python",
   "name": "dl"
  },
  "language_info": {
   "codemirror_mode": {
    "name": "ipython",
    "version": 3
   },
   "file_extension": ".py",
   "mimetype": "text/x-python",
   "name": "python",
   "nbconvert_exporter": "python",
   "pygments_lexer": "ipython3",
   "version": "3.7.13"
  }
 },
 "nbformat": 4,
 "nbformat_minor": 5
}
